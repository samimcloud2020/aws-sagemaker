{
  "cells": [
    {
      "cell_type": "markdown",
      "metadata": {
        "id": "M27qF7CTrBqc"
      },
      "source": [
        "# TASK #1: UNDERSTAND THE PROBLEM STATEMENT"
      ]
    },
    {
      "cell_type": "markdown",
      "metadata": {
        "id": "xNl52nl3qiyL"
      },
      "source": [
        "- The objective of this case study is to predict the employee salary based on the number of years of experience.\n",
        "- In simple linear regression, we predict the value of one variable Y based on another variable X.\n",
        "- X is called the independent variable and Y is called the dependant variable.\n",
        "- Why simple? Because it examines relationship between two variables only.\n",
        "- Why linear? when the independent variable increases (or decreases), the dependent variable increases (or decreases) in a linear fashion.\n"
      ]
    },
    {
      "cell_type": "markdown",
      "metadata": {
        "id": "zKmFmyaGunc7"
      },
      "source": [
        "# TASK #2: IMPORT LIBRARIES AND DATASETS"
      ]
    },
    {
      "cell_type": "code",
      "execution_count": 7,
      "metadata": {
        "id": "1b97SA0XAkuo"
      },
      "outputs": [],
      "source": [
        "# install seaborn library\n",
        "# !pip install seaborn\n",
        "# !pip install tensorflow\n",
        "import tensorflow as tf\n",
        "import pandas as pd\n",
        "import numpy as np\n",
        "import seaborn as sns\n",
        "import matplotlib.pyplot as plt\n"
      ]
    },
    {
      "cell_type": "code",
      "execution_count": 8,
      "metadata": {
        "id": "tjIiJdM4u1IE"
      },
      "outputs": [],
      "source": [
        "# read the csv file\n",
        "salary_df = pd.read_csv('salary.csv')"
      ]
    },
    {
      "cell_type": "code",
      "execution_count": 3,
      "metadata": {
        "colab": {
          "base_uri": "https://localhost:8080/",
          "height": 206
        },
        "id": "q4_wPDKCu5Uc",
        "outputId": "4c1d4d6b-9317-4d8d-e44e-e34cc6228840"
      },
      "outputs": [
        {
          "output_type": "execute_result",
          "data": {
            "text/plain": [
              "   YearsExperience  Salary\n",
              "0              1.1   39343\n",
              "1              1.3   46205\n",
              "2              1.5   37731\n",
              "3              2.0   43525\n",
              "4              2.2   39891"
            ],
            "text/html": [
              "\n",
              "  <div id=\"df-9b0e2dcb-4574-4c6c-a2f9-e9d90895eba7\" class=\"colab-df-container\">\n",
              "    <div>\n",
              "<style scoped>\n",
              "    .dataframe tbody tr th:only-of-type {\n",
              "        vertical-align: middle;\n",
              "    }\n",
              "\n",
              "    .dataframe tbody tr th {\n",
              "        vertical-align: top;\n",
              "    }\n",
              "\n",
              "    .dataframe thead th {\n",
              "        text-align: right;\n",
              "    }\n",
              "</style>\n",
              "<table border=\"1\" class=\"dataframe\">\n",
              "  <thead>\n",
              "    <tr style=\"text-align: right;\">\n",
              "      <th></th>\n",
              "      <th>YearsExperience</th>\n",
              "      <th>Salary</th>\n",
              "    </tr>\n",
              "  </thead>\n",
              "  <tbody>\n",
              "    <tr>\n",
              "      <th>0</th>\n",
              "      <td>1.1</td>\n",
              "      <td>39343</td>\n",
              "    </tr>\n",
              "    <tr>\n",
              "      <th>1</th>\n",
              "      <td>1.3</td>\n",
              "      <td>46205</td>\n",
              "    </tr>\n",
              "    <tr>\n",
              "      <th>2</th>\n",
              "      <td>1.5</td>\n",
              "      <td>37731</td>\n",
              "    </tr>\n",
              "    <tr>\n",
              "      <th>3</th>\n",
              "      <td>2.0</td>\n",
              "      <td>43525</td>\n",
              "    </tr>\n",
              "    <tr>\n",
              "      <th>4</th>\n",
              "      <td>2.2</td>\n",
              "      <td>39891</td>\n",
              "    </tr>\n",
              "  </tbody>\n",
              "</table>\n",
              "</div>\n",
              "    <div class=\"colab-df-buttons\">\n",
              "\n",
              "  <div class=\"colab-df-container\">\n",
              "    <button class=\"colab-df-convert\" onclick=\"convertToInteractive('df-9b0e2dcb-4574-4c6c-a2f9-e9d90895eba7')\"\n",
              "            title=\"Convert this dataframe to an interactive table.\"\n",
              "            style=\"display:none;\">\n",
              "\n",
              "  <svg xmlns=\"http://www.w3.org/2000/svg\" height=\"24px\" viewBox=\"0 -960 960 960\">\n",
              "    <path d=\"M120-120v-720h720v720H120Zm60-500h600v-160H180v160Zm220 220h160v-160H400v160Zm0 220h160v-160H400v160ZM180-400h160v-160H180v160Zm440 0h160v-160H620v160ZM180-180h160v-160H180v160Zm440 0h160v-160H620v160Z\"/>\n",
              "  </svg>\n",
              "    </button>\n",
              "\n",
              "  <style>\n",
              "    .colab-df-container {\n",
              "      display:flex;\n",
              "      gap: 12px;\n",
              "    }\n",
              "\n",
              "    .colab-df-convert {\n",
              "      background-color: #E8F0FE;\n",
              "      border: none;\n",
              "      border-radius: 50%;\n",
              "      cursor: pointer;\n",
              "      display: none;\n",
              "      fill: #1967D2;\n",
              "      height: 32px;\n",
              "      padding: 0 0 0 0;\n",
              "      width: 32px;\n",
              "    }\n",
              "\n",
              "    .colab-df-convert:hover {\n",
              "      background-color: #E2EBFA;\n",
              "      box-shadow: 0px 1px 2px rgba(60, 64, 67, 0.3), 0px 1px 3px 1px rgba(60, 64, 67, 0.15);\n",
              "      fill: #174EA6;\n",
              "    }\n",
              "\n",
              "    .colab-df-buttons div {\n",
              "      margin-bottom: 4px;\n",
              "    }\n",
              "\n",
              "    [theme=dark] .colab-df-convert {\n",
              "      background-color: #3B4455;\n",
              "      fill: #D2E3FC;\n",
              "    }\n",
              "\n",
              "    [theme=dark] .colab-df-convert:hover {\n",
              "      background-color: #434B5C;\n",
              "      box-shadow: 0px 1px 3px 1px rgba(0, 0, 0, 0.15);\n",
              "      filter: drop-shadow(0px 1px 2px rgba(0, 0, 0, 0.3));\n",
              "      fill: #FFFFFF;\n",
              "    }\n",
              "  </style>\n",
              "\n",
              "    <script>\n",
              "      const buttonEl =\n",
              "        document.querySelector('#df-9b0e2dcb-4574-4c6c-a2f9-e9d90895eba7 button.colab-df-convert');\n",
              "      buttonEl.style.display =\n",
              "        google.colab.kernel.accessAllowed ? 'block' : 'none';\n",
              "\n",
              "      async function convertToInteractive(key) {\n",
              "        const element = document.querySelector('#df-9b0e2dcb-4574-4c6c-a2f9-e9d90895eba7');\n",
              "        const dataTable =\n",
              "          await google.colab.kernel.invokeFunction('convertToInteractive',\n",
              "                                                    [key], {});\n",
              "        if (!dataTable) return;\n",
              "\n",
              "        const docLinkHtml = 'Like what you see? Visit the ' +\n",
              "          '<a target=\"_blank\" href=https://colab.research.google.com/notebooks/data_table.ipynb>data table notebook</a>'\n",
              "          + ' to learn more about interactive tables.';\n",
              "        element.innerHTML = '';\n",
              "        dataTable['output_type'] = 'display_data';\n",
              "        await google.colab.output.renderOutput(dataTable, element);\n",
              "        const docLink = document.createElement('div');\n",
              "        docLink.innerHTML = docLinkHtml;\n",
              "        element.appendChild(docLink);\n",
              "      }\n",
              "    </script>\n",
              "  </div>\n",
              "\n",
              "\n",
              "<div id=\"df-fad19011-18fc-4a09-918a-5b3e01c931c9\">\n",
              "  <button class=\"colab-df-quickchart\" onclick=\"quickchart('df-fad19011-18fc-4a09-918a-5b3e01c931c9')\"\n",
              "            title=\"Suggest charts\"\n",
              "            style=\"display:none;\">\n",
              "\n",
              "<svg xmlns=\"http://www.w3.org/2000/svg\" height=\"24px\"viewBox=\"0 0 24 24\"\n",
              "     width=\"24px\">\n",
              "    <g>\n",
              "        <path d=\"M19 3H5c-1.1 0-2 .9-2 2v14c0 1.1.9 2 2 2h14c1.1 0 2-.9 2-2V5c0-1.1-.9-2-2-2zM9 17H7v-7h2v7zm4 0h-2V7h2v10zm4 0h-2v-4h2v4z\"/>\n",
              "    </g>\n",
              "</svg>\n",
              "  </button>\n",
              "\n",
              "<style>\n",
              "  .colab-df-quickchart {\n",
              "      --bg-color: #E8F0FE;\n",
              "      --fill-color: #1967D2;\n",
              "      --hover-bg-color: #E2EBFA;\n",
              "      --hover-fill-color: #174EA6;\n",
              "      --disabled-fill-color: #AAA;\n",
              "      --disabled-bg-color: #DDD;\n",
              "  }\n",
              "\n",
              "  [theme=dark] .colab-df-quickchart {\n",
              "      --bg-color: #3B4455;\n",
              "      --fill-color: #D2E3FC;\n",
              "      --hover-bg-color: #434B5C;\n",
              "      --hover-fill-color: #FFFFFF;\n",
              "      --disabled-bg-color: #3B4455;\n",
              "      --disabled-fill-color: #666;\n",
              "  }\n",
              "\n",
              "  .colab-df-quickchart {\n",
              "    background-color: var(--bg-color);\n",
              "    border: none;\n",
              "    border-radius: 50%;\n",
              "    cursor: pointer;\n",
              "    display: none;\n",
              "    fill: var(--fill-color);\n",
              "    height: 32px;\n",
              "    padding: 0;\n",
              "    width: 32px;\n",
              "  }\n",
              "\n",
              "  .colab-df-quickchart:hover {\n",
              "    background-color: var(--hover-bg-color);\n",
              "    box-shadow: 0 1px 2px rgba(60, 64, 67, 0.3), 0 1px 3px 1px rgba(60, 64, 67, 0.15);\n",
              "    fill: var(--button-hover-fill-color);\n",
              "  }\n",
              "\n",
              "  .colab-df-quickchart-complete:disabled,\n",
              "  .colab-df-quickchart-complete:disabled:hover {\n",
              "    background-color: var(--disabled-bg-color);\n",
              "    fill: var(--disabled-fill-color);\n",
              "    box-shadow: none;\n",
              "  }\n",
              "\n",
              "  .colab-df-spinner {\n",
              "    border: 2px solid var(--fill-color);\n",
              "    border-color: transparent;\n",
              "    border-bottom-color: var(--fill-color);\n",
              "    animation:\n",
              "      spin 1s steps(1) infinite;\n",
              "  }\n",
              "\n",
              "  @keyframes spin {\n",
              "    0% {\n",
              "      border-color: transparent;\n",
              "      border-bottom-color: var(--fill-color);\n",
              "      border-left-color: var(--fill-color);\n",
              "    }\n",
              "    20% {\n",
              "      border-color: transparent;\n",
              "      border-left-color: var(--fill-color);\n",
              "      border-top-color: var(--fill-color);\n",
              "    }\n",
              "    30% {\n",
              "      border-color: transparent;\n",
              "      border-left-color: var(--fill-color);\n",
              "      border-top-color: var(--fill-color);\n",
              "      border-right-color: var(--fill-color);\n",
              "    }\n",
              "    40% {\n",
              "      border-color: transparent;\n",
              "      border-right-color: var(--fill-color);\n",
              "      border-top-color: var(--fill-color);\n",
              "    }\n",
              "    60% {\n",
              "      border-color: transparent;\n",
              "      border-right-color: var(--fill-color);\n",
              "    }\n",
              "    80% {\n",
              "      border-color: transparent;\n",
              "      border-right-color: var(--fill-color);\n",
              "      border-bottom-color: var(--fill-color);\n",
              "    }\n",
              "    90% {\n",
              "      border-color: transparent;\n",
              "      border-bottom-color: var(--fill-color);\n",
              "    }\n",
              "  }\n",
              "</style>\n",
              "\n",
              "  <script>\n",
              "    async function quickchart(key) {\n",
              "      const quickchartButtonEl =\n",
              "        document.querySelector('#' + key + ' button');\n",
              "      quickchartButtonEl.disabled = true;  // To prevent multiple clicks.\n",
              "      quickchartButtonEl.classList.add('colab-df-spinner');\n",
              "      try {\n",
              "        const charts = await google.colab.kernel.invokeFunction(\n",
              "            'suggestCharts', [key], {});\n",
              "      } catch (error) {\n",
              "        console.error('Error during call to suggestCharts:', error);\n",
              "      }\n",
              "      quickchartButtonEl.classList.remove('colab-df-spinner');\n",
              "      quickchartButtonEl.classList.add('colab-df-quickchart-complete');\n",
              "    }\n",
              "    (() => {\n",
              "      let quickchartButtonEl =\n",
              "        document.querySelector('#df-fad19011-18fc-4a09-918a-5b3e01c931c9 button');\n",
              "      quickchartButtonEl.style.display =\n",
              "        google.colab.kernel.accessAllowed ? 'block' : 'none';\n",
              "    })();\n",
              "  </script>\n",
              "</div>\n",
              "\n",
              "    </div>\n",
              "  </div>\n"
            ],
            "application/vnd.google.colaboratory.intrinsic+json": {
              "type": "dataframe",
              "variable_name": "salary_df",
              "summary": "{\n  \"name\": \"salary_df\",\n  \"rows\": 35,\n  \"fields\": [\n    {\n      \"column\": \"YearsExperience\",\n      \"properties\": {\n        \"dtype\": \"number\",\n        \"std\": 3.6186096963410934,\n        \"min\": 1.1,\n        \"max\": 13.5,\n        \"num_unique_values\": 33,\n        \"samples\": [\n          12.9,\n          5.3,\n          10.3\n        ],\n        \"semantic_type\": \"\",\n        \"description\": \"\"\n      }\n    },\n    {\n      \"column\": \"Salary\",\n      \"properties\": {\n        \"dtype\": \"number\",\n        \"std\": 32162,\n        \"min\": 37731,\n        \"max\": 139465,\n        \"num_unique_values\": 35,\n        \"samples\": [\n          116969,\n          57081,\n          109431\n        ],\n        \"semantic_type\": \"\",\n        \"description\": \"\"\n      }\n    }\n  ]\n}"
            }
          },
          "metadata": {},
          "execution_count": 3
        }
      ],
      "source": [
        "salary_df.head()"
      ]
    },
    {
      "cell_type": "markdown",
      "metadata": {
        "id": "sRA0omxBAkur"
      },
      "source": [
        "MINI CHALLENGE\n",
        " - Use head and tail methods to print the first and last 7 rows of the dataframe\n",
        " - Try to find the maximum salary value in the dataframe"
      ]
    },
    {
      "cell_type": "code",
      "execution_count": 3,
      "metadata": {
        "id": "o7L49WNBAkur"
      },
      "outputs": [],
      "source": []
    },
    {
      "cell_type": "markdown",
      "metadata": {
        "id": "tMcr7xqMQre2"
      },
      "source": [
        "# TASK #3: PERFORM EXPLORATORY DATA ANALYSIS AND VISUALIZATION"
      ]
    },
    {
      "cell_type": "code",
      "execution_count": 4,
      "metadata": {
        "colab": {
          "base_uri": "https://localhost:8080/",
          "height": 447
        },
        "id": "LY_QKMxbAkus",
        "outputId": "a09e8f56-ea07-4c6f-a58f-ede29ec44be8"
      },
      "outputs": [
        {
          "output_type": "execute_result",
          "data": {
            "text/plain": [
              "<Axes: >"
            ]
          },
          "metadata": {},
          "execution_count": 4
        },
        {
          "output_type": "display_data",
          "data": {
            "text/plain": [
              "<Figure size 640x480 with 1 Axes>"
            ],
            "image/png": "[encoded data removed]"
          },
          "metadata": {}
        }
      ],
      "source": [
        "# check if there are any Null values\n",
        "sns.heatmap(salary_df.isnull(), yticklabels = False, cbar = False, cmap=\"Blues\")\n"
      ]
    },
    {
      "cell_type": "code",
      "execution_count": 5,
      "metadata": {
        "colab": {
          "base_uri": "https://localhost:8080/"
        },
        "id": "hMq3-KWOx0e1",
        "outputId": "3e87bd85-8946-4f1a-8962-7a2dd8b6f468",
        "scrolled": true
      },
      "outputs": [
        {
          "output_type": "stream",
          "name": "stdout",
          "text": [
            "<class 'pandas.core.frame.DataFrame'>\n",
            "RangeIndex: 35 entries, 0 to 34\n",
            "Data columns (total 2 columns):\n",
            " #   Column           Non-Null Count  Dtype  \n",
            "---  ------           --------------  -----  \n",
            " 0   YearsExperience  35 non-null     float64\n",
            " 1   Salary           35 non-null     int64  \n",
            "dtypes: float64(1), int64(1)\n",
            "memory usage: 692.0 bytes\n"
          ]
        }
      ],
      "source": [
        "# Check the dataframe info\n",
        "\n",
        "salary_df.info()"
      ]
    },
    {
      "cell_type": "code",
      "execution_count": 6,
      "metadata": {
        "colab": {
          "base_uri": "https://localhost:8080/",
          "height": 300
        },
        "id": "Nn1Oxk2SzPX3",
        "outputId": "2b5c59c1-eaa4-4122-e4a6-a7395e6ec832"
      },
      "outputs": [
        {
          "output_type": "execute_result",
          "data": {
            "text/plain": [
              "       YearsExperience         Salary\n",
              "count        35.000000      35.000000\n",
              "mean          6.308571   83945.600000\n",
              "std           3.618610   32162.673003\n",
              "min           1.100000   37731.000000\n",
              "25%           3.450000   57019.000000\n",
              "50%           5.300000   81363.000000\n",
              "75%           9.250000  113223.500000\n",
              "max          13.500000  139465.000000"
            ],
            "text/html": [
              "\n",
              "  <div id=\"df-65a1af81-564b-4d89-a028-8df37f75e7b0\" class=\"colab-df-container\">\n",
              "    <div>\n",
              "<style scoped>\n",
              "    .dataframe tbody tr th:only-of-type {\n",
              "        vertical-align: middle;\n",
              "    }\n",
              "\n",
              "    .dataframe tbody tr th {\n",
              "        vertical-align: top;\n",
              "    }\n",
              "\n",
              "    .dataframe thead th {\n",
              "        text-align: right;\n",
              "    }\n",
              "</style>\n",
              "<table border=\"1\" class=\"dataframe\">\n",
              "  <thead>\n",
              "    <tr style=\"text-align: right;\">\n",
              "      <th></th>\n",
              "      <th>YearsExperience</th>\n",
              "      <th>Salary</th>\n",
              "    </tr>\n",
              "  </thead>\n",
              "  <tbody>\n",
              "    <tr>\n",
              "      <th>count</th>\n",
              "      <td>35.000000</td>\n",
              "      <td>35.000000</td>\n",
              "    </tr>\n",
              "    <tr>\n",
              "      <th>mean</th>\n",
              "      <td>6.308571</td>\n",
              "      <td>83945.600000</td>\n",
              "    </tr>\n",
              "    <tr>\n",
              "      <th>std</th>\n",
              "      <td>3.618610</td>\n",
              "      <td>32162.673003</td>\n",
              "    </tr>\n",
              "    <tr>\n",
              "      <th>min</th>\n",
              "      <td>1.100000</td>\n",
              "      <td>37731.000000</td>\n",
              "    </tr>\n",
              "    <tr>\n",
              "      <th>25%</th>\n",
              "      <td>3.450000</td>\n",
              "      <td>57019.000000</td>\n",
              "    </tr>\n",
              "    <tr>\n",
              "      <th>50%</th>\n",
              "      <td>5.300000</td>\n",
              "      <td>81363.000000</td>\n",
              "    </tr>\n",
              "    <tr>\n",
              "      <th>75%</th>\n",
              "      <td>9.250000</td>\n",
              "      <td>113223.500000</td>\n",
              "    </tr>\n",
              "    <tr>\n",
              "      <th>max</th>\n",
              "      <td>13.500000</td>\n",
              "      <td>139465.000000</td>\n",
              "    </tr>\n",
              "  </tbody>\n",
              "</table>\n",
              "</div>\n",
              "    <div class=\"colab-df-buttons\">\n",
              "\n",
              "  <div class=\"colab-df-container\">\n",
              "    <button class=\"colab-df-convert\" onclick=\"convertToInteractive('df-65a1af81-564b-4d89-a028-8df37f75e7b0')\"\n",
              "            title=\"Convert this dataframe to an interactive table.\"\n",
              "            style=\"display:none;\">\n",
              "\n",
              "  <svg xmlns=\"http://www.w3.org/2000/svg\" height=\"24px\" viewBox=\"0 -960 960 960\">\n",
              "    <path d=\"M120-120v-720h720v720H120Zm60-500h600v-160H180v160Zm220 220h160v-160H400v160Zm0 220h160v-160H400v160ZM180-400h160v-160H180v160Zm440 0h160v-160H620v160ZM180-180h160v-160H180v160Zm440 0h160v-160H620v160Z\"/>\n",
              "  </svg>\n",
              "    </button>\n",
              "\n",
              "  <style>\n",
              "    .colab-df-container {\n",
              "      display:flex;\n",
              "      gap: 12px;\n",
              "    }\n",
              "\n",
              "    .colab-df-convert {\n",
              "      background-color: #E8F0FE;\n",
              "      border: none;\n",
              "      border-radius: 50%;\n",
              "      cursor: pointer;\n",
              "      display: none;\n",
              "      fill: #1967D2;\n",
              "      height: 32px;\n",
              "      padding: 0 0 0 0;\n",
              "      width: 32px;\n",
              "    }\n",
              "\n",
              "    .colab-df-convert:hover {\n",
              "      background-color: #E2EBFA;\n",
              "      box-shadow: 0px 1px 2px rgba(60, 64, 67, 0.3), 0px 1px 3px 1px rgba(60, 64, 67, 0.15);\n",
              "      fill: #174EA6;\n",
              "    }\n",
              "\n",
              "    .colab-df-buttons div {\n",
              "      margin-bottom: 4px;\n",
              "    }\n",
              "\n",
              "    [theme=dark] .colab-df-convert {\n",
              "      background-color: #3B4455;\n",
              "      fill: #D2E3FC;\n",
              "    }\n",
              "\n",
              "    [theme=dark] .colab-df-convert:hover {\n",
              "      background-color: #434B5C;\n",
              "      box-shadow: 0px 1px 3px 1px rgba(0, 0, 0, 0.15);\n",
              "      filter: drop-shadow(0px 1px 2px rgba(0, 0, 0, 0.3));\n",
              "      fill: #FFFFFF;\n",
              "    }\n",
              "  </style>\n",
              "\n",
              "    <script>\n",
              "      const buttonEl =\n",
              "        document.querySelector('#df-65a1af81-564b-4d89-a028-8df37f75e7b0 button.colab-df-convert');\n",
              "      buttonEl.style.display =\n",
              "        google.colab.kernel.accessAllowed ? 'block' : 'none';\n",
              "\n",
              "      async function convertToInteractive(key) {\n",
              "        const element = document.querySelector('#df-65a1af81-564b-4d89-a028-8df37f75e7b0');\n",
              "        const dataTable =\n",
              "          await google.colab.kernel.invokeFunction('convertToInteractive',\n",
              "                                                    [key], {});\n",
              "        if (!dataTable) return;\n",
              "\n",
              "        const docLinkHtml = 'Like what you see? Visit the ' +\n",
              "          '<a target=\"_blank\" href=https://colab.research.google.com/notebooks/data_table.ipynb>data table notebook</a>'\n",
              "          + ' to learn more about interactive tables.';\n",
              "        element.innerHTML = '';\n",
              "        dataTable['output_type'] = 'display_data';\n",
              "        await google.colab.output.renderOutput(dataTable, element);\n",
              "        const docLink = document.createElement('div');\n",
              "        docLink.innerHTML = docLinkHtml;\n",
              "        element.appendChild(docLink);\n",
              "      }\n",
              "    </script>\n",
              "  </div>\n",
              "\n",
              "\n",
              "<div id=\"df-011a54c6-10f8-470d-80ad-823142196aab\">\n",
              "  <button class=\"colab-df-quickchart\" onclick=\"quickchart('df-011a54c6-10f8-470d-80ad-823142196aab')\"\n",
              "            title=\"Suggest charts\"\n",
              "            style=\"display:none;\">\n",
              "\n",
              "<svg xmlns=\"http://www.w3.org/2000/svg\" height=\"24px\"viewBox=\"0 0 24 24\"\n",
              "     width=\"24px\">\n",
              "    <g>\n",
              "        <path d=\"M19 3H5c-1.1 0-2 .9-2 2v14c0 1.1.9 2 2 2h14c1.1 0 2-.9 2-2V5c0-1.1-.9-2-2-2zM9 17H7v-7h2v7zm4 0h-2V7h2v10zm4 0h-2v-4h2v4z\"/>\n",
              "    </g>\n",
              "</svg>\n",
              "  </button>\n",
              "\n",
              "<style>\n",
              "  .colab-df-quickchart {\n",
              "      --bg-color: #E8F0FE;\n",
              "      --fill-color: #1967D2;\n",
              "      --hover-bg-color: #E2EBFA;\n",
              "      --hover-fill-color: #174EA6;\n",
              "      --disabled-fill-color: #AAA;\n",
              "      --disabled-bg-color: #DDD;\n",
              "  }\n",
              "\n",
              "  [theme=dark] .colab-df-quickchart {\n",
              "      --bg-color: #3B4455;\n",
              "      --fill-color: #D2E3FC;\n",
              "      --hover-bg-color: #434B5C;\n",
              "      --hover-fill-color: #FFFFFF;\n",
              "      --disabled-bg-color: #3B4455;\n",
              "      --disabled-fill-color: #666;\n",
              "  }\n",
              "\n",
              "  .colab-df-quickchart {\n",
              "    background-color: var(--bg-color);\n",
              "    border: none;\n",
              "    border-radius: 50%;\n",
              "    cursor: pointer;\n",
              "    display: none;\n",
              "    fill: var(--fill-color);\n",
              "    height: 32px;\n",
              "    padding: 0;\n",
              "    width: 32px;\n",
              "  }\n",
              "\n",
              "  .colab-df-quickchart:hover {\n",
              "    background-color: var(--hover-bg-color);\n",
              "    box-shadow: 0 1px 2px rgba(60, 64, 67, 0.3), 0 1px 3px 1px rgba(60, 64, 67, 0.15);\n",
              "    fill: var(--button-hover-fill-color);\n",
              "  }\n",
              "\n",
              "  .colab-df-quickchart-complete:disabled,\n",
              "  .colab-df-quickchart-complete:disabled:hover {\n",
              "    background-color: var(--disabled-bg-color);\n",
              "    fill: var(--disabled-fill-color);\n",
              "    box-shadow: none;\n",
              "  }\n",
              "\n",
              "  .colab-df-spinner {\n",
              "    border: 2px solid var(--fill-color);\n",
              "    border-color: transparent;\n",
              "    border-bottom-color: var(--fill-color);\n",
              "    animation:\n",
              "      spin 1s steps(1) infinite;\n",
              "  }\n",
              "\n",
              "  @keyframes spin {\n",
              "    0% {\n",
              "      border-color: transparent;\n",
              "      border-bottom-color: var(--fill-color);\n",
              "      border-left-color: var(--fill-color);\n",
              "    }\n",
              "    20% {\n",
              "      border-color: transparent;\n",
              "      border-left-color: var(--fill-color);\n",
              "      border-top-color: var(--fill-color);\n",
              "    }\n",
              "    30% {\n",
              "      border-color: transparent;\n",
              "      border-left-color: var(--fill-color);\n",
              "      border-top-color: var(--fill-color);\n",
              "      border-right-color: var(--fill-color);\n",
              "    }\n",
              "    40% {\n",
              "      border-color: transparent;\n",
              "      border-right-color: var(--fill-color);\n",
              "      border-top-color: var(--fill-color);\n",
              "    }\n",
              "    60% {\n",
              "      border-color: transparent;\n",
              "      border-right-color: var(--fill-color);\n",
              "    }\n",
              "    80% {\n",
              "      border-color: transparent;\n",
              "      border-right-color: var(--fill-color);\n",
              "      border-bottom-color: var(--fill-color);\n",
              "    }\n",
              "    90% {\n",
              "      border-color: transparent;\n",
              "      border-bottom-color: var(--fill-color);\n",
              "    }\n",
              "  }\n",
              "</style>\n",
              "\n",
              "  <script>\n",
              "    async function quickchart(key) {\n",
              "      const quickchartButtonEl =\n",
              "        document.querySelector('#' + key + ' button');\n",
              "      quickchartButtonEl.disabled = true;  // To prevent multiple clicks.\n",
              "      quickchartButtonEl.classList.add('colab-df-spinner');\n",
              "      try {\n",
              "        const charts = await google.colab.kernel.invokeFunction(\n",
              "            'suggestCharts', [key], {});\n",
              "      } catch (error) {\n",
              "        console.error('Error during call to suggestCharts:', error);\n",
              "      }\n",
              "      quickchartButtonEl.classList.remove('colab-df-spinner');\n",
              "      quickchartButtonEl.classList.add('colab-df-quickchart-complete');\n",
              "    }\n",
              "    (() => {\n",
              "      let quickchartButtonEl =\n",
              "        document.querySelector('#df-011a54c6-10f8-470d-80ad-823142196aab button');\n",
              "      quickchartButtonEl.style.display =\n",
              "        google.colab.kernel.accessAllowed ? 'block' : 'none';\n",
              "    })();\n",
              "  </script>\n",
              "</div>\n",
              "\n",
              "    </div>\n",
              "  </div>\n"
            ],
            "application/vnd.google.colaboratory.intrinsic+json": {
              "type": "dataframe",
              "summary": "{\n  \"name\": \"salary_df\",\n  \"rows\": 8,\n  \"fields\": [\n    {\n      \"column\": \"YearsExperience\",\n      \"properties\": {\n        \"dtype\": \"number\",\n        \"std\": 10.925719544509692,\n        \"min\": 1.1,\n        \"max\": 35.0,\n        \"num_unique_values\": 8,\n        \"samples\": [\n          6.30857142857143,\n          5.3,\n          35.0\n        ],\n        \"semantic_type\": \"\",\n        \"description\": \"\"\n      }\n    },\n    {\n      \"column\": \"Salary\",\n      \"properties\": {\n        \"dtype\": \"number\",\n        \"std\": 45552.92288626562,\n        \"min\": 35.0,\n        \"max\": 139465.0,\n        \"num_unique_values\": 8,\n        \"samples\": [\n          83945.6,\n          81363.0,\n          35.0\n        ],\n        \"semantic_type\": \"\",\n        \"description\": \"\"\n      }\n    }\n  ]\n}"
            }
          },
          "metadata": {},
          "execution_count": 6
        }
      ],
      "source": [
        "# Statistical summary of the dataframe\n",
        "\n",
        "salary_df.describe()"
      ]
    },
    {
      "cell_type": "markdown",
      "metadata": {
        "id": "issR4IvoAkut"
      },
      "source": [
        "MINI CHALLENGE\n",
        " - What are the number of years of experience corresponding to employees with minimum and maximim salaries?"
      ]
    },
    {
      "cell_type": "code",
      "execution_count": 6,
      "metadata": {
        "id": "DH8CkIR_Akut"
      },
      "outputs": [],
      "source": []
    },
    {
      "cell_type": "code",
      "execution_count": 7,
      "metadata": {
        "colab": {
          "base_uri": "https://localhost:8080/",
          "height": 790
        },
        "id": "jqe70Z34Akut",
        "outputId": "003402bb-f42e-49ad-b18d-1fa227d61378"
      },
      "outputs": [
        {
          "output_type": "execute_result",
          "data": {
            "text/plain": [
              "array([[<Axes: title={'center': 'YearsExperience'}>,\n",
              "        <Axes: title={'center': 'Salary'}>]], dtype=object)"
            ]
          },
          "metadata": {},
          "execution_count": 7
        },
        {
          "output_type": "display_data",
          "data": {
            "text/plain": [
              "<Figure size 2000x1000 with 2 Axes>"
            ],
            "image/png": "[encoded data removed]"
          },
          "metadata": {}
        }
      ],
      "source": [
        "salary_df.hist(bins = 30, figsize = (20,10), color = 'b')\n"
      ]
    },
    {
      "cell_type": "code",
      "execution_count": 8,
      "metadata": {
        "colab": {
          "base_uri": "https://localhost:8080/",
          "height": 530
        },
        "id": "Ka9uFRXSkWHw",
        "outputId": "b7babec0-47ae-4e91-e8ee-710ff41ee758"
      },
      "outputs": [
        {
          "output_type": "execute_result",
          "data": {
            "text/plain": [
              "<seaborn.axisgrid.PairGrid at 0x786792b403d0>"
            ]
          },
          "metadata": {},
          "execution_count": 8
        },
        {
          "output_type": "display_data",
          "data": {
            "text/plain": [
              "<Figure size 500x500 with 6 Axes>"
            ],
            "image/png": "[encoded data removed]"
          },
          "metadata": {}
        }
      ],
      "source": [
        "# plot pairplot\n",
        "\n",
        "sns.pairplot(salary_df)"
      ]
    },
    {
      "cell_type": "code",
      "execution_count": 9,
      "metadata": {
        "colab": {
          "base_uri": "https://localhost:8080/",
          "height": 435
        },
        "id": "9q-tFxvskWDa",
        "outputId": "52ce38f9-75b6-443b-edfb-083034939c32"
      },
      "outputs": [
        {
          "output_type": "display_data",
          "data": {
            "text/plain": [
              "<Figure size 640x480 with 2 Axes>"
            ],
            "image/png": "[encoded data removed]"
          },
          "metadata": {}
        }
      ],
      "source": [
        "corr_matrix = salary_df.corr()\n",
        "sns.heatmap(corr_matrix, annot = True)\n",
        "plt.show()"
      ]
    },
    {
      "cell_type": "markdown",
      "metadata": {
        "id": "1C65Gry7Akuu"
      },
      "source": [
        "MINI CHALLENGE\n",
        "- Use regplot in Seaborn to obtain a straight line fit between \"salary\" and \"years of experience\""
      ]
    },
    {
      "cell_type": "code",
      "execution_count": 9,
      "metadata": {
        "id": "udDlyj7bAkuu"
      },
      "outputs": [],
      "source": []
    },
    {
      "cell_type": "markdown",
      "metadata": {
        "id": "53qDZFRn3-S1"
      },
      "source": [
        "# TASK #4: CREATE TRAINING AND TESTING DATASET"
      ]
    },
    {
      "cell_type": "code",
      "execution_count": 9,
      "metadata": {
        "id": "4OXZB2F21e4H"
      },
      "outputs": [],
      "source": [
        "X = salary_df[['YearsExperience']]\n",
        "y = salary_df[['Salary']]\n"
      ]
    },
    {
      "cell_type": "code",
      "execution_count": 11,
      "metadata": {
        "scrolled": true,
        "colab": {
          "base_uri": "https://localhost:8080/",
          "height": 206
        },
        "id": "fjfuqLi8Akuu",
        "outputId": "c9829955-f97d-41f8-ffd9-e1c7dc07b4a6"
      },
      "outputs": [
        {
          "output_type": "execute_result",
          "data": {
            "text/plain": [
              "   YearsExperience\n",
              "0              1.1\n",
              "1              1.3\n",
              "2              1.5\n",
              "3              2.0\n",
              "4              2.2"
            ],
            "text/html": [
              "\n",
              "  <div id=\"df-781655c1-9b6d-4f48-899c-c9181a913529\" class=\"colab-df-container\">\n",
              "    <div>\n",
              "<style scoped>\n",
              "    .dataframe tbody tr th:only-of-type {\n",
              "        vertical-align: middle;\n",
              "    }\n",
              "\n",
              "    .dataframe tbody tr th {\n",
              "        vertical-align: top;\n",
              "    }\n",
              "\n",
              "    .dataframe thead th {\n",
              "        text-align: right;\n",
              "    }\n",
              "</style>\n",
              "<table border=\"1\" class=\"dataframe\">\n",
              "  <thead>\n",
              "    <tr style=\"text-align: right;\">\n",
              "      <th></th>\n",
              "      <th>YearsExperience</th>\n",
              "    </tr>\n",
              "  </thead>\n",
              "  <tbody>\n",
              "    <tr>\n",
              "      <th>0</th>\n",
              "      <td>1.1</td>\n",
              "    </tr>\n",
              "    <tr>\n",
              "      <th>1</th>\n",
              "      <td>1.3</td>\n",
              "    </tr>\n",
              "    <tr>\n",
              "      <th>2</th>\n",
              "      <td>1.5</td>\n",
              "    </tr>\n",
              "    <tr>\n",
              "      <th>3</th>\n",
              "      <td>2.0</td>\n",
              "    </tr>\n",
              "    <tr>\n",
              "      <th>4</th>\n",
              "      <td>2.2</td>\n",
              "    </tr>\n",
              "  </tbody>\n",
              "</table>\n",
              "</div>\n",
              "    <div class=\"colab-df-buttons\">\n",
              "\n",
              "  <div class=\"colab-df-container\">\n",
              "    <button class=\"colab-df-convert\" onclick=\"convertToInteractive('df-781655c1-9b6d-4f48-899c-c9181a913529')\"\n",
              "            title=\"Convert this dataframe to an interactive table.\"\n",
              "            style=\"display:none;\">\n",
              "\n",
              "  <svg xmlns=\"http://www.w3.org/2000/svg\" height=\"24px\" viewBox=\"0 -960 960 960\">\n",
              "    <path d=\"M120-120v-720h720v720H120Zm60-500h600v-160H180v160Zm220 220h160v-160H400v160Zm0 220h160v-160H400v160ZM180-400h160v-160H180v160Zm440 0h160v-160H620v160ZM180-180h160v-160H180v160Zm440 0h160v-160H620v160Z\"/>\n",
              "  </svg>\n",
              "    </button>\n",
              "\n",
              "  <style>\n",
              "    .colab-df-container {\n",
              "      display:flex;\n",
              "      gap: 12px;\n",
              "    }\n",
              "\n",
              "    .colab-df-convert {\n",
              "      background-color: #E8F0FE;\n",
              "      border: none;\n",
              "      border-radius: 50%;\n",
              "      cursor: pointer;\n",
              "      display: none;\n",
              "      fill: #1967D2;\n",
              "      height: 32px;\n",
              "      padding: 0 0 0 0;\n",
              "      width: 32px;\n",
              "    }\n",
              "\n",
              "    .colab-df-convert:hover {\n",
              "      background-color: #E2EBFA;\n",
              "      box-shadow: 0px 1px 2px rgba(60, 64, 67, 0.3), 0px 1px 3px 1px rgba(60, 64, 67, 0.15);\n",
              "      fill: #174EA6;\n",
              "    }\n",
              "\n",
              "    .colab-df-buttons div {\n",
              "      margin-bottom: 4px;\n",
              "    }\n",
              "\n",
              "    [theme=dark] .colab-df-convert {\n",
              "      background-color: #3B4455;\n",
              "      fill: #D2E3FC;\n",
              "    }\n",
              "\n",
              "    [theme=dark] .colab-df-convert:hover {\n",
              "      background-color: #434B5C;\n",
              "      box-shadow: 0px 1px 3px 1px rgba(0, 0, 0, 0.15);\n",
              "      filter: drop-shadow(0px 1px 2px rgba(0, 0, 0, 0.3));\n",
              "      fill: #FFFFFF;\n",
              "    }\n",
              "  </style>\n",
              "\n",
              "    <script>\n",
              "      const buttonEl =\n",
              "        document.querySelector('#df-781655c1-9b6d-4f48-899c-c9181a913529 button.colab-df-convert');\n",
              "      buttonEl.style.display =\n",
              "        google.colab.kernel.accessAllowed ? 'block' : 'none';\n",
              "\n",
              "      async function convertToInteractive(key) {\n",
              "        const element = document.querySelector('#df-781655c1-9b6d-4f48-899c-c9181a913529');\n",
              "        const dataTable =\n",
              "          await google.colab.kernel.invokeFunction('convertToInteractive',\n",
              "                                                    [key], {});\n",
              "        if (!dataTable) return;\n",
              "\n",
              "        const docLinkHtml = 'Like what you see? Visit the ' +\n",
              "          '<a target=\"_blank\" href=https://colab.research.google.com/notebooks/data_table.ipynb>data table notebook</a>'\n",
              "          + ' to learn more about interactive tables.';\n",
              "        element.innerHTML = '';\n",
              "        dataTable['output_type'] = 'display_data';\n",
              "        await google.colab.output.renderOutput(dataTable, element);\n",
              "        const docLink = document.createElement('div');\n",
              "        docLink.innerHTML = docLinkHtml;\n",
              "        element.appendChild(docLink);\n",
              "      }\n",
              "    </script>\n",
              "  </div>\n",
              "\n",
              "\n",
              "<div id=\"df-d759979b-9b5d-4e4b-b8f4-c53872c7afef\">\n",
              "  <button class=\"colab-df-quickchart\" onclick=\"quickchart('df-d759979b-9b5d-4e4b-b8f4-c53872c7afef')\"\n",
              "            title=\"Suggest charts\"\n",
              "            style=\"display:none;\">\n",
              "\n",
              "<svg xmlns=\"http://www.w3.org/2000/svg\" height=\"24px\"viewBox=\"0 0 24 24\"\n",
              "     width=\"24px\">\n",
              "    <g>\n",
              "        <path d=\"M19 3H5c-1.1 0-2 .9-2 2v14c0 1.1.9 2 2 2h14c1.1 0 2-.9 2-2V5c0-1.1-.9-2-2-2zM9 17H7v-7h2v7zm4 0h-2V7h2v10zm4 0h-2v-4h2v4z\"/>\n",
              "    </g>\n",
              "</svg>\n",
              "  </button>\n",
              "\n",
              "<style>\n",
              "  .colab-df-quickchart {\n",
              "      --bg-color: #E8F0FE;\n",
              "      --fill-color: #1967D2;\n",
              "      --hover-bg-color: #E2EBFA;\n",
              "      --hover-fill-color: #174EA6;\n",
              "      --disabled-fill-color: #AAA;\n",
              "      --disabled-bg-color: #DDD;\n",
              "  }\n",
              "\n",
              "  [theme=dark] .colab-df-quickchart {\n",
              "      --bg-color: #3B4455;\n",
              "      --fill-color: #D2E3FC;\n",
              "      --hover-bg-color: #434B5C;\n",
              "      --hover-fill-color: #FFFFFF;\n",
              "      --disabled-bg-color: #3B4455;\n",
              "      --disabled-fill-color: #666;\n",
              "  }\n",
              "\n",
              "  .colab-df-quickchart {\n",
              "    background-color: var(--bg-color);\n",
              "    border: none;\n",
              "    border-radius: 50%;\n",
              "    cursor: pointer;\n",
              "    display: none;\n",
              "    fill: var(--fill-color);\n",
              "    height: 32px;\n",
              "    padding: 0;\n",
              "    width: 32px;\n",
              "  }\n",
              "\n",
              "  .colab-df-quickchart:hover {\n",
              "    background-color: var(--hover-bg-color);\n",
              "    box-shadow: 0 1px 2px rgba(60, 64, 67, 0.3), 0 1px 3px 1px rgba(60, 64, 67, 0.15);\n",
              "    fill: var(--button-hover-fill-color);\n",
              "  }\n",
              "\n",
              "  .colab-df-quickchart-complete:disabled,\n",
              "  .colab-df-quickchart-complete:disabled:hover {\n",
              "    background-color: var(--disabled-bg-color);\n",
              "    fill: var(--disabled-fill-color);\n",
              "    box-shadow: none;\n",
              "  }\n",
              "\n",
              "  .colab-df-spinner {\n",
              "    border: 2px solid var(--fill-color);\n",
              "    border-color: transparent;\n",
              "    border-bottom-color: var(--fill-color);\n",
              "    animation:\n",
              "      spin 1s steps(1) infinite;\n",
              "  }\n",
              "\n",
              "  @keyframes spin {\n",
              "    0% {\n",
              "      border-color: transparent;\n",
              "      border-bottom-color: var(--fill-color);\n",
              "      border-left-color: var(--fill-color);\n",
              "    }\n",
              "    20% {\n",
              "      border-color: transparent;\n",
              "      border-left-color: var(--fill-color);\n",
              "      border-top-color: var(--fill-color);\n",
              "    }\n",
              "    30% {\n",
              "      border-color: transparent;\n",
              "      border-left-color: var(--fill-color);\n",
              "      border-top-color: var(--fill-color);\n",
              "      border-right-color: var(--fill-color);\n",
              "    }\n",
              "    40% {\n",
              "      border-color: transparent;\n",
              "      border-right-color: var(--fill-color);\n",
              "      border-top-color: var(--fill-color);\n",
              "    }\n",
              "    60% {\n",
              "      border-color: transparent;\n",
              "      border-right-color: var(--fill-color);\n",
              "    }\n",
              "    80% {\n",
              "      border-color: transparent;\n",
              "      border-right-color: var(--fill-color);\n",
              "      border-bottom-color: var(--fill-color);\n",
              "    }\n",
              "    90% {\n",
              "      border-color: transparent;\n",
              "      border-bottom-color: var(--fill-color);\n",
              "    }\n",
              "  }\n",
              "</style>\n",
              "\n",
              "  <script>\n",
              "    async function quickchart(key) {\n",
              "      const quickchartButtonEl =\n",
              "        document.querySelector('#' + key + ' button');\n",
              "      quickchartButtonEl.disabled = true;  // To prevent multiple clicks.\n",
              "      quickchartButtonEl.classList.add('colab-df-spinner');\n",
              "      try {\n",
              "        const charts = await google.colab.kernel.invokeFunction(\n",
              "            'suggestCharts', [key], {});\n",
              "      } catch (error) {\n",
              "        console.error('Error during call to suggestCharts:', error);\n",
              "      }\n",
              "      quickchartButtonEl.classList.remove('colab-df-spinner');\n",
              "      quickchartButtonEl.classList.add('colab-df-quickchart-complete');\n",
              "    }\n",
              "    (() => {\n",
              "      let quickchartButtonEl =\n",
              "        document.querySelector('#df-d759979b-9b5d-4e4b-b8f4-c53872c7afef button');\n",
              "      quickchartButtonEl.style.display =\n",
              "        google.colab.kernel.accessAllowed ? 'block' : 'none';\n",
              "    })();\n",
              "  </script>\n",
              "</div>\n",
              "\n",
              "    </div>\n",
              "  </div>\n"
            ],
            "application/vnd.google.colaboratory.intrinsic+json": {
              "type": "dataframe",
              "variable_name": "X",
              "summary": "{\n  \"name\": \"X\",\n  \"rows\": 35,\n  \"fields\": [\n    {\n      \"column\": \"YearsExperience\",\n      \"properties\": {\n        \"dtype\": \"number\",\n        \"std\": 3.6186096963410934,\n        \"min\": 1.1,\n        \"max\": 13.5,\n        \"num_unique_values\": 33,\n        \"samples\": [\n          12.9,\n          5.3,\n          10.3\n        ],\n        \"semantic_type\": \"\",\n        \"description\": \"\"\n      }\n    }\n  ]\n}"
            }
          },
          "metadata": {},
          "execution_count": 11
        }
      ],
      "source": [
        "X.head()"
      ]
    },
    {
      "cell_type": "code",
      "execution_count": 12,
      "metadata": {
        "colab": {
          "base_uri": "https://localhost:8080/",
          "height": 206
        },
        "id": "IjwmWKrKAkuu",
        "outputId": "9a46cbe6-cee9-40f9-c11b-83e136ef32a4"
      },
      "outputs": [
        {
          "output_type": "execute_result",
          "data": {
            "text/plain": [
              "   Salary\n",
              "0   39343\n",
              "1   46205\n",
              "2   37731\n",
              "3   43525\n",
              "4   39891"
            ],
            "text/html": [
              "\n",
              "  <div id=\"df-11357354-88d9-4a1c-b809-920fad042c6d\" class=\"colab-df-container\">\n",
              "    <div>\n",
              "<style scoped>\n",
              "    .dataframe tbody tr th:only-of-type {\n",
              "        vertical-align: middle;\n",
              "    }\n",
              "\n",
              "    .dataframe tbody tr th {\n",
              "        vertical-align: top;\n",
              "    }\n",
              "\n",
              "    .dataframe thead th {\n",
              "        text-align: right;\n",
              "    }\n",
              "</style>\n",
              "<table border=\"1\" class=\"dataframe\">\n",
              "  <thead>\n",
              "    <tr style=\"text-align: right;\">\n",
              "      <th></th>\n",
              "      <th>Salary</th>\n",
              "    </tr>\n",
              "  </thead>\n",
              "  <tbody>\n",
              "    <tr>\n",
              "      <th>0</th>\n",
              "      <td>39343</td>\n",
              "    </tr>\n",
              "    <tr>\n",
              "      <th>1</th>\n",
              "      <td>46205</td>\n",
              "    </tr>\n",
              "    <tr>\n",
              "      <th>2</th>\n",
              "      <td>37731</td>\n",
              "    </tr>\n",
              "    <tr>\n",
              "      <th>3</th>\n",
              "      <td>43525</td>\n",
              "    </tr>\n",
              "    <tr>\n",
              "      <th>4</th>\n",
              "      <td>39891</td>\n",
              "    </tr>\n",
              "  </tbody>\n",
              "</table>\n",
              "</div>\n",
              "    <div class=\"colab-df-buttons\">\n",
              "\n",
              "  <div class=\"colab-df-container\">\n",
              "    <button class=\"colab-df-convert\" onclick=\"convertToInteractive('df-11357354-88d9-4a1c-b809-920fad042c6d')\"\n",
              "            title=\"Convert this dataframe to an interactive table.\"\n",
              "            style=\"display:none;\">\n",
              "\n",
              "  <svg xmlns=\"http://www.w3.org/2000/svg\" height=\"24px\" viewBox=\"0 -960 960 960\">\n",
              "    <path d=\"M120-120v-720h720v720H120Zm60-500h600v-160H180v160Zm220 220h160v-160H400v160Zm0 220h160v-160H400v160ZM180-400h160v-160H180v160Zm440 0h160v-160H620v160ZM180-180h160v-160H180v160Zm440 0h160v-160H620v160Z\"/>\n",
              "  </svg>\n",
              "    </button>\n",
              "\n",
              "  <style>\n",
              "    .colab-df-container {\n",
              "      display:flex;\n",
              "      gap: 12px;\n",
              "    }\n",
              "\n",
              "    .colab-df-convert {\n",
              "      background-color: #E8F0FE;\n",
              "      border: none;\n",
              "      border-radius: 50%;\n",
              "      cursor: pointer;\n",
              "      display: none;\n",
              "      fill: #1967D2;\n",
              "      height: 32px;\n",
              "      padding: 0 0 0 0;\n",
              "      width: 32px;\n",
              "    }\n",
              "\n",
              "    .colab-df-convert:hover {\n",
              "      background-color: #E2EBFA;\n",
              "      box-shadow: 0px 1px 2px rgba(60, 64, 67, 0.3), 0px 1px 3px 1px rgba(60, 64, 67, 0.15);\n",
              "      fill: #174EA6;\n",
              "    }\n",
              "\n",
              "    .colab-df-buttons div {\n",
              "      margin-bottom: 4px;\n",
              "    }\n",
              "\n",
              "    [theme=dark] .colab-df-convert {\n",
              "      background-color: #3B4455;\n",
              "      fill: #D2E3FC;\n",
              "    }\n",
              "\n",
              "    [theme=dark] .colab-df-convert:hover {\n",
              "      background-color: #434B5C;\n",
              "      box-shadow: 0px 1px 3px 1px rgba(0, 0, 0, 0.15);\n",
              "      filter: drop-shadow(0px 1px 2px rgba(0, 0, 0, 0.3));\n",
              "      fill: #FFFFFF;\n",
              "    }\n",
              "  </style>\n",
              "\n",
              "    <script>\n",
              "      const buttonEl =\n",
              "        document.querySelector('#df-11357354-88d9-4a1c-b809-920fad042c6d button.colab-df-convert');\n",
              "      buttonEl.style.display =\n",
              "        google.colab.kernel.accessAllowed ? 'block' : 'none';\n",
              "\n",
              "      async function convertToInteractive(key) {\n",
              "        const element = document.querySelector('#df-11357354-88d9-4a1c-b809-920fad042c6d');\n",
              "        const dataTable =\n",
              "          await google.colab.kernel.invokeFunction('convertToInteractive',\n",
              "                                                    [key], {});\n",
              "        if (!dataTable) return;\n",
              "\n",
              "        const docLinkHtml = 'Like what you see? Visit the ' +\n",
              "          '<a target=\"_blank\" href=https://colab.research.google.com/notebooks/data_table.ipynb>data table notebook</a>'\n",
              "          + ' to learn more about interactive tables.';\n",
              "        element.innerHTML = '';\n",
              "        dataTable['output_type'] = 'display_data';\n",
              "        await google.colab.output.renderOutput(dataTable, element);\n",
              "        const docLink = document.createElement('div');\n",
              "        docLink.innerHTML = docLinkHtml;\n",
              "        element.appendChild(docLink);\n",
              "      }\n",
              "    </script>\n",
              "  </div>\n",
              "\n",
              "\n",
              "<div id=\"df-a870ca46-ba8f-4cfd-bebb-89a223283dc1\">\n",
              "  <button class=\"colab-df-quickchart\" onclick=\"quickchart('df-a870ca46-ba8f-4cfd-bebb-89a223283dc1')\"\n",
              "            title=\"Suggest charts\"\n",
              "            style=\"display:none;\">\n",
              "\n",
              "<svg xmlns=\"http://www.w3.org/2000/svg\" height=\"24px\"viewBox=\"0 0 24 24\"\n",
              "     width=\"24px\">\n",
              "    <g>\n",
              "        <path d=\"M19 3H5c-1.1 0-2 .9-2 2v14c0 1.1.9 2 2 2h14c1.1 0 2-.9 2-2V5c0-1.1-.9-2-2-2zM9 17H7v-7h2v7zm4 0h-2V7h2v10zm4 0h-2v-4h2v4z\"/>\n",
              "    </g>\n",
              "</svg>\n",
              "  </button>\n",
              "\n",
              "<style>\n",
              "  .colab-df-quickchart {\n",
              "      --bg-color: #E8F0FE;\n",
              "      --fill-color: #1967D2;\n",
              "      --hover-bg-color: #E2EBFA;\n",
              "      --hover-fill-color: #174EA6;\n",
              "      --disabled-fill-color: #AAA;\n",
              "      --disabled-bg-color: #DDD;\n",
              "  }\n",
              "\n",
              "  [theme=dark] .colab-df-quickchart {\n",
              "      --bg-color: #3B4455;\n",
              "      --fill-color: #D2E3FC;\n",
              "      --hover-bg-color: #434B5C;\n",
              "      --hover-fill-color: #FFFFFF;\n",
              "      --disabled-bg-color: #3B4455;\n",
              "      --disabled-fill-color: #666;\n",
              "  }\n",
              "\n",
              "  .colab-df-quickchart {\n",
              "    background-color: var(--bg-color);\n",
              "    border: none;\n",
              "    border-radius: 50%;\n",
              "    cursor: pointer;\n",
              "    display: none;\n",
              "    fill: var(--fill-color);\n",
              "    height: 32px;\n",
              "    padding: 0;\n",
              "    width: 32px;\n",
              "  }\n",
              "\n",
              "  .colab-df-quickchart:hover {\n",
              "    background-color: var(--hover-bg-color);\n",
              "    box-shadow: 0 1px 2px rgba(60, 64, 67, 0.3), 0 1px 3px 1px rgba(60, 64, 67, 0.15);\n",
              "    fill: var(--button-hover-fill-color);\n",
              "  }\n",
              "\n",
              "  .colab-df-quickchart-complete:disabled,\n",
              "  .colab-df-quickchart-complete:disabled:hover {\n",
              "    background-color: var(--disabled-bg-color);\n",
              "    fill: var(--disabled-fill-color);\n",
              "    box-shadow: none;\n",
              "  }\n",
              "\n",
              "  .colab-df-spinner {\n",
              "    border: 2px solid var(--fill-color);\n",
              "    border-color: transparent;\n",
              "    border-bottom-color: var(--fill-color);\n",
              "    animation:\n",
              "      spin 1s steps(1) infinite;\n",
              "  }\n",
              "\n",
              "  @keyframes spin {\n",
              "    0% {\n",
              "      border-color: transparent;\n",
              "      border-bottom-color: var(--fill-color);\n",
              "      border-left-color: var(--fill-color);\n",
              "    }\n",
              "    20% {\n",
              "      border-color: transparent;\n",
              "      border-left-color: var(--fill-color);\n",
              "      border-top-color: var(--fill-color);\n",
              "    }\n",
              "    30% {\n",
              "      border-color: transparent;\n",
              "      border-left-color: var(--fill-color);\n",
              "      border-top-color: var(--fill-color);\n",
              "      border-right-color: var(--fill-color);\n",
              "    }\n",
              "    40% {\n",
              "      border-color: transparent;\n",
              "      border-right-color: var(--fill-color);\n",
              "      border-top-color: var(--fill-color);\n",
              "    }\n",
              "    60% {\n",
              "      border-color: transparent;\n",
              "      border-right-color: var(--fill-color);\n",
              "    }\n",
              "    80% {\n",
              "      border-color: transparent;\n",
              "      border-right-color: var(--fill-color);\n",
              "      border-bottom-color: var(--fill-color);\n",
              "    }\n",
              "    90% {\n",
              "      border-color: transparent;\n",
              "      border-bottom-color: var(--fill-color);\n",
              "    }\n",
              "  }\n",
              "</style>\n",
              "\n",
              "  <script>\n",
              "    async function quickchart(key) {\n",
              "      const quickchartButtonEl =\n",
              "        document.querySelector('#' + key + ' button');\n",
              "      quickchartButtonEl.disabled = true;  // To prevent multiple clicks.\n",
              "      quickchartButtonEl.classList.add('colab-df-spinner');\n",
              "      try {\n",
              "        const charts = await google.colab.kernel.invokeFunction(\n",
              "            'suggestCharts', [key], {});\n",
              "      } catch (error) {\n",
              "        console.error('Error during call to suggestCharts:', error);\n",
              "      }\n",
              "      quickchartButtonEl.classList.remove('colab-df-spinner');\n",
              "      quickchartButtonEl.classList.add('colab-df-quickchart-complete');\n",
              "    }\n",
              "    (() => {\n",
              "      let quickchartButtonEl =\n",
              "        document.querySelector('#df-a870ca46-ba8f-4cfd-bebb-89a223283dc1 button');\n",
              "      quickchartButtonEl.style.display =\n",
              "        google.colab.kernel.accessAllowed ? 'block' : 'none';\n",
              "    })();\n",
              "  </script>\n",
              "</div>\n",
              "\n",
              "    </div>\n",
              "  </div>\n"
            ],
            "application/vnd.google.colaboratory.intrinsic+json": {
              "type": "dataframe",
              "variable_name": "y",
              "summary": "{\n  \"name\": \"y\",\n  \"rows\": 35,\n  \"fields\": [\n    {\n      \"column\": \"Salary\",\n      \"properties\": {\n        \"dtype\": \"number\",\n        \"std\": 32162,\n        \"min\": 37731,\n        \"max\": 139465,\n        \"num_unique_values\": 35,\n        \"samples\": [\n          116969,\n          57081,\n          109431\n        ],\n        \"semantic_type\": \"\",\n        \"description\": \"\"\n      }\n    }\n  ]\n}"
            }
          },
          "metadata": {},
          "execution_count": 12
        }
      ],
      "source": [
        "y.head()"
      ]
    },
    {
      "cell_type": "code",
      "execution_count": 13,
      "metadata": {
        "colab": {
          "base_uri": "https://localhost:8080/"
        },
        "id": "XpGU63Ne1e9P",
        "outputId": "83c7dd83-06da-4267-8a1b-ae17b2ebb2e4"
      },
      "outputs": [
        {
          "output_type": "execute_result",
          "data": {
            "text/plain": [
              "(35, 1)"
            ]
          },
          "metadata": {},
          "execution_count": 13
        }
      ],
      "source": [
        "X.shape"
      ]
    },
    {
      "cell_type": "code",
      "execution_count": 14,
      "metadata": {
        "colab": {
          "base_uri": "https://localhost:8080/"
        },
        "id": "OjGj0RALA0qZ",
        "outputId": "005082cb-f719-4ff4-ea6e-0dac2811eabe"
      },
      "outputs": [
        {
          "output_type": "execute_result",
          "data": {
            "text/plain": [
              "(35, 1)"
            ]
          },
          "metadata": {},
          "execution_count": 14
        }
      ],
      "source": [
        "y.shape"
      ]
    },
    {
      "cell_type": "code",
      "execution_count": 10,
      "metadata": {
        "id": "jIeiK1maA6mm"
      },
      "outputs": [],
      "source": [
        "X = np.array(X).astype('float32')\n",
        "y = np.array(y).astype('float32')"
      ]
    },
    {
      "cell_type": "code",
      "execution_count": 16,
      "metadata": {
        "colab": {
          "base_uri": "https://localhost:8080/"
        },
        "id": "2eQ5mQoLAkuv",
        "outputId": "ee9b2934-292e-403b-9c4c-b380205fda35"
      },
      "outputs": [
        {
          "output_type": "execute_result",
          "data": {
            "text/plain": [
              "array([[ 1.1],\n",
              "       [ 1.3],\n",
              "       [ 1.5],\n",
              "       [ 2. ],\n",
              "       [ 2.2],\n",
              "       [ 2.9],\n",
              "       [ 3. ],\n",
              "       [ 3.2],\n",
              "       [ 3.2],\n",
              "       [ 3.7],\n",
              "       [ 3.9],\n",
              "       [ 4. ],\n",
              "       [ 4. ],\n",
              "       [ 4.1],\n",
              "       [ 4.5],\n",
              "       [ 4.9],\n",
              "       [ 5.1],\n",
              "       [ 5.3],\n",
              "       [ 5.9],\n",
              "       [ 6. ],\n",
              "       [ 6.8],\n",
              "       [ 7.1],\n",
              "       [ 7.9],\n",
              "       [ 8.2],\n",
              "       [ 8.7],\n",
              "       [ 9. ],\n",
              "       [ 9.5],\n",
              "       [ 9.6],\n",
              "       [10.3],\n",
              "       [10.5],\n",
              "       [11.2],\n",
              "       [11.5],\n",
              "       [12.3],\n",
              "       [12.9],\n",
              "       [13.5]], dtype=float32)"
            ]
          },
          "metadata": {},
          "execution_count": 16
        }
      ],
      "source": [
        "# Only take the numerical variables and scale them\n",
        "X"
      ]
    },
    {
      "cell_type": "code",
      "execution_count": 11,
      "metadata": {
        "id": "GoReLFfnA6uF"
      },
      "outputs": [],
      "source": [
        "# split the data into test and train sets\n",
        "from sklearn.model_selection import train_test_split\n",
        "\n",
        "X_train, X_test, y_train, y_test = train_test_split(X, y, test_size = 0.2)\n"
      ]
    },
    {
      "cell_type": "markdown",
      "metadata": {
        "id": "diWNvUezAkuv"
      },
      "source": [
        "MINI CHALLENGE\n",
        " - Try splitting the data into 75% for training and the rest for testing\n",
        " - Verify that the split was successful by obtaining the shape of both X_train and X_test\n",
        " - Did you notice any change in the order of the data? why?"
      ]
    },
    {
      "cell_type": "code",
      "execution_count": 17,
      "metadata": {
        "id": "l_J1SyABAkuv"
      },
      "outputs": [],
      "source": []
    },
    {
      "cell_type": "markdown",
      "metadata": {
        "id": "idWHLv5alF4C"
      },
      "source": [
        "# TASK #5: TRAIN A LINEAR REGRESSION MODEL IN SK-LEARN (NOTE THAT SAGEMAKER BUILT-IN ALGORITHMS ARE NOT USED HERE)"
      ]
    },
    {
      "cell_type": "code",
      "execution_count": 12,
      "metadata": {
        "colab": {
          "base_uri": "https://localhost:8080/",
          "height": 80
        },
        "id": "yHL-6mKwBURs",
        "outputId": "141acbb4-0508-49fa-9adb-80d545487242"
      },
      "outputs": [
        {
          "output_type": "execute_result",
          "data": {
            "text/plain": [
              "LinearRegression()"
            ],
            "text/html": [
              "<style>#sk-container-id-1 {\n",
              "  /* Definition of color scheme common for light and dark mode */\n",
              "  --sklearn-color-text: #000;\n",
              "  --sklearn-color-text-muted: #666;\n",
              "  --sklearn-color-line: gray;\n",
              "  /* Definition of color scheme for unfitted estimators */\n",
              "  --sklearn-color-unfitted-level-0: #fff5e6;\n",
              "  --sklearn-color-unfitted-level-1: #f6e4d2;\n",
              "  --sklearn-color-unfitted-level-2: #ffe0b3;\n",
              "  --sklearn-color-unfitted-level-3: chocolate;\n",
              "  /* Definition of color scheme for fitted estimators */\n",
              "  --sklearn-color-fitted-level-0: #f0f8ff;\n",
              "  --sklearn-color-fitted-level-1: #d4ebff;\n",
              "  --sklearn-color-fitted-level-2: #b3dbfd;\n",
              "  --sklearn-color-fitted-level-3: cornflowerblue;\n",
              "\n",
              "  /* Specific color for light theme */\n",
              "  --sklearn-color-text-on-default-background: var(--sg-text-color, var(--theme-code-foreground, var(--jp-content-font-color1, black)));\n",
              "  --sklearn-color-background: var(--sg-background-color, var(--theme-background, var(--jp-layout-color0, white)));\n",
              "  --sklearn-color-border-box: var(--sg-text-color, var(--theme-code-foreground, var(--jp-content-font-color1, black)));\n",
              "  --sklearn-color-icon: #696969;\n",
              "\n",
              "  @media (prefers-color-scheme: dark) {\n",
              "    /* Redefinition of color scheme for dark theme */\n",
              "    --sklearn-color-text-on-default-background: var(--sg-text-color, var(--theme-code-foreground, var(--jp-content-font-color1, white)));\n",
              "    --sklearn-color-background: var(--sg-background-color, var(--theme-background, var(--jp-layout-color0, #111)));\n",
              "    --sklearn-color-border-box: var(--sg-text-color, var(--theme-code-foreground, var(--jp-content-font-color1, white)));\n",
              "    --sklearn-color-icon: #878787;\n",
              "  }\n",
              "}\n",
              "\n",
              "#sk-container-id-1 {\n",
              "  color: var(--sklearn-color-text);\n",
              "}\n",
              "\n",
              "#sk-container-id-1 pre {\n",
              "  padding: 0;\n",
              "}\n",
              "\n",
              "#sk-container-id-1 input.sk-hidden--visually {\n",
              "  border: 0;\n",
              "  clip: rect(1px 1px 1px 1px);\n",
              "  clip: rect(1px, 1px, 1px, 1px);\n",
              "  height: 1px;\n",
              "  margin: -1px;\n",
              "  overflow: hidden;\n",
              "  padding: 0;\n",
              "  position: absolute;\n",
              "  width: 1px;\n",
              "}\n",
              "\n",
              "#sk-container-id-1 div.sk-dashed-wrapped {\n",
              "  border: 1px dashed var(--sklearn-color-line);\n",
              "  margin: 0 0.4em 0.5em 0.4em;\n",
              "  box-sizing: border-box;\n",
              "  padding-bottom: 0.4em;\n",
              "  background-color: var(--sklearn-color-background);\n",
              "}\n",
              "\n",
              "#sk-container-id-1 div.sk-container {\n",
              "  /* jupyter's `normalize.less` sets `[hidden] { display: none; }`\n",
              "     but bootstrap.min.css set `[hidden] { display: none !important; }`\n",
              "     so we also need the `!important` here to be able to override the\n",
              "     default hidden behavior on the sphinx rendered scikit-learn.org.\n",
              "     See: https://github.com/scikit-learn/scikit-learn/issues/21755 */\n",
              "  display: inline-block !important;\n",
              "  position: relative;\n",
              "}\n",
              "\n",
              "#sk-container-id-1 div.sk-text-repr-fallback {\n",
              "  display: none;\n",
              "}\n",
              "\n",
              "div.sk-parallel-item,\n",
              "div.sk-serial,\n",
              "div.sk-item {\n",
              "  /* draw centered vertical line to link estimators */\n",
              "  background-image: linear-gradient(var(--sklearn-color-text-on-default-background), var(--sklearn-color-text-on-default-background));\n",
              "  background-size: 2px 100%;\n",
              "  background-repeat: no-repeat;\n",
              "  background-position: center center;\n",
              "}\n",
              "\n",
              "/* Parallel-specific style estimator block */\n",
              "\n",
              "#sk-container-id-1 div.sk-parallel-item::after {\n",
              "  content: \"\";\n",
              "  width: 100%;\n",
              "  border-bottom: 2px solid var(--sklearn-color-text-on-default-background);\n",
              "  flex-grow: 1;\n",
              "}\n",
              "\n",
              "#sk-container-id-1 div.sk-parallel {\n",
              "  display: flex;\n",
              "  align-items: stretch;\n",
              "  justify-content: center;\n",
              "  background-color: var(--sklearn-color-background);\n",
              "  position: relative;\n",
              "}\n",
              "\n",
              "#sk-container-id-1 div.sk-parallel-item {\n",
              "  display: flex;\n",
              "  flex-direction: column;\n",
              "}\n",
              "\n",
              "#sk-container-id-1 div.sk-parallel-item:first-child::after {\n",
              "  align-self: flex-end;\n",
              "  width: 50%;\n",
              "}\n",
              "\n",
              "#sk-container-id-1 div.sk-parallel-item:last-child::after {\n",
              "  align-self: flex-start;\n",
              "  width: 50%;\n",
              "}\n",
              "\n",
              "#sk-container-id-1 div.sk-parallel-item:only-child::after {\n",
              "  width: 0;\n",
              "}\n",
              "\n",
              "/* Serial-specific style estimator block */\n",
              "\n",
              "#sk-container-id-1 div.sk-serial {\n",
              "  display: flex;\n",
              "  flex-direction: column;\n",
              "  align-items: center;\n",
              "  background-color: var(--sklearn-color-background);\n",
              "  padding-right: 1em;\n",
              "  padding-left: 1em;\n",
              "}\n",
              "\n",
              "\n",
              "/* Toggleable style: style used for estimator/Pipeline/ColumnTransformer box that is\n",
              "clickable and can be expanded/collapsed.\n",
              "- Pipeline and ColumnTransformer use this feature and define the default style\n",
              "- Estimators will overwrite some part of the style using the `sk-estimator` class\n",
              "*/\n",
              "\n",
              "/* Pipeline and ColumnTransformer style (default) */\n",
              "\n",
              "#sk-container-id-1 div.sk-toggleable {\n",
              "  /* Default theme specific background. It is overwritten whether we have a\n",
              "  specific estimator or a Pipeline/ColumnTransformer */\n",
              "  background-color: var(--sklearn-color-background);\n",
              "}\n",
              "\n",
              "/* Toggleable label */\n",
              "#sk-container-id-1 label.sk-toggleable__label {\n",
              "  cursor: pointer;\n",
              "  display: flex;\n",
              "  width: 100%;\n",
              "  margin-bottom: 0;\n",
              "  padding: 0.5em;\n",
              "  box-sizing: border-box;\n",
              "  text-align: center;\n",
              "  align-items: start;\n",
              "  justify-content: space-between;\n",
              "  gap: 0.5em;\n",
              "}\n",
              "\n",
              "#sk-container-id-1 label.sk-toggleable__label .caption {\n",
              "  font-size: 0.6rem;\n",
              "  font-weight: lighter;\n",
              "  color: var(--sklearn-color-text-muted);\n",
              "}\n",
              "\n",
              "#sk-container-id-1 label.sk-toggleable__label-arrow:before {\n",
              "  /* Arrow on the left of the label */\n",
              "  content: \"▸\";\n",
              "  float: left;\n",
              "  margin-right: 0.25em;\n",
              "  color: var(--sklearn-color-icon);\n",
              "}\n",
              "\n",
              "#sk-container-id-1 label.sk-toggleable__label-arrow:hover:before {\n",
              "  color: var(--sklearn-color-text);\n",
              "}\n",
              "\n",
              "/* Toggleable content - dropdown */\n",
              "\n",
              "#sk-container-id-1 div.sk-toggleable__content {\n",
              "  max-height: 0;\n",
              "  max-width: 0;\n",
              "  overflow: hidden;\n",
              "  text-align: left;\n",
              "  /* unfitted */\n",
              "  background-color: var(--sklearn-color-unfitted-level-0);\n",
              "}\n",
              "\n",
              "#sk-container-id-1 div.sk-toggleable__content.fitted {\n",
              "  /* fitted */\n",
              "  background-color: var(--sklearn-color-fitted-level-0);\n",
              "}\n",
              "\n",
              "#sk-container-id-1 div.sk-toggleable__content pre {\n",
              "  margin: 0.2em;\n",
              "  border-radius: 0.25em;\n",
              "  color: var(--sklearn-color-text);\n",
              "  /* unfitted */\n",
              "  background-color: var(--sklearn-color-unfitted-level-0);\n",
              "}\n",
              "\n",
              "#sk-container-id-1 div.sk-toggleable__content.fitted pre {\n",
              "  /* unfitted */\n",
              "  background-color: var(--sklearn-color-fitted-level-0);\n",
              "}\n",
              "\n",
              "#sk-container-id-1 input.sk-toggleable__control:checked~div.sk-toggleable__content {\n",
              "  /* Expand drop-down */\n",
              "  max-height: 200px;\n",
              "  max-width: 100%;\n",
              "  overflow: auto;\n",
              "}\n",
              "\n",
              "#sk-container-id-1 input.sk-toggleable__control:checked~label.sk-toggleable__label-arrow:before {\n",
              "  content: \"▾\";\n",
              "}\n",
              "\n",
              "/* Pipeline/ColumnTransformer-specific style */\n",
              "\n",
              "#sk-container-id-1 div.sk-label input.sk-toggleable__control:checked~label.sk-toggleable__label {\n",
              "  color: var(--sklearn-color-text);\n",
              "  background-color: var(--sklearn-color-unfitted-level-2);\n",
              "}\n",
              "\n",
              "#sk-container-id-1 div.sk-label.fitted input.sk-toggleable__control:checked~label.sk-toggleable__label {\n",
              "  background-color: var(--sklearn-color-fitted-level-2);\n",
              "}\n",
              "\n",
              "/* Estimator-specific style */\n",
              "\n",
              "/* Colorize estimator box */\n",
              "#sk-container-id-1 div.sk-estimator input.sk-toggleable__control:checked~label.sk-toggleable__label {\n",
              "  /* unfitted */\n",
              "  background-color: var(--sklearn-color-unfitted-level-2);\n",
              "}\n",
              "\n",
              "#sk-container-id-1 div.sk-estimator.fitted input.sk-toggleable__control:checked~label.sk-toggleable__label {\n",
              "  /* fitted */\n",
              "  background-color: var(--sklearn-color-fitted-level-2);\n",
              "}\n",
              "\n",
              "#sk-container-id-1 div.sk-label label.sk-toggleable__label,\n",
              "#sk-container-id-1 div.sk-label label {\n",
              "  /* The background is the default theme color */\n",
              "  color: var(--sklearn-color-text-on-default-background);\n",
              "}\n",
              "\n",
              "/* On hover, darken the color of the background */\n",
              "#sk-container-id-1 div.sk-label:hover label.sk-toggleable__label {\n",
              "  color: var(--sklearn-color-text);\n",
              "  background-color: var(--sklearn-color-unfitted-level-2);\n",
              "}\n",
              "\n",
              "/* Label box, darken color on hover, fitted */\n",
              "#sk-container-id-1 div.sk-label.fitted:hover label.sk-toggleable__label.fitted {\n",
              "  color: var(--sklearn-color-text);\n",
              "  background-color: var(--sklearn-color-fitted-level-2);\n",
              "}\n",
              "\n",
              "/* Estimator label */\n",
              "\n",
              "#sk-container-id-1 div.sk-label label {\n",
              "  font-family: monospace;\n",
              "  font-weight: bold;\n",
              "  display: inline-block;\n",
              "  line-height: 1.2em;\n",
              "}\n",
              "\n",
              "#sk-container-id-1 div.sk-label-container {\n",
              "  text-align: center;\n",
              "}\n",
              "\n",
              "/* Estimator-specific */\n",
              "#sk-container-id-1 div.sk-estimator {\n",
              "  font-family: monospace;\n",
              "  border: 1px dotted var(--sklearn-color-border-box);\n",
              "  border-radius: 0.25em;\n",
              "  box-sizing: border-box;\n",
              "  margin-bottom: 0.5em;\n",
              "  /* unfitted */\n",
              "  background-color: var(--sklearn-color-unfitted-level-0);\n",
              "}\n",
              "\n",
              "#sk-container-id-1 div.sk-estimator.fitted {\n",
              "  /* fitted */\n",
              "  background-color: var(--sklearn-color-fitted-level-0);\n",
              "}\n",
              "\n",
              "/* on hover */\n",
              "#sk-container-id-1 div.sk-estimator:hover {\n",
              "  /* unfitted */\n",
              "  background-color: var(--sklearn-color-unfitted-level-2);\n",
              "}\n",
              "\n",
              "#sk-container-id-1 div.sk-estimator.fitted:hover {\n",
              "  /* fitted */\n",
              "  background-color: var(--sklearn-color-fitted-level-2);\n",
              "}\n",
              "\n",
              "/* Specification for estimator info (e.g. \"i\" and \"?\") */\n",
              "\n",
              "/* Common style for \"i\" and \"?\" */\n",
              "\n",
              ".sk-estimator-doc-link,\n",
              "a:link.sk-estimator-doc-link,\n",
              "a:visited.sk-estimator-doc-link {\n",
              "  float: right;\n",
              "  font-size: smaller;\n",
              "  line-height: 1em;\n",
              "  font-family: monospace;\n",
              "  background-color: var(--sklearn-color-background);\n",
              "  border-radius: 1em;\n",
              "  height: 1em;\n",
              "  width: 1em;\n",
              "  text-decoration: none !important;\n",
              "  margin-left: 0.5em;\n",
              "  text-align: center;\n",
              "  /* unfitted */\n",
              "  border: var(--sklearn-color-unfitted-level-1) 1pt solid;\n",
              "  color: var(--sklearn-color-unfitted-level-1);\n",
              "}\n",
              "\n",
              ".sk-estimator-doc-link.fitted,\n",
              "a:link.sk-estimator-doc-link.fitted,\n",
              "a:visited.sk-estimator-doc-link.fitted {\n",
              "  /* fitted */\n",
              "  border: var(--sklearn-color-fitted-level-1) 1pt solid;\n",
              "  color: var(--sklearn-color-fitted-level-1);\n",
              "}\n",
              "\n",
              "/* On hover */\n",
              "div.sk-estimator:hover .sk-estimator-doc-link:hover,\n",
              ".sk-estimator-doc-link:hover,\n",
              "div.sk-label-container:hover .sk-estimator-doc-link:hover,\n",
              ".sk-estimator-doc-link:hover {\n",
              "  /* unfitted */\n",
              "  background-color: var(--sklearn-color-unfitted-level-3);\n",
              "  color: var(--sklearn-color-background);\n",
              "  text-decoration: none;\n",
              "}\n",
              "\n",
              "div.sk-estimator.fitted:hover .sk-estimator-doc-link.fitted:hover,\n",
              ".sk-estimator-doc-link.fitted:hover,\n",
              "div.sk-label-container:hover .sk-estimator-doc-link.fitted:hover,\n",
              ".sk-estimator-doc-link.fitted:hover {\n",
              "  /* fitted */\n",
              "  background-color: var(--sklearn-color-fitted-level-3);\n",
              "  color: var(--sklearn-color-background);\n",
              "  text-decoration: none;\n",
              "}\n",
              "\n",
              "/* Span, style for the box shown on hovering the info icon */\n",
              ".sk-estimator-doc-link span {\n",
              "  display: none;\n",
              "  z-index: 9999;\n",
              "  position: relative;\n",
              "  font-weight: normal;\n",
              "  right: .2ex;\n",
              "  padding: .5ex;\n",
              "  margin: .5ex;\n",
              "  width: min-content;\n",
              "  min-width: 20ex;\n",
              "  max-width: 50ex;\n",
              "  color: var(--sklearn-color-text);\n",
              "  box-shadow: 2pt 2pt 4pt #999;\n",
              "  /* unfitted */\n",
              "  background: var(--sklearn-color-unfitted-level-0);\n",
              "  border: .5pt solid var(--sklearn-color-unfitted-level-3);\n",
              "}\n",
              "\n",
              ".sk-estimator-doc-link.fitted span {\n",
              "  /* fitted */\n",
              "  background: var(--sklearn-color-fitted-level-0);\n",
              "  border: var(--sklearn-color-fitted-level-3);\n",
              "}\n",
              "\n",
              ".sk-estimator-doc-link:hover span {\n",
              "  display: block;\n",
              "}\n",
              "\n",
              "/* \"?\"-specific style due to the `<a>` HTML tag */\n",
              "\n",
              "#sk-container-id-1 a.estimator_doc_link {\n",
              "  float: right;\n",
              "  font-size: 1rem;\n",
              "  line-height: 1em;\n",
              "  font-family: monospace;\n",
              "  background-color: var(--sklearn-color-background);\n",
              "  border-radius: 1rem;\n",
              "  height: 1rem;\n",
              "  width: 1rem;\n",
              "  text-decoration: none;\n",
              "  /* unfitted */\n",
              "  color: var(--sklearn-color-unfitted-level-1);\n",
              "  border: var(--sklearn-color-unfitted-level-1) 1pt solid;\n",
              "}\n",
              "\n",
              "#sk-container-id-1 a.estimator_doc_link.fitted {\n",
              "  /* fitted */\n",
              "  border: var(--sklearn-color-fitted-level-1) 1pt solid;\n",
              "  color: var(--sklearn-color-fitted-level-1);\n",
              "}\n",
              "\n",
              "/* On hover */\n",
              "#sk-container-id-1 a.estimator_doc_link:hover {\n",
              "  /* unfitted */\n",
              "  background-color: var(--sklearn-color-unfitted-level-3);\n",
              "  color: var(--sklearn-color-background);\n",
              "  text-decoration: none;\n",
              "}\n",
              "\n",
              "#sk-container-id-1 a.estimator_doc_link.fitted:hover {\n",
              "  /* fitted */\n",
              "  background-color: var(--sklearn-color-fitted-level-3);\n",
              "}\n",
              "</style><div id=\"sk-container-id-1\" class=\"sk-top-container\"><div class=\"sk-text-repr-fallback\"><pre>LinearRegression()</pre><b>In a Jupyter environment, please rerun this cell to show the HTML representation or trust the notebook. <br />On GitHub, the HTML representation is unable to render, please try loading this page with nbviewer.org.</b></div><div class=\"sk-container\" hidden><div class=\"sk-item\"><div class=\"sk-estimator fitted sk-toggleable\"><input class=\"sk-toggleable__control sk-hidden--visually\" id=\"sk-estimator-id-1\" type=\"checkbox\" checked><label for=\"sk-estimator-id-1\" class=\"sk-toggleable__label fitted sk-toggleable__label-arrow\"><div><div>LinearRegression</div></div><div><a class=\"sk-estimator-doc-link fitted\" rel=\"noreferrer\" target=\"_blank\" href=\"https://scikit-learn.org/1.6/modules/generated/sklearn.linear_model.LinearRegression.html\">?<span>Documentation for LinearRegression</span></a><span class=\"sk-estimator-doc-link fitted\">i<span>Fitted</span></span></div></label><div class=\"sk-toggleable__content fitted\"><pre>LinearRegression()</pre></div> </div></div></div></div>"
            ]
          },
          "metadata": {},
          "execution_count": 12
        }
      ],
      "source": [
        "# using linear regression model\n",
        "from sklearn.linear_model import LinearRegression\n",
        "from sklearn.metrics import mean_squared_error, accuracy_score\n",
        "\n",
        "regresssion_model_sklearn = LinearRegression(fit_intercept = True)\n",
        "regresssion_model_sklearn.fit(X_train, y_train)\n"
      ]
    },
    {
      "cell_type": "code",
      "execution_count": 13,
      "metadata": {
        "colab": {
          "base_uri": "https://localhost:8080/"
        },
        "id": "elD8m5N0BgEY",
        "outputId": "f25c9371-f383-44c8-ee10-01559bee9d52"
      },
      "outputs": [
        {
          "output_type": "execute_result",
          "data": {
            "text/plain": [
              "0.969661295413971"
            ]
          },
          "metadata": {},
          "execution_count": 13
        }
      ],
      "source": [
        "regresssion_model_sklearn_accuracy = regresssion_model_sklearn.score(X_test, y_test)\n",
        "regresssion_model_sklearn_accuracy"
      ]
    },
    {
      "cell_type": "code",
      "execution_count": 14,
      "metadata": {
        "colab": {
          "base_uri": "https://localhost:8080/"
        },
        "id": "7MeMum9YAkuw",
        "outputId": "b86ec362-a600-4d85-c870-356d86cf81b8"
      },
      "outputs": [
        {
          "output_type": "stream",
          "name": "stdout",
          "text": [
            "Linear Model Coefficient (m):  [[8788.461]]\n",
            "Linear Model Coefficient (b):  [28368.043]\n"
          ]
        }
      ],
      "source": [
        "print('Linear Model Coefficient (m): ', regresssion_model_sklearn.coef_)\n",
        "print('Linear Model Coefficient (b): ', regresssion_model_sklearn.intercept_)"
      ]
    },
    {
      "cell_type": "markdown",
      "metadata": {
        "id": "r949wcqcAkuw"
      },
      "source": [
        "MINI CHALLENGE\n",
        "- Retrain the model while setting the fit_intercept = False, what do you notice?"
      ]
    },
    {
      "cell_type": "code",
      "execution_count": 20,
      "metadata": {
        "id": "0NszOUrXAkuw"
      },
      "outputs": [],
      "source": []
    },
    {
      "cell_type": "markdown",
      "metadata": {
        "id": "jUoVApGvAkuw"
      },
      "source": [
        "# TASK #6: EVALUATE TRAINED MODEL PERFORMANCE (NOTE THAT SAGEMAKER BUILT-IN ALGORITHMS ARE NOT USED HERE)"
      ]
    },
    {
      "cell_type": "code",
      "execution_count": 15,
      "metadata": {
        "id": "UhflqDhHAkux"
      },
      "outputs": [],
      "source": [
        "y_predict = regresssion_model_sklearn.predict(X_test)"
      ]
    },
    {
      "cell_type": "code",
      "execution_count": 22,
      "metadata": {
        "scrolled": true,
        "colab": {
          "base_uri": "https://localhost:8080/"
        },
        "id": "B4mie-UvAkux",
        "outputId": "feb1f7cc-5935-499e-cb41-bab2e1724e0d"
      },
      "outputs": [
        {
          "output_type": "execute_result",
          "data": {
            "text/plain": [
              "array([[104980.34 ],\n",
              "       [ 55183.64 ],\n",
              "       [ 49173.695],\n",
              "       [107556.04 ],\n",
              "       [ 80940.56 ],\n",
              "       [ 62052.152],\n",
              "       [ 68920.664]], dtype=float32)"
            ]
          },
          "metadata": {},
          "execution_count": 22
        }
      ],
      "source": [
        "y_predict"
      ]
    },
    {
      "cell_type": "code",
      "execution_count": 10,
      "metadata": {
        "colab": {
          "base_uri": "https://localhost:8080/",
          "height": 489
        },
        "id": "XoaOZEymAku1",
        "outputId": "a4d2e1e2-ca7b-418f-e381-8651de8bbc6f"
      },
      "outputs": [
        {
          "output_type": "execute_result",
          "data": {
            "text/plain": [
              "Text(0.5, 1.0, 'Salary vs. Years of Experience')"
            ]
          },
          "metadata": {},
          "execution_count": 10
        },
        {
          "output_type": "display_data",
          "data": {
            "text/plain": [
              "<Figure size 640x480 with 1 Axes>"
            ],
            "image/png": "[encoded data removed]"
          },
          "metadata": {}
        }
      ],
      "source": [
        "plt.scatter(X_train, y_train, color = 'gray')\n",
        "plt.plot(X_train, regresssion_model_sklearn.predict(X_train), color = 'red')\n",
        "plt.ylabel('Salary')\n",
        "plt.xlabel('Number of Years of Experience')\n",
        "plt.title('Salary vs. Years of Experience')"
      ]
    },
    {
      "cell_type": "markdown",
      "metadata": {
        "id": "E46rq__vAku2"
      },
      "source": [
        "MINI CHALLENGE\n",
        " - Use the trained model, obtain the salary corresponding to eployees who have years of experience = 5"
      ]
    },
    {
      "cell_type": "markdown",
      "metadata": {
        "id": "7qr62_q_Aku2"
      },
      "source": [
        "# TASK #7: TRAIN A LINEAR LEARNER MODEL USING SAGEMAKER"
      ]
    },
    {
      "cell_type": "code",
      "source": [
        "!pip install sagemaker -q"
      ],
      "metadata": {
        "colab": {
          "base_uri": "https://localhost:8080/"
        },
        "id": "nPDppBtvDIfo",
        "outputId": "ab459f02-26a4-4345-f3a9-10e9946933cd"
      },
      "execution_count": 24,
      "outputs": [
        {
          "output_type": "stream",
          "name": "stdout",
          "text": [
            "\u001b[?25l     \u001b[90m━━━━━━━━━━━━━━━━━━━━━━━━━━━━━━━━━━━━━━━━\u001b[0m \u001b[32m0.0/117.0 kB\u001b[0m \u001b[31m?\u001b[0m eta \u001b[36m-:--:--\u001b[0m\r\u001b[2K     \u001b[90m━━━━━━━━━━━━━━━━━━━━━━━━━━━━━━━━━━━━━━━━\u001b[0m \u001b[32m117.0/117.0 kB\u001b[0m \u001b[31m4.1 MB/s\u001b[0m eta \u001b[36m0:00:00\u001b[0m\n",
            "\u001b[?25h  Preparing metadata (setup.py) ... \u001b[?25l\u001b[?25hdone\n",
            "\u001b[2K   \u001b[90m━━━━━━━━━━━━━━━━━━━━━━━━━━━━━━━━━━━━━━━━\u001b[0m \u001b[32m1.6/1.6 MB\u001b[0m \u001b[31m28.7 MB/s\u001b[0m eta \u001b[36m0:00:00\u001b[0m\n",
            "\u001b[2K   \u001b[90m━━━━━━━━━━━━━━━━━━━━━━━━━━━━━━━━━━━━━━━━\u001b[0m \u001b[32m60.8/60.8 kB\u001b[0m \u001b[31m4.1 MB/s\u001b[0m eta \u001b[36m0:00:00\u001b[0m\n",
            "\u001b[2K   \u001b[90m━━━━━━━━━━━━━━━━━━━━━━━━━━━━━━━━━━━━━━━━\u001b[0m \u001b[32m139.2/139.2 kB\u001b[0m \u001b[31m11.1 MB/s\u001b[0m eta \u001b[36m0:00:00\u001b[0m\n",
            "\u001b[2K   \u001b[90m━━━━━━━━━━━━━━━━━━━━━━━━━━━━━━━━━━━━━━━━\u001b[0m \u001b[32m79.3/79.3 kB\u001b[0m \u001b[31m5.4 MB/s\u001b[0m eta \u001b[36m0:00:00\u001b[0m\n",
            "\u001b[2K   \u001b[90m━━━━━━━━━━━━━━━━━━━━━━━━━━━━━━━━━━━━━━━━\u001b[0m \u001b[32m404.3/404.3 kB\u001b[0m \u001b[31m22.7 MB/s\u001b[0m eta \u001b[36m0:00:00\u001b[0m\n",
            "\u001b[2K   \u001b[90m━━━━━━━━━━━━━━━━━━━━━━━━━━━━━━━━━━━━━━━━\u001b[0m \u001b[32m147.8/147.8 kB\u001b[0m \u001b[31m11.6 MB/s\u001b[0m eta \u001b[36m0:00:00\u001b[0m\n",
            "\u001b[2K   \u001b[90m━━━━━━━━━━━━━━━━━━━━━━━━━━━━━━━━━━━━━━━━\u001b[0m \u001b[32m94.8/94.8 kB\u001b[0m \u001b[31m7.9 MB/s\u001b[0m eta \u001b[36m0:00:00\u001b[0m\n",
            "\u001b[2K   \u001b[90m━━━━━━━━━━━━━━━━━━━━━━━━━━━━━━━━━━━━━━━━\u001b[0m \u001b[32m82.1/82.1 kB\u001b[0m \u001b[31m6.5 MB/s\u001b[0m eta \u001b[36m0:00:00\u001b[0m\n",
            "\u001b[2K   \u001b[90m━━━━━━━━━━━━━━━━━━━━━━━━━━━━━━━━━━━━━━━━\u001b[0m \u001b[32m62.3/62.3 kB\u001b[0m \u001b[31m4.7 MB/s\u001b[0m eta \u001b[36m0:00:00\u001b[0m\n",
            "\u001b[2K   \u001b[90m━━━━━━━━━━━━━━━━━━━━━━━━━━━━━━━━━━━━━━━━\u001b[0m \u001b[32m13.3/13.3 MB\u001b[0m \u001b[31m91.1 MB/s\u001b[0m eta \u001b[36m0:00:00\u001b[0m\n",
            "\u001b[2K   \u001b[90m━━━━━━━━━━━━━━━━━━━━━━━━━━━━━━━━━━━━━━━━\u001b[0m \u001b[32m119.4/119.4 kB\u001b[0m \u001b[31m8.5 MB/s\u001b[0m eta \u001b[36m0:00:00\u001b[0m\n",
            "\u001b[2K   \u001b[90m━━━━━━━━━━━━━━━━━━━━━━━━━━━━━━━━━━━━━━━━\u001b[0m \u001b[32m144.3/144.3 kB\u001b[0m \u001b[31m10.5 MB/s\u001b[0m eta \u001b[36m0:00:00\u001b[0m\n",
            "\u001b[2K   \u001b[90m━━━━━━━━━━━━━━━━━━━━━━━━━━━━━━━━━━━━━━━━\u001b[0m \u001b[32m56.8/56.8 kB\u001b[0m \u001b[31m4.3 MB/s\u001b[0m eta \u001b[36m0:00:00\u001b[0m\n",
            "\u001b[2K   \u001b[90m━━━━━━━━━━━━━━━━━━━━━━━━━━━━━━━━━━━━━━━━\u001b[0m \u001b[32m84.2/84.2 kB\u001b[0m \u001b[31m7.0 MB/s\u001b[0m eta \u001b[36m0:00:00\u001b[0m\n",
            "\u001b[2K   \u001b[90m━━━━━━━━━━━━━━━━━━━━━━━━━━━━━━━━━━━━━━━━\u001b[0m \u001b[32m71.5/71.5 kB\u001b[0m \u001b[31m6.1 MB/s\u001b[0m eta \u001b[36m0:00:00\u001b[0m\n",
            "\u001b[?25h  Building wheel for antlr4-python3-runtime (setup.py) ... \u001b[?25l\u001b[?25hdone\n"
          ]
        }
      ]
    },
    {
      "cell_type": "code",
      "source": [
        "!pip install aws configure\n",
        "!pip install awscli"
      ],
      "metadata": {
        "colab": {
          "base_uri": "https://localhost:8080/"
        },
        "id": "H87Z7kqqEGR_",
        "outputId": "ea584c10-aa74-4b99-8e52-fecdc5794930"
      },
      "execution_count": 2,
      "outputs": [
        {
          "output_type": "stream",
          "name": "stdout",
          "text": [
            "Requirement already satisfied: aws in /usr/local/lib/python3.11/dist-packages (0.2.5)\n",
            "Requirement already satisfied: configure in /usr/local/lib/python3.11/dist-packages (0.5)\n",
            "Requirement already satisfied: boto in /usr/local/lib/python3.11/dist-packages (from aws) (2.49.0)\n",
            "Requirement already satisfied: fabric>=1.6 in /usr/local/lib/python3.11/dist-packages (from aws) (3.2.2)\n",
            "Requirement already satisfied: prettytable>=0.7 in /usr/local/lib/python3.11/dist-packages (from aws) (3.12.0)\n",
            "Requirement already satisfied: pyyaml in /usr/local/lib/python3.11/dist-packages (from configure) (6.0.2)\n",
            "Requirement already satisfied: invoke>=2.0 in /usr/local/lib/python3.11/dist-packages (from fabric>=1.6->aws) (2.2.0)\n",
            "Requirement already satisfied: paramiko>=2.4 in /usr/local/lib/python3.11/dist-packages (from fabric>=1.6->aws) (3.5.0)\n",
            "Requirement already satisfied: decorator>=5 in /usr/local/lib/python3.11/dist-packages (from fabric>=1.6->aws) (5.1.1)\n",
            "Requirement already satisfied: deprecated>=1.2 in /usr/local/lib/python3.11/dist-packages (from fabric>=1.6->aws) (1.2.15)\n",
            "Requirement already satisfied: wcwidth in /usr/local/lib/python3.11/dist-packages (from prettytable>=0.7->aws) (0.2.13)\n",
            "Requirement already satisfied: wrapt<2,>=1.10 in /usr/local/lib/python3.11/dist-packages (from deprecated>=1.2->fabric>=1.6->aws) (1.17.2)\n",
            "Requirement already satisfied: bcrypt>=3.2 in /usr/local/lib/python3.11/dist-packages (from paramiko>=2.4->fabric>=1.6->aws) (4.2.1)\n",
            "Requirement already satisfied: cryptography>=3.3 in /usr/local/lib/python3.11/dist-packages (from paramiko>=2.4->fabric>=1.6->aws) (43.0.3)\n",
            "Requirement already satisfied: pynacl>=1.5 in /usr/local/lib/python3.11/dist-packages (from paramiko>=2.4->fabric>=1.6->aws) (1.5.0)\n",
            "Requirement already satisfied: cffi>=1.12 in /usr/local/lib/python3.11/dist-packages (from cryptography>=3.3->paramiko>=2.4->fabric>=1.6->aws) (1.17.1)\n",
            "Requirement already satisfied: pycparser in /usr/local/lib/python3.11/dist-packages (from cffi>=1.12->cryptography>=3.3->paramiko>=2.4->fabric>=1.6->aws) (2.22)\n",
            "Requirement already satisfied: awscli in /usr/local/lib/python3.11/dist-packages (1.37.6)\n",
            "Requirement already satisfied: botocore==1.36.6 in /usr/local/lib/python3.11/dist-packages (from awscli) (1.36.6)\n",
            "Requirement already satisfied: docutils<0.17,>=0.10 in /usr/local/lib/python3.11/dist-packages (from awscli) (0.16)\n",
            "Requirement already satisfied: s3transfer<0.12.0,>=0.11.0 in /usr/local/lib/python3.11/dist-packages (from awscli) (0.11.2)\n",
            "Requirement already satisfied: PyYAML<6.1,>=3.10 in /usr/local/lib/python3.11/dist-packages (from awscli) (6.0.2)\n",
            "Requirement already satisfied: colorama<0.4.7,>=0.2.5 in /usr/local/lib/python3.11/dist-packages (from awscli) (0.4.6)\n",
            "Requirement already satisfied: rsa<4.8,>=3.1.2 in /usr/local/lib/python3.11/dist-packages (from awscli) (4.7.2)\n",
            "Requirement already satisfied: jmespath<2.0.0,>=0.7.1 in /usr/local/lib/python3.11/dist-packages (from botocore==1.36.6->awscli) (1.0.1)\n",
            "Requirement already satisfied: python-dateutil<3.0.0,>=2.1 in /usr/local/lib/python3.11/dist-packages (from botocore==1.36.6->awscli) (2.8.2)\n",
            "Requirement already satisfied: urllib3!=2.2.0,<3,>=1.25.4 in /usr/local/lib/python3.11/dist-packages (from botocore==1.36.6->awscli) (2.3.0)\n",
            "Requirement already satisfied: pyasn1>=0.1.3 in /usr/local/lib/python3.11/dist-packages (from rsa<4.8,>=3.1.2->awscli) (0.6.1)\n",
            "Requirement already satisfied: six>=1.5 in /usr/local/lib/python3.11/dist-packages (from python-dateutil<3.0.0,>=2.1->botocore==1.36.6->awscli) (1.17.0)\n"
          ]
        }
      ]
    },
    {
      "cell_type": "code",
      "source": [
        "!aws configure set default.region us-east-1\n",
        "!aws configure set aws_access_key_id ''\n",
        "!aws configure set aws_secret_access_key ''\n"
      ],
      "metadata": {
        "id": "g0RnujzyDuMd"
      },
      "execution_count": 3,
      "outputs": []
    },
    {
      "cell_type": "code",
      "source": [
        "!aws s3 ls"
      ],
      "metadata": {
        "colab": {
          "base_uri": "https://localhost:8080/"
        },
        "id": "dqJ0zrdDFHX5",
        "outputId": "aacce65a-3107-4d49-c04c-f8da7dfd6950"
      },
      "execution_count": 4,
      "outputs": [
        {
          "output_type": "stream",
          "name": "stdout",
          "text": [
            "2025-01-12 03:19:58 flink-demo-651706775874-us-east-1-1736651925419-bucket\n",
            "2025-01-11 16:07:37 sagemaker-studio-651706775874-ai3vc7ntht6\n",
            "2025-01-11 16:07:42 sagemaker-studio-651706775874-u4zrpqz4f5\n",
            "2025-01-11 16:07:41 sagemaker-us-east-1-651706775874\n"
          ]
        }
      ]
    },
    {
      "cell_type": "code",
      "execution_count": 5,
      "metadata": {
        "colab": {
          "base_uri": "https://localhost:8080/"
        },
        "id": "hw7xzrboAku2",
        "outputId": "7d3f19d3-2f3f-4722-bac8-31830576e1ad"
      },
      "outputs": [
        {
          "output_type": "stream",
          "name": "stderr",
          "text": [
            "/usr/local/lib/python3.11/dist-packages/pydantic/_internal/_fields.py:192: UserWarning: Field name \"json\" in \"MonitoringDatasetFormat\" shadows an attribute in parent \"Base\"\n",
            "  warnings.warn(\n"
          ]
        },
        {
          "output_type": "stream",
          "name": "stdout",
          "text": [
            "sagemaker.config INFO - Not applying SDK defaults from location: /etc/xdg/sagemaker/config.yaml\n",
            "sagemaker.config INFO - Not applying SDK defaults from location: /root/.config/sagemaker/config.yaml\n"
          ]
        },
        {
          "output_type": "stream",
          "name": "stderr",
          "text": [
            "WARNING:sagemaker:Couldn't call 'get_role' to get Role ARN from role name samim to get Role path.\n"
          ]
        },
        {
          "output_type": "stream",
          "name": "stdout",
          "text": [
            "arn:aws:iam::651706775874:role/service-role/AmazonSageMaker-ExecutionRole-20250111T213723\n"
          ]
        }
      ],
      "source": [
        "# Boto3 is the Amazon Web Services (AWS) Software Development Kit (SDK) for Python\n",
        "# Boto3 allows Python developer to write software that makes use of services like Amazon S3 and Amazon EC2\n",
        "import sagemaker\n",
        "import boto3\n",
        "from sagemaker import Session\n",
        "\n",
        "# Let's create a Sagemaker session\n",
        "sagemaker_session = sagemaker.Session()\n",
        "bucket = Session().default_bucket()\n",
        "# Let's define the S3 bucket and prefix that we want to use in this session\n",
        "# bucket = 'sagemaker-practica' # bucket named 'sagemaker-practical' was created beforehand\n",
        "prefix = 'linear_learner' # prefix is the subfolder within the bucket.\n",
        "\n",
        "# Let's get the execution role for the notebook instance.\n",
        "# This is the IAM role that you created when you created your notebook instance. You pass the role to the training job.\n",
        "# Note that AWS Identity and Access Management (IAM) role that Amazon SageMaker can assume to perform tasks on your behalf (for example, reading training results, called model artifacts, from the S3 bucket and writing training results to Amazon S3).\n",
        "try:\n",
        "    # Works when running this code in SageMaker notebook instance\n",
        "    role = sagemaker.get_execution_role()\n",
        "except ValueError:\n",
        "    # Works when running this code locally\n",
        "    session_boto = boto3.Session(profile_name=\"default\")\n",
        "    iam = session_boto.client(\"iam\")\n",
        "    # Fetch the IAM role created by SageMaker\n",
        "    role = [\n",
        "        r\n",
        "        for r in iam.list_roles()[\"Roles\"]\n",
        "        if r[\"RoleName\"].startswith(\"AmazonSageMaker-ExecutionRole\")\n",
        "    ][0][\"Arn\"]\n",
        "\n",
        "print(role)"
      ]
    },
    {
      "cell_type": "code",
      "execution_count": 16,
      "metadata": {
        "colab": {
          "base_uri": "https://localhost:8080/"
        },
        "id": "3scAjBYiAku2",
        "outputId": "d50df77d-21e4-4327-80ec-f349eccf3b3c"
      },
      "outputs": [
        {
          "output_type": "execute_result",
          "data": {
            "text/plain": [
              "(28, 1)"
            ]
          },
          "metadata": {},
          "execution_count": 16
        }
      ],
      "source": [
        "X_train.shape"
      ]
    },
    {
      "cell_type": "code",
      "execution_count": 17,
      "metadata": {
        "id": "cGXsCmmcAku2"
      },
      "outputs": [],
      "source": [
        "y_train = y_train[:,0]"
      ]
    },
    {
      "cell_type": "code",
      "execution_count": 18,
      "metadata": {
        "colab": {
          "base_uri": "https://localhost:8080/"
        },
        "id": "-WS5JUU-Aku2",
        "outputId": "d65bf324-748b-4b1a-d522-077ded21fc53"
      },
      "outputs": [
        {
          "output_type": "execute_result",
          "data": {
            "text/plain": [
              "(28,)"
            ]
          },
          "metadata": {},
          "execution_count": 18
        }
      ],
      "source": [
        "y_train.shape"
      ]
    },
    {
      "cell_type": "code",
      "execution_count": 19,
      "metadata": {
        "colab": {
          "base_uri": "https://localhost:8080/"
        },
        "id": "_qQ8Jo9aAku3",
        "outputId": "91eada6b-3895-467d-f42b-9018118eebb0"
      },
      "outputs": [
        {
          "output_type": "execute_result",
          "data": {
            "text/plain": [
              "0"
            ]
          },
          "metadata": {},
          "execution_count": 19
        }
      ],
      "source": [
        "import io # The io module allows for dealing with various types of I/O (text I/O, binary I/O and raw I/O).\n",
        "import numpy as np\n",
        "import sagemaker.amazon.common as smac # sagemaker common libary\n",
        "\n",
        "# Code below converts the data in numpy array format to RecordIO format\n",
        "# This is the format required by Sagemaker Linear Learner\n",
        "\n",
        "buf = io.BytesIO() # create an in-memory byte array (buf is a buffer I will be writing to)\n",
        "smac.write_numpy_to_dense_tensor(buf, X_train, y_train)\n",
        "buf.seek(0)\n",
        "# When you write to in-memory byte arrays, it increments 1 every time you write to it\n",
        "# Let's reset that back to zero\n"
      ]
    },
    {
      "cell_type": "code",
      "execution_count": 20,
      "metadata": {
        "colab": {
          "base_uri": "https://localhost:8080/"
        },
        "id": "XErZ_6kOAku3",
        "outputId": "6b53b655-5bdc-4235-8cec-129ee76d1b6a"
      },
      "outputs": [
        {
          "output_type": "stream",
          "name": "stdout",
          "text": [
            "uploaded training data location: s3://sagemaker-us-east-1-651706775874/linear_learner/train/linear-train-data\n"
          ]
        }
      ],
      "source": [
        "import os\n",
        "\n",
        "# Code to upload RecordIO data to S3\n",
        "\n",
        "# Key refers to the name of the file\n",
        "key = 'linear-train-data'\n",
        "\n",
        "# The following code uploads the data in record-io format to S3 bucket to be accessed later for training\n",
        "boto3.resource('s3').Bucket(bucket).Object(os.path.join(prefix, 'train', key)).upload_fileobj(buf)\n",
        "\n",
        "# Let's print out the training data location in s3\n",
        "s3_train_data = 's3://{}/{}/train/{}'.format(bucket, prefix, key)\n",
        "print('uploaded training data location: {}'.format(s3_train_data))"
      ]
    },
    {
      "cell_type": "code",
      "execution_count": null,
      "metadata": {
        "id": "2Om1dWt4Aku3"
      },
      "outputs": [],
      "source": [
        "X_test.shape"
      ]
    },
    {
      "cell_type": "code",
      "execution_count": null,
      "metadata": {
        "id": "NwxC6j3zAku3"
      },
      "outputs": [],
      "source": [
        "y_test.shape"
      ]
    },
    {
      "cell_type": "code",
      "execution_count": 21,
      "metadata": {
        "id": "kY8Z6gPoAku3"
      },
      "outputs": [],
      "source": [
        "# Make sure that the target label is a vector\n",
        "y_test = y_test[:,0]\n"
      ]
    },
    {
      "cell_type": "code",
      "execution_count": 22,
      "metadata": {
        "colab": {
          "base_uri": "https://localhost:8080/"
        },
        "id": "qCr7pvIwAku4",
        "outputId": "bc81a295-a816-43f6-d300-be0c34ad6420"
      },
      "outputs": [
        {
          "output_type": "execute_result",
          "data": {
            "text/plain": [
              "0"
            ]
          },
          "metadata": {},
          "execution_count": 22
        }
      ],
      "source": [
        "# Code to upload RecordIO data to S3\n",
        "\n",
        "buf = io.BytesIO() # create an in-memory byte array (buf is a buffer I will be writing to)\n",
        "smac.write_numpy_to_dense_tensor(buf, X_test, y_test)\n",
        "buf.seek(0)\n",
        "# When you write to in-memory byte arrays, it increments 1 every time you write to it\n",
        "# Let's reset that back to zero\n"
      ]
    },
    {
      "cell_type": "code",
      "execution_count": 23,
      "metadata": {
        "colab": {
          "base_uri": "https://localhost:8080/"
        },
        "id": "6alhP3ZOAku4",
        "outputId": "dac6a622-66e9-4d53-e376-96cc409433e7"
      },
      "outputs": [
        {
          "output_type": "stream",
          "name": "stdout",
          "text": [
            "uploaded training data location: s3://sagemaker-us-east-1-651706775874/linear_learner/test/linear-test-data\n"
          ]
        }
      ],
      "source": [
        "# Key refers to the name of the file\n",
        "key = 'linear-test-data'\n",
        "\n",
        "# The following code uploads the data in record-io format to S3 bucket to be accessed later for training\n",
        "boto3.resource('s3').Bucket(bucket).Object(os.path.join(prefix, 'test', key)).upload_fileobj(buf)\n",
        "\n",
        "# Let's print out the testing data location in s3\n",
        "s3_test_data = 's3://{}/{}/test/{}'.format(bucket, prefix, key)\n",
        "print('uploaded training data location: {}'.format(s3_test_data))"
      ]
    },
    {
      "cell_type": "code",
      "execution_count": 24,
      "metadata": {
        "colab": {
          "base_uri": "https://localhost:8080/"
        },
        "id": "XiuTLyGqAku4",
        "outputId": "979e279a-186e-44d1-9859-a73c7d3b75c5"
      },
      "outputs": [
        {
          "output_type": "stream",
          "name": "stdout",
          "text": [
            "Training artifacts will be uploaded to: s3://sagemaker-us-east-1-651706775874/linear_learner/output\n"
          ]
        }
      ],
      "source": [
        "# create an output placeholder in S3 bucket to store the linear learner output\n",
        "\n",
        "output_location = 's3://{}/{}/output'.format(bucket, prefix)\n",
        "print('Training artifacts will be uploaded to: {}'.format(output_location))"
      ]
    },
    {
      "cell_type": "code",
      "execution_count": 25,
      "metadata": {
        "colab": {
          "base_uri": "https://localhost:8080/"
        },
        "id": "YecZyN5JAku4",
        "outputId": "8517b32a-3659-409c-d6ca-e48776ffdeb7"
      },
      "outputs": [
        {
          "output_type": "stream",
          "name": "stderr",
          "text": [
            "WARNING:sagemaker.deprecations:The method get_image_uri has been renamed in sagemaker>=2.\n",
            "See: https://sagemaker.readthedocs.io/en/stable/v2.html for details.\n"
          ]
        }
      ],
      "source": [
        "# This code is used to get the training container of sagemaker built-in algorithms\n",
        "# all we have to do is to specify the name of the algorithm, that we want to use\n",
        "\n",
        "# Let's obtain a reference to the linearLearner container image\n",
        "# Note that all regression models are named estimators\n",
        "# You don't have to specify (hardcode) the region, get_image_uri will get the current region name using boto3.Session\n",
        "\n",
        "from sagemaker.amazon.amazon_estimator import get_image_uri\n",
        "\n",
        "container = get_image_uri(boto3.Session().region_name, 'linear-learner')"
      ]
    },
    {
      "cell_type": "code",
      "source": [
        "container"
      ],
      "metadata": {
        "colab": {
          "base_uri": "https://localhost:8080/",
          "height": 36
        },
        "id": "wSssTgOsKW0Z",
        "outputId": "edb3451f-5228-4eff-ca94-5237799899bd"
      },
      "execution_count": 26,
      "outputs": [
        {
          "output_type": "execute_result",
          "data": {
            "text/plain": [
              "'382416733822.dkr.ecr.us-east-1.amazonaws.com/linear-learner:1'"
            ],
            "application/vnd.google.colaboratory.intrinsic+json": {
              "type": "string"
            }
          },
          "metadata": {},
          "execution_count": 26
        }
      ]
    },
    {
      "cell_type": "code",
      "execution_count": 27,
      "metadata": {
        "colab": {
          "base_uri": "https://localhost:8080/"
        },
        "id": "AX1Vbyt1Aku4",
        "outputId": "ffb951b9-c6b2-4b76-83a4-33295cb6b0a0"
      },
      "outputs": [
        {
          "output_type": "stream",
          "name": "stderr",
          "text": [
            "WARNING:sagemaker.deprecations:train_instance_count has been renamed in sagemaker>=2.\n",
            "See: https://sagemaker.readthedocs.io/en/stable/v2.html for details.\n",
            "WARNING:sagemaker.deprecations:train_instance_type has been renamed in sagemaker>=2.\n",
            "See: https://sagemaker.readthedocs.io/en/stable/v2.html for details.\n"
          ]
        },
        {
          "output_type": "stream",
          "name": "stdout",
          "text": [
            "2025-01-26 15:44:48 Starting - Starting the training job......\n",
            "2025-01-26 15:45:40 Starting - Preparing the instances for training...\n",
            "2025-01-26 15:46:02 Downloading - Downloading input data...\n",
            "2025-01-26 15:46:33 Downloading - Downloading the training image........\n",
            "2025-01-26 15:48:19 Training - Training image download completed. Training in progress.\n",
            "2025-01-26 15:48:19 Uploading - Uploading generated training model\u001b[34mDocker entrypoint called with argument(s): train\u001b[0m\n",
            "\u001b[34mRunning default environment configuration script\u001b[0m\n",
            "\u001b[34m[01/26/2025 15:48:12 INFO 140623052531520] Reading default configuration from /opt/amazon/lib/python3.8/site-packages/algorithm/resources/default-input.json: {'mini_batch_size': '1000', 'epochs': '15', 'feature_dim': 'auto', 'use_bias': 'true', 'binary_classifier_model_selection_criteria': 'accuracy', 'f_beta': '1.0', 'target_recall': '0.8', 'target_precision': '0.8', 'num_models': 'auto', 'num_calibration_samples': '10000000', 'init_method': 'uniform', 'init_scale': '0.07', 'init_sigma': '0.01', 'init_bias': '0.0', 'optimizer': 'auto', 'loss': 'auto', 'margin': '1.0', 'quantile': '0.5', 'loss_insensitivity': '0.01', 'huber_delta': '1.0', 'num_classes': '1', 'accuracy_top_k': '3', 'wd': 'auto', 'l1': 'auto', 'momentum': 'auto', 'learning_rate': 'auto', 'beta_1': 'auto', 'beta_2': 'auto', 'bias_lr_mult': 'auto', 'bias_wd_mult': 'auto', 'use_lr_scheduler': 'true', 'lr_scheduler_step': 'auto', 'lr_scheduler_factor': 'auto', 'lr_scheduler_minimum_lr': 'auto', 'positive_example_weight_mult': '1.0', 'balance_multiclass_weights': 'false', 'normalize_data': 'true', 'normalize_label': 'auto', 'unbias_data': 'auto', 'unbias_label': 'auto', 'num_point_for_scaler': '10000', '_kvstore': 'auto', '_num_gpus': 'auto', '_num_kv_servers': 'auto', '_log_level': 'info', '_tuning_objective_metric': '', 'early_stopping_patience': '3', 'early_stopping_tolerance': '0.001', '_enable_profiler': 'false'}\u001b[0m\n",
            "\u001b[34m[01/26/2025 15:48:12 INFO 140623052531520] Merging with provided configuration from /opt/ml/input/config/hyperparameters.json: {'epochs': '5', 'feature_dim': '1', 'loss': 'absolute_loss', 'mini_batch_size': '5', 'num_models': '32', 'predictor_type': 'regressor'}\u001b[0m\n",
            "\u001b[34m[01/26/2025 15:48:12 INFO 140623052531520] Final configuration: {'mini_batch_size': '5', 'epochs': '5', 'feature_dim': '1', 'use_bias': 'true', 'binary_classifier_model_selection_criteria': 'accuracy', 'f_beta': '1.0', 'target_recall': '0.8', 'target_precision': '0.8', 'num_models': '32', 'num_calibration_samples': '10000000', 'init_method': 'uniform', 'init_scale': '0.07', 'init_sigma': '0.01', 'init_bias': '0.0', 'optimizer': 'auto', 'loss': 'absolute_loss', 'margin': '1.0', 'quantile': '0.5', 'loss_insensitivity': '0.01', 'huber_delta': '1.0', 'num_classes': '1', 'accuracy_top_k': '3', 'wd': 'auto', 'l1': 'auto', 'momentum': 'auto', 'learning_rate': 'auto', 'beta_1': 'auto', 'beta_2': 'auto', 'bias_lr_mult': 'auto', 'bias_wd_mult': 'auto', 'use_lr_scheduler': 'true', 'lr_scheduler_step': 'auto', 'lr_scheduler_factor': 'auto', 'lr_scheduler_minimum_lr': 'auto', 'positive_example_weight_mult': '1.0', 'balance_multiclass_weights': 'false', 'normalize_data': 'true', 'normalize_label': 'auto', 'unbias_data': 'auto', 'unbias_label': 'auto', 'num_point_for_scaler': '10000', '_kvstore': 'auto', '_num_gpus': 'auto', '_num_kv_servers': 'auto', '_log_level': 'info', '_tuning_objective_metric': '', 'early_stopping_patience': '3', 'early_stopping_tolerance': '0.001', '_enable_profiler': 'false', 'predictor_type': 'regressor'}\u001b[0m\n",
            "\u001b[34m/opt/amazon/lib/python3.8/site-packages/mxnet/model.py:97: SyntaxWarning: \"is\" with a literal. Did you mean \"==\"?\n",
            "  if num_device is 1 and 'dist' not in kvstore:\u001b[0m\n",
            "\u001b[34m/opt/amazon/lib/python3.8/site-packages/scipy/optimize/_shgo.py:495: SyntaxWarning: \"is\" with a literal. Did you mean \"==\"?\n",
            "  if cons['type'] is 'ineq':\u001b[0m\n",
            "\u001b[34m/opt/amazon/lib/python3.8/site-packages/scipy/optimize/_shgo.py:743: SyntaxWarning: \"is not\" with a literal. Did you mean \"!=\"?\n",
            "  if len(self.X_min) is not 0:\u001b[0m\n",
            "\u001b[34m[01/26/2025 15:48:14 WARNING 140623052531520] Loggers have already been setup.\u001b[0m\n",
            "\u001b[34m[01/26/2025 15:48:14 INFO 140623052531520] Final configuration: {'mini_batch_size': '5', 'epochs': '5', 'feature_dim': '1', 'use_bias': 'true', 'binary_classifier_model_selection_criteria': 'accuracy', 'f_beta': '1.0', 'target_recall': '0.8', 'target_precision': '0.8', 'num_models': '32', 'num_calibration_samples': '10000000', 'init_method': 'uniform', 'init_scale': '0.07', 'init_sigma': '0.01', 'init_bias': '0.0', 'optimizer': 'auto', 'loss': 'absolute_loss', 'margin': '1.0', 'quantile': '0.5', 'loss_insensitivity': '0.01', 'huber_delta': '1.0', 'num_classes': '1', 'accuracy_top_k': '3', 'wd': 'auto', 'l1': 'auto', 'momentum': 'auto', 'learning_rate': 'auto', 'beta_1': 'auto', 'beta_2': 'auto', 'bias_lr_mult': 'auto', 'bias_wd_mult': 'auto', 'use_lr_scheduler': 'true', 'lr_scheduler_step': 'auto', 'lr_scheduler_factor': 'auto', 'lr_scheduler_minimum_lr': 'auto', 'positive_example_weight_mult': '1.0', 'balance_multiclass_weights': 'false', 'normalize_data': 'true', 'normalize_label': 'auto', 'unbias_data': 'auto', 'unbias_label': 'auto', 'num_point_for_scaler': '10000', '_kvstore': 'auto', '_num_gpus': 'auto', '_num_kv_servers': 'auto', '_log_level': 'info', '_tuning_objective_metric': '', 'early_stopping_patience': '3', 'early_stopping_tolerance': '0.001', '_enable_profiler': 'false', 'predictor_type': 'regressor'}\u001b[0m\n",
            "\u001b[34m[01/26/2025 15:48:14 WARNING 140623052531520] Loggers have already been setup.\u001b[0m\n",
            "\u001b[34mProcess 7 is a worker.\u001b[0m\n",
            "\u001b[34m[01/26/2025 15:48:14 INFO 140623052531520] Using default worker.\u001b[0m\n",
            "\u001b[34m[01/26/2025 15:48:14 INFO 140623052531520] Checkpoint loading and saving are disabled.\u001b[0m\n",
            "\u001b[34m[2025-01-26 15:48:14.564] [tensorio] [info] epoch_stats={\"data_pipeline\": \"/opt/ml/input/data/train\", \"epoch\": 0, \"duration\": 10, \"num_examples\": 1, \"num_bytes\": 240}\u001b[0m\n",
            "\u001b[34m[01/26/2025 15:48:14 INFO 140623052531520] Create Store: local\u001b[0m\n",
            "\u001b[34m[2025-01-26 15:48:14.589] [tensorio] [info] epoch_stats={\"data_pipeline\": \"/opt/ml/input/data/train\", \"epoch\": 1, \"duration\": 24, \"num_examples\": 6, \"num_bytes\": 1344}\u001b[0m\n",
            "\u001b[34m[01/26/2025 15:48:14 INFO 140623052531520] Scaler algorithm parameters\n",
            " <algorithm.scaler.ScalerAlgorithmStable object at 0x7fe4ca35d490>\u001b[0m\n",
            "\u001b[34m[01/26/2025 15:48:14 INFO 140623052531520] Scaling model computed with parameters:\n",
            " {'stdev_label': \u001b[0m\n",
            "\u001b[34m[29530.264]\u001b[0m\n",
            "\u001b[34m<NDArray 1 @cpu(0)>, 'stdev_weight': \u001b[0m\n",
            "\u001b[34m[3.2511804]\u001b[0m\n",
            "\u001b[34m<NDArray 1 @cpu(0)>, 'mean_label': \u001b[0m\n",
            "\u001b[34m[76477.97]\u001b[0m\n",
            "\u001b[34m<NDArray 1 @cpu(0)>, 'mean_weight': \u001b[0m\n",
            "\u001b[34m[5.4680004]\u001b[0m\n",
            "\u001b[34m<NDArray 1 @cpu(0)>}\u001b[0m\n",
            "\u001b[34m/opt/amazon/python3.8/lib/python3.8/subprocess.py:848: RuntimeWarning: line buffering (buffering=1) isn't supported in binary mode, the default buffer size will be used\n",
            "  self.stdout = io.open(c2pread, 'rb', bufsize)\u001b[0m\n",
            "\u001b[34m[01/26/2025 15:48:14 INFO 140623052531520] nvidia-smi: took 0.032 seconds to run.\u001b[0m\n",
            "\u001b[34m[01/26/2025 15:48:14 INFO 140623052531520] nvidia-smi identified 0 GPUs.\u001b[0m\n",
            "\u001b[34m[01/26/2025 15:48:14 INFO 140623052531520] Number of GPUs being used: 0\u001b[0m\n",
            "\u001b[34m#metrics {\"StartTime\": 1737906494.6744869, \"EndTime\": 1737906494.6745195, \"Dimensions\": {\"Algorithm\": \"Linear Learner\", \"Host\": \"algo-1\", \"Operation\": \"training\", \"Meta\": \"init_train_data_iter\"}, \"Metrics\": {\"Total Records Seen\": {\"sum\": 33.0, \"count\": 1, \"min\": 33, \"max\": 33}, \"Total Batches Seen\": {\"sum\": 7.0, \"count\": 1, \"min\": 7, \"max\": 7}, \"Max Records Seen Between Resets\": {\"sum\": 28.0, \"count\": 1, \"min\": 28, \"max\": 28}, \"Max Batches Seen Between Resets\": {\"sum\": 6.0, \"count\": 1, \"min\": 6, \"max\": 6}, \"Reset Count\": {\"sum\": 2.0, \"count\": 1, \"min\": 2, \"max\": 2}, \"Number of Records Since Last Reset\": {\"sum\": 0.0, \"count\": 1, \"min\": 0, \"max\": 0}, \"Number of Batches Since Last Reset\": {\"sum\": 0.0, \"count\": 1, \"min\": 0, \"max\": 0}}}\u001b[0m\n",
            "\u001b[34m[2025-01-26 15:48:14.744] [tensorio] [info] epoch_stats={\"data_pipeline\": \"/opt/ml/input/data/train\", \"epoch\": 4, \"duration\": 70, \"num_examples\": 6, \"num_bytes\": 1344}\u001b[0m\n",
            "\u001b[34m#metrics {\"StartTime\": 1737906494.7449932, \"EndTime\": 1737906494.7450535, \"Dimensions\": {\"Algorithm\": \"Linear Learner\", \"Host\": \"algo-1\", \"Operation\": \"training\", \"epoch\": 0, \"model\": 0}, \"Metrics\": {\"train_absolute_loss_objective\": {\"sum\": 0.8772795486450196, \"count\": 1, \"min\": 0.8772795486450196, \"max\": 0.8772795486450196}}}\u001b[0m\n",
            "\u001b[34m#metrics {\"StartTime\": 1737906494.7451239, \"EndTime\": 1737906494.7451346, \"Dimensions\": {\"Algorithm\": \"Linear Learner\", \"Host\": \"algo-1\", \"Operation\": \"training\", \"epoch\": 0, \"model\": 1}, \"Metrics\": {\"train_absolute_loss_objective\": {\"sum\": 0.8963236713409424, \"count\": 1, \"min\": 0.8963236713409424, \"max\": 0.8963236713409424}}}\u001b[0m\n",
            "\u001b[34m#metrics {\"StartTime\": 1737906494.7451649, \"EndTime\": 1737906494.7451725, \"Dimensions\": {\"Algorithm\": \"Linear Learner\", \"Host\": \"algo-1\", \"Operation\": \"training\", \"epoch\": 0, \"model\": 2}, \"Metrics\": {\"train_absolute_loss_objective\": {\"sum\": 0.8795864772796631, \"count\": 1, \"min\": 0.8795864772796631, \"max\": 0.8795864772796631}}}\u001b[0m\n",
            "\u001b[34m#metrics {\"StartTime\": 1737906494.7451959, \"EndTime\": 1737906494.7452025, \"Dimensions\": {\"Algorithm\": \"Linear Learner\", \"Host\": \"algo-1\", \"Operation\": \"training\", \"epoch\": 0, \"model\": 3}, \"Metrics\": {\"train_absolute_loss_objective\": {\"sum\": 0.8953504085540771, \"count\": 1, \"min\": 0.8953504085540771, \"max\": 0.8953504085540771}}}\u001b[0m\n",
            "\u001b[34m#metrics {\"StartTime\": 1737906494.7452283, \"EndTime\": 1737906494.7452357, \"Dimensions\": {\"Algorithm\": \"Linear Learner\", \"Host\": \"algo-1\", \"Operation\": \"training\", \"epoch\": 0, \"model\": 4}, \"Metrics\": {\"train_absolute_loss_objective\": {\"sum\": 0.9272176361083985, \"count\": 1, \"min\": 0.9272176361083985, \"max\": 0.9272176361083985}}}\u001b[0m\n",
            "\u001b[34m#metrics {\"StartTime\": 1737906494.7452555, \"EndTime\": 1737906494.745261, \"Dimensions\": {\"Algorithm\": \"Linear Learner\", \"Host\": \"algo-1\", \"Operation\": \"training\", \"epoch\": 0, \"model\": 5}, \"Metrics\": {\"train_absolute_loss_objective\": {\"sum\": 0.9353847885131836, \"count\": 1, \"min\": 0.9353847885131836, \"max\": 0.9353847885131836}}}\u001b[0m\n",
            "\u001b[34m#metrics {\"StartTime\": 1737906494.7452862, \"EndTime\": 1737906494.7452917, \"Dimensions\": {\"Algorithm\": \"Linear Learner\", \"Host\": \"algo-1\", \"Operation\": \"training\", \"epoch\": 0, \"model\": 6}, \"Metrics\": {\"train_absolute_loss_objective\": {\"sum\": 1.0051832389831543, \"count\": 1, \"min\": 1.0051832389831543, \"max\": 1.0051832389831543}}}\u001b[0m\n",
            "\u001b[34m#metrics {\"StartTime\": 1737906494.7453153, \"EndTime\": 1737906494.745321, \"Dimensions\": {\"Algorithm\": \"Linear Learner\", \"Host\": \"algo-1\", \"Operation\": \"training\", \"epoch\": 0, \"model\": 7}, \"Metrics\": {\"train_absolute_loss_objective\": {\"sum\": 0.9808819675445557, \"count\": 1, \"min\": 0.9808819675445557, \"max\": 0.9808819675445557}}}\u001b[0m\n",
            "\u001b[34m#metrics {\"StartTime\": 1737906494.7453496, \"EndTime\": 1737906494.745358, \"Dimensions\": {\"Algorithm\": \"Linear Learner\", \"Host\": \"algo-1\", \"Operation\": \"training\", \"epoch\": 0, \"model\": 8}, \"Metrics\": {\"train_absolute_loss_objective\": {\"sum\": 0.9307503986358643, \"count\": 1, \"min\": 0.9307503986358643, \"max\": 0.9307503986358643}}}\u001b[0m\n",
            "\u001b[34m#metrics {\"StartTime\": 1737906494.7453861, \"EndTime\": 1737906494.7453923, \"Dimensions\": {\"Algorithm\": \"Linear Learner\", \"Host\": \"algo-1\", \"Operation\": \"training\", \"epoch\": 0, \"model\": 9}, \"Metrics\": {\"train_absolute_loss_objective\": {\"sum\": 0.8657723617553711, \"count\": 1, \"min\": 0.8657723617553711, \"max\": 0.8657723617553711}}}\u001b[0m\n",
            "\u001b[34m#metrics {\"StartTime\": 1737906494.7454135, \"EndTime\": 1737906494.7454193, \"Dimensions\": {\"Algorithm\": \"Linear Learner\", \"Host\": \"algo-1\", \"Operation\": \"training\", \"epoch\": 0, \"model\": 10}, \"Metrics\": {\"train_absolute_loss_objective\": {\"sum\": 0.8721801567077637, \"count\": 1, \"min\": 0.8721801567077637, \"max\": 0.8721801567077637}}}\u001b[0m\n",
            "\u001b[34m#metrics {\"StartTime\": 1737906494.745444, \"EndTime\": 1737906494.7454517, \"Dimensions\": {\"Algorithm\": \"Linear Learner\", \"Host\": \"algo-1\", \"Operation\": \"training\", \"epoch\": 0, \"model\": 11}, \"Metrics\": {\"train_absolute_loss_objective\": {\"sum\": 0.8580106163024902, \"count\": 1, \"min\": 0.8580106163024902, \"max\": 0.8580106163024902}}}\u001b[0m\n",
            "\u001b[34m#metrics {\"StartTime\": 1737906494.7454827, \"EndTime\": 1737906494.7454891, \"Dimensions\": {\"Algorithm\": \"Linear Learner\", \"Host\": \"algo-1\", \"Operation\": \"training\", \"epoch\": 0, \"model\": 12}, \"Metrics\": {\"train_absolute_loss_objective\": {\"sum\": 0.9346579170227051, \"count\": 1, \"min\": 0.9346579170227051, \"max\": 0.9346579170227051}}}\u001b[0m\n",
            "\u001b[34m#metrics {\"StartTime\": 1737906494.745512, \"EndTime\": 1737906494.7455173, \"Dimensions\": {\"Algorithm\": \"Linear Learner\", \"Host\": \"algo-1\", \"Operation\": \"training\", \"epoch\": 0, \"model\": 13}, \"Metrics\": {\"train_absolute_loss_objective\": {\"sum\": 0.9566889476776123, \"count\": 1, \"min\": 0.9566889476776123, \"max\": 0.9566889476776123}}}\u001b[0m\n",
            "\u001b[34m#metrics {\"StartTime\": 1737906494.7455382, \"EndTime\": 1737906494.7455437, \"Dimensions\": {\"Algorithm\": \"Linear Learner\", \"Host\": \"algo-1\", \"Operation\": \"training\", \"epoch\": 0, \"model\": 14}, \"Metrics\": {\"train_absolute_loss_objective\": {\"sum\": 0.9334100341796875, \"count\": 1, \"min\": 0.9334100341796875, \"max\": 0.9334100341796875}}}\u001b[0m\n",
            "\u001b[34m#metrics {\"StartTime\": 1737906494.745562, \"EndTime\": 1737906494.7455678, \"Dimensions\": {\"Algorithm\": \"Linear Learner\", \"Host\": \"algo-1\", \"Operation\": \"training\", \"epoch\": 0, \"model\": 15}, \"Metrics\": {\"train_absolute_loss_objective\": {\"sum\": 0.9619690418243408, \"count\": 1, \"min\": 0.9619690418243408, \"max\": 0.9619690418243408}}}\u001b[0m\n",
            "\u001b[34m#metrics {\"StartTime\": 1737906494.7455857, \"EndTime\": 1737906494.7455916, \"Dimensions\": {\"Algorithm\": \"Linear Learner\", \"Host\": \"algo-1\", \"Operation\": \"training\", \"epoch\": 0, \"model\": 16}, \"Metrics\": {\"train_absolute_loss_objective\": {\"sum\": 0.8427664184570313, \"count\": 1, \"min\": 0.8427664184570313, \"max\": 0.8427664184570313}}}\u001b[0m\n",
            "\u001b[34m#metrics {\"StartTime\": 1737906494.7456095, \"EndTime\": 1737906494.7456148, \"Dimensions\": {\"Algorithm\": \"Linear Learner\", \"Host\": \"algo-1\", \"Operation\": \"training\", \"epoch\": 0, \"model\": 17}, \"Metrics\": {\"train_absolute_loss_objective\": {\"sum\": 0.891776647567749, \"count\": 1, \"min\": 0.891776647567749, \"max\": 0.891776647567749}}}\u001b[0m\n",
            "\u001b[34m#metrics {\"StartTime\": 1737906494.745633, \"EndTime\": 1737906494.7456381, \"Dimensions\": {\"Algorithm\": \"Linear Learner\", \"Host\": \"algo-1\", \"Operation\": \"training\", \"epoch\": 0, \"model\": 18}, \"Metrics\": {\"train_absolute_loss_objective\": {\"sum\": 0.8686459922790527, \"count\": 1, \"min\": 0.8686459922790527, \"max\": 0.8686459922790527}}}\u001b[0m\n",
            "\u001b[34m#metrics {\"StartTime\": 1737906494.7456582, \"EndTime\": 1737906494.7456634, \"Dimensions\": {\"Algorithm\": \"Linear Learner\", \"Host\": \"algo-1\", \"Operation\": \"training\", \"epoch\": 0, \"model\": 19}, \"Metrics\": {\"train_absolute_loss_objective\": {\"sum\": 0.8660623741149902, \"count\": 1, \"min\": 0.8660623741149902, \"max\": 0.8660623741149902}}}\u001b[0m\n",
            "\u001b[34m#metrics {\"StartTime\": 1737906494.745682, \"EndTime\": 1737906494.7456872, \"Dimensions\": {\"Algorithm\": \"Linear Learner\", \"Host\": \"algo-1\", \"Operation\": \"training\", \"epoch\": 0, \"model\": 20}, \"Metrics\": {\"train_absolute_loss_objective\": {\"sum\": 0.9736450576782226, \"count\": 1, \"min\": 0.9736450576782226, \"max\": 0.9736450576782226}}}\u001b[0m\n",
            "\u001b[34m#metrics {\"StartTime\": 1737906494.7457051, \"EndTime\": 1737906494.7457106, \"Dimensions\": {\"Algorithm\": \"Linear Learner\", \"Host\": \"algo-1\", \"Operation\": \"training\", \"epoch\": 0, \"model\": 21}, \"Metrics\": {\"train_absolute_loss_objective\": {\"sum\": 0.9862067890167237, \"count\": 1, \"min\": 0.9862067890167237, \"max\": 0.9862067890167237}}}\u001b[0m\n",
            "\u001b[34m#metrics {\"StartTime\": 1737906494.7457285, \"EndTime\": 1737906494.745734, \"Dimensions\": {\"Algorithm\": \"Linear Learner\", \"Host\": \"algo-1\", \"Operation\": \"training\", \"epoch\": 0, \"model\": 22}, \"Metrics\": {\"train_absolute_loss_objective\": {\"sum\": 0.9330064201354981, \"count\": 1, \"min\": 0.9330064201354981, \"max\": 0.9330064201354981}}}\u001b[0m\n",
            "\u001b[34m#metrics {\"StartTime\": 1737906494.745752, \"EndTime\": 1737906494.745757, \"Dimensions\": {\"Algorithm\": \"Linear Learner\", \"Host\": \"algo-1\", \"Operation\": \"training\", \"epoch\": 0, \"model\": 23}, \"Metrics\": {\"train_absolute_loss_objective\": {\"sum\": 1.0078353881835938, \"count\": 1, \"min\": 1.0078353881835938, \"max\": 1.0078353881835938}}}\u001b[0m\n",
            "\u001b[34m#metrics {\"StartTime\": 1737906494.7457776, \"EndTime\": 1737906494.7457829, \"Dimensions\": {\"Algorithm\": \"Linear Learner\", \"Host\": \"algo-1\", \"Operation\": \"training\", \"epoch\": 0, \"model\": 24}, \"Metrics\": {\"train_absolute_loss_objective\": {\"sum\": 0.8451852798461914, \"count\": 1, \"min\": 0.8451852798461914, \"max\": 0.8451852798461914}}}\u001b[0m\n",
            "\u001b[34m#metrics {\"StartTime\": 1737906494.7458043, \"EndTime\": 1737906494.7458096, \"Dimensions\": {\"Algorithm\": \"Linear Learner\", \"Host\": \"algo-1\", \"Operation\": \"training\", \"epoch\": 0, \"model\": 25}, \"Metrics\": {\"train_absolute_loss_objective\": {\"sum\": 0.9090172863006591, \"count\": 1, \"min\": 0.9090172863006591, \"max\": 0.9090172863006591}}}\u001b[0m\n",
            "\u001b[34m#metrics {\"StartTime\": 1737906494.745828, \"EndTime\": 1737906494.745833, \"Dimensions\": {\"Algorithm\": \"Linear Learner\", \"Host\": \"algo-1\", \"Operation\": \"training\", \"epoch\": 0, \"model\": 26}, \"Metrics\": {\"train_absolute_loss_objective\": {\"sum\": 0.8963900852203369, \"count\": 1, \"min\": 0.8963900852203369, \"max\": 0.8963900852203369}}}\u001b[0m\n",
            "\u001b[34m#metrics {\"StartTime\": 1737906494.7458506, \"EndTime\": 1737906494.7458558, \"Dimensions\": {\"Algorithm\": \"Linear Learner\", \"Host\": \"algo-1\", \"Operation\": \"training\", \"epoch\": 0, \"model\": 27}, \"Metrics\": {\"train_absolute_loss_objective\": {\"sum\": 0.886657600402832, \"count\": 1, \"min\": 0.886657600402832, \"max\": 0.886657600402832}}}\u001b[0m\n",
            "\u001b[34m#metrics {\"StartTime\": 1737906494.7458735, \"EndTime\": 1737906494.7458785, \"Dimensions\": {\"Algorithm\": \"Linear Learner\", \"Host\": \"algo-1\", \"Operation\": \"training\", \"epoch\": 0, \"model\": 28}, \"Metrics\": {\"train_absolute_loss_objective\": {\"sum\": 1.0651231765747071, \"count\": 1, \"min\": 1.0651231765747071, \"max\": 1.0651231765747071}}}\u001b[0m\n",
            "\u001b[34m#metrics {\"StartTime\": 1737906494.7458968, \"EndTime\": 1737906494.7459018, \"Dimensions\": {\"Algorithm\": \"Linear Learner\", \"Host\": \"algo-1\", \"Operation\": \"training\", \"epoch\": 0, \"model\": 29}, \"Metrics\": {\"train_absolute_loss_objective\": {\"sum\": 1.0654059028625489, \"count\": 1, \"min\": 1.0654059028625489, \"max\": 1.0654059028625489}}}\u001b[0m\n",
            "\u001b[34m#metrics {\"StartTime\": 1737906494.7459219, \"EndTime\": 1737906494.7459269, \"Dimensions\": {\"Algorithm\": \"Linear Learner\", \"Host\": \"algo-1\", \"Operation\": \"training\", \"epoch\": 0, \"model\": 30}, \"Metrics\": {\"train_absolute_loss_objective\": {\"sum\": 1.0743962669372558, \"count\": 1, \"min\": 1.0743962669372558, \"max\": 1.0743962669372558}}}\u001b[0m\n",
            "\u001b[34m#metrics {\"StartTime\": 1737906494.7459474, \"EndTime\": 1737906494.7459528, \"Dimensions\": {\"Algorithm\": \"Linear Learner\", \"Host\": \"algo-1\", \"Operation\": \"training\", \"epoch\": 0, \"model\": 31}, \"Metrics\": {\"train_absolute_loss_objective\": {\"sum\": 1.0717814445495606, \"count\": 1, \"min\": 1.0717814445495606, \"max\": 1.0717814445495606}}}\u001b[0m\n",
            "\u001b[34m[01/26/2025 15:48:14 INFO 140623052531520] #quality_metric: host=algo-1, epoch=0, train absolute_loss_objective <loss>=0.8772795486450196\u001b[0m\n",
            "\u001b[34m[01/26/2025 15:48:14 INFO 140623052531520] #early_stopping_criteria_metric: host=algo-1, epoch=0, criteria=absolute_loss_objective, value=0.8427664184570313\u001b[0m\n",
            "\u001b[34m[01/26/2025 15:48:14 INFO 140623052531520] Epoch 0: Loss improved. Updating best model\u001b[0m\n",
            "\u001b[34m[01/26/2025 15:48:14 INFO 140623052531520] Saving model for epoch: 0\u001b[0m\n",
            "\u001b[34m[01/26/2025 15:48:14 INFO 140623052531520] Saved checkpoint to \"/tmp/tmpzx_ufdoi/mx-mod-0000.params\"\u001b[0m\n",
            "\u001b[34m[01/26/2025 15:48:14 INFO 140623052531520] #progress_metric: host=algo-1, completed 20.0 % of epochs\u001b[0m\n",
            "\u001b[34m#metrics {\"StartTime\": 1737906494.6747506, \"EndTime\": 1737906494.754294, \"Dimensions\": {\"Algorithm\": \"Linear Learner\", \"Host\": \"algo-1\", \"Operation\": \"training\", \"epoch\": 0, \"Meta\": \"training_data_iter\"}, \"Metrics\": {\"Total Records Seen\": {\"sum\": 61.0, \"count\": 1, \"min\": 61, \"max\": 61}, \"Total Batches Seen\": {\"sum\": 13.0, \"count\": 1, \"min\": 13, \"max\": 13}, \"Max Records Seen Between Resets\": {\"sum\": 28.0, \"count\": 1, \"min\": 28, \"max\": 28}, \"Max Batches Seen Between Resets\": {\"sum\": 6.0, \"count\": 1, \"min\": 6, \"max\": 6}, \"Reset Count\": {\"sum\": 3.0, \"count\": 1, \"min\": 3, \"max\": 3}, \"Number of Records Since Last Reset\": {\"sum\": 28.0, \"count\": 1, \"min\": 28, \"max\": 28}, \"Number of Batches Since Last Reset\": {\"sum\": 6.0, \"count\": 1, \"min\": 6, \"max\": 6}}}\u001b[0m\n",
            "\u001b[34m[01/26/2025 15:48:14 INFO 140623052531520] #throughput_metric: host=algo-1, train throughput=351.6319856760892 records/second\u001b[0m\n",
            "\u001b[34m[2025-01-26 15:48:14.813] [tensorio] [info] epoch_stats={\"data_pipeline\": \"/opt/ml/input/data/train\", \"epoch\": 6, \"duration\": 59, \"num_examples\": 6, \"num_bytes\": 1344}\u001b[0m\n",
            "\u001b[34m#metrics {\"StartTime\": 1737906494.8137226, \"EndTime\": 1737906494.8142292, \"Dimensions\": {\"Algorithm\": \"Linear Learner\", \"Host\": \"algo-1\", \"Operation\": \"training\", \"epoch\": 1, \"model\": 0}, \"Metrics\": {\"train_absolute_loss_objective\": {\"sum\": 0.8346194648742675, \"count\": 1, \"min\": 0.8346194648742675, \"max\": 0.8346194648742675}}}\u001b[0m\n",
            "\u001b[34m#metrics {\"StartTime\": 1737906494.8142965, \"EndTime\": 1737906494.814308, \"Dimensions\": {\"Algorithm\": \"Linear Learner\", \"Host\": \"algo-1\", \"Operation\": \"training\", \"epoch\": 1, \"model\": 1}, \"Metrics\": {\"train_absolute_loss_objective\": {\"sum\": 0.8536635684967041, \"count\": 1, \"min\": 0.8536635684967041, \"max\": 0.8536635684967041}}}\u001b[0m\n",
            "\u001b[34m#metrics {\"StartTime\": 1737906494.8143368, \"EndTime\": 1737906494.8143432, \"Dimensions\": {\"Algorithm\": \"Linear Learner\", \"Host\": \"algo-1\", \"Operation\": \"training\", \"epoch\": 1, \"model\": 2}, \"Metrics\": {\"train_absolute_loss_objective\": {\"sum\": 0.836926383972168, \"count\": 1, \"min\": 0.836926383972168, \"max\": 0.836926383972168}}}\u001b[0m\n",
            "\u001b[34m#metrics {\"StartTime\": 1737906494.814368, \"EndTime\": 1737906494.814374, \"Dimensions\": {\"Algorithm\": \"Linear Learner\", \"Host\": \"algo-1\", \"Operation\": \"training\", \"epoch\": 1, \"model\": 3}, \"Metrics\": {\"train_absolute_loss_objective\": {\"sum\": 0.852690315246582, \"count\": 1, \"min\": 0.852690315246582, \"max\": 0.852690315246582}}}\u001b[0m\n",
            "\u001b[34m#metrics {\"StartTime\": 1737906494.8143926, \"EndTime\": 1737906494.8143983, \"Dimensions\": {\"Algorithm\": \"Linear Learner\", \"Host\": \"algo-1\", \"Operation\": \"training\", \"epoch\": 1, \"model\": 4}, \"Metrics\": {\"train_absolute_loss_objective\": {\"sum\": 0.42539639472961427, \"count\": 1, \"min\": 0.42539639472961427, \"max\": 0.42539639472961427}}}\u001b[0m\n",
            "\u001b[34m#metrics {\"StartTime\": 1737906494.8144171, \"EndTime\": 1737906494.8144226, \"Dimensions\": {\"Algorithm\": \"Linear Learner\", \"Host\": \"algo-1\", \"Operation\": \"training\", \"epoch\": 1, \"model\": 5}, \"Metrics\": {\"train_absolute_loss_objective\": {\"sum\": 0.4297494316101074, \"count\": 1, \"min\": 0.4297494316101074, \"max\": 0.4297494316101074}}}\u001b[0m\n",
            "\u001b[34m#metrics {\"StartTime\": 1737906494.8144407, \"EndTime\": 1737906494.814446, \"Dimensions\": {\"Algorithm\": \"Linear Learner\", \"Host\": \"algo-1\", \"Operation\": \"training\", \"epoch\": 1, \"model\": 6}, \"Metrics\": {\"train_absolute_loss_objective\": {\"sum\": 0.4914418649673462, \"count\": 1, \"min\": 0.4914418649673462, \"max\": 0.4914418649673462}}}\u001b[0m\n",
            "\u001b[34m#metrics {\"StartTime\": 1737906494.8144674, \"EndTime\": 1737906494.814473, \"Dimensions\": {\"Algorithm\": \"Linear Learner\", \"Host\": \"algo-1\", \"Operation\": \"training\", \"epoch\": 1, \"model\": 7}, \"Metrics\": {\"train_absolute_loss_objective\": {\"sum\": 0.47105990409851073, \"count\": 1, \"min\": 0.47105990409851073, \"max\": 0.47105990409851073}}}\u001b[0m\n",
            "\u001b[34m#metrics {\"StartTime\": 1737906494.8144956, \"EndTime\": 1737906494.814501, \"Dimensions\": {\"Algorithm\": \"Linear Learner\", \"Host\": \"algo-1\", \"Operation\": \"training\", \"epoch\": 1, \"model\": 8}, \"Metrics\": {\"train_absolute_loss_objective\": {\"sum\": 0.8880896472930908, \"count\": 1, \"min\": 0.8880896472930908, \"max\": 0.8880896472930908}}}\u001b[0m\n",
            "\u001b[34m#metrics {\"StartTime\": 1737906494.8145237, \"EndTime\": 1737906494.814529, \"Dimensions\": {\"Algorithm\": \"Linear Learner\", \"Host\": \"algo-1\", \"Operation\": \"training\", \"epoch\": 1, \"model\": 9}, \"Metrics\": {\"train_absolute_loss_objective\": {\"sum\": 0.8231132316589356, \"count\": 1, \"min\": 0.8231132316589356, \"max\": 0.8231132316589356}}}\u001b[0m\n",
            "\u001b[34m#metrics {\"StartTime\": 1737906494.8145492, \"EndTime\": 1737906494.8145547, \"Dimensions\": {\"Algorithm\": \"Linear Learner\", \"Host\": \"algo-1\", \"Operation\": \"training\", \"epoch\": 1, \"model\": 10}, \"Metrics\": {\"train_absolute_loss_objective\": {\"sum\": 0.8295208740234375, \"count\": 1, \"min\": 0.8295208740234375, \"max\": 0.8295208740234375}}}\u001b[0m\n",
            "\u001b[34m#metrics {\"StartTime\": 1737906494.8145726, \"EndTime\": 1737906494.8145778, \"Dimensions\": {\"Algorithm\": \"Linear Learner\", \"Host\": \"algo-1\", \"Operation\": \"training\", \"epoch\": 1, \"model\": 11}, \"Metrics\": {\"train_absolute_loss_objective\": {\"sum\": 0.8153516769409179, \"count\": 1, \"min\": 0.8153516769409179, \"max\": 0.8153516769409179}}}\u001b[0m\n",
            "\u001b[34m#metrics {\"StartTime\": 1737906494.8145957, \"EndTime\": 1737906494.814601, \"Dimensions\": {\"Algorithm\": \"Linear Learner\", \"Host\": \"algo-1\", \"Operation\": \"training\", \"epoch\": 1, \"model\": 12}, \"Metrics\": {\"train_absolute_loss_objective\": {\"sum\": 0.42963629245758056, \"count\": 1, \"min\": 0.42963629245758056, \"max\": 0.42963629245758056}}}\u001b[0m\n",
            "\u001b[34m#metrics {\"StartTime\": 1737906494.8146195, \"EndTime\": 1737906494.814625, \"Dimensions\": {\"Algorithm\": \"Linear Learner\", \"Host\": \"algo-1\", \"Operation\": \"training\", \"epoch\": 1, \"model\": 13}, \"Metrics\": {\"train_absolute_loss_objective\": {\"sum\": 0.45528368473052977, \"count\": 1, \"min\": 0.45528368473052977, \"max\": 0.45528368473052977}}}\u001b[0m\n",
            "\u001b[34m#metrics {\"StartTime\": 1737906494.8146474, \"EndTime\": 1737906494.814653, \"Dimensions\": {\"Algorithm\": \"Linear Learner\", \"Host\": \"algo-1\", \"Operation\": \"training\", \"epoch\": 1, \"model\": 14}, \"Metrics\": {\"train_absolute_loss_objective\": {\"sum\": 0.4289721393585205, \"count\": 1, \"min\": 0.4289721393585205, \"max\": 0.4289721393585205}}}\u001b[0m\n",
            "\u001b[34m#metrics {\"StartTime\": 1737906494.8146741, \"EndTime\": 1737906494.8146796, \"Dimensions\": {\"Algorithm\": \"Linear Learner\", \"Host\": \"algo-1\", \"Operation\": \"training\", \"epoch\": 1, \"model\": 15}, \"Metrics\": {\"train_absolute_loss_objective\": {\"sum\": 0.4587964916229248, \"count\": 1, \"min\": 0.4587964916229248, \"max\": 0.4587964916229248}}}\u001b[0m\n",
            "\u001b[34m#metrics {\"StartTime\": 1737906494.8146973, \"EndTime\": 1737906494.8147025, \"Dimensions\": {\"Algorithm\": \"Linear Learner\", \"Host\": \"algo-1\", \"Operation\": \"training\", \"epoch\": 1, \"model\": 16}, \"Metrics\": {\"train_absolute_loss_objective\": {\"sum\": 0.8002747631072998, \"count\": 1, \"min\": 0.8002747631072998, \"max\": 0.8002747631072998}}}\u001b[0m\n",
            "\u001b[34m#metrics {\"StartTime\": 1737906494.8147202, \"EndTime\": 1737906494.8147256, \"Dimensions\": {\"Algorithm\": \"Linear Learner\", \"Host\": \"algo-1\", \"Operation\": \"training\", \"epoch\": 1, \"model\": 17}, \"Metrics\": {\"train_absolute_loss_objective\": {\"sum\": 0.8491499423980713, \"count\": 1, \"min\": 0.8491499423980713, \"max\": 0.8491499423980713}}}\u001b[0m\n",
            "\u001b[34m#metrics {\"StartTime\": 1737906494.8147435, \"EndTime\": 1737906494.814749, \"Dimensions\": {\"Algorithm\": \"Linear Learner\", \"Host\": \"algo-1\", \"Operation\": \"training\", \"epoch\": 1, \"model\": 18}, \"Metrics\": {\"train_absolute_loss_objective\": {\"sum\": 0.8260796928405761, \"count\": 1, \"min\": 0.8260796928405761, \"max\": 0.8260796928405761}}}\u001b[0m\n",
            "\u001b[34m#metrics {\"StartTime\": 1737906494.8147697, \"EndTime\": 1737906494.814775, \"Dimensions\": {\"Algorithm\": \"Linear Learner\", \"Host\": \"algo-1\", \"Operation\": \"training\", \"epoch\": 1, \"model\": 19}, \"Metrics\": {\"train_absolute_loss_objective\": {\"sum\": 0.8235031509399414, \"count\": 1, \"min\": 0.8235031509399414, \"max\": 0.8235031509399414}}}\u001b[0m\n",
            "\u001b[34m#metrics {\"StartTime\": 1737906494.8147976, \"EndTime\": 1737906494.8148031, \"Dimensions\": {\"Algorithm\": \"Linear Learner\", \"Host\": \"algo-1\", \"Operation\": \"training\", \"epoch\": 1, \"model\": 20}, \"Metrics\": {\"train_absolute_loss_objective\": {\"sum\": 0.5299273204803466, \"count\": 1, \"min\": 0.5299273204803466, \"max\": 0.5299273204803466}}}\u001b[0m\n",
            "\u001b[34m#metrics {\"StartTime\": 1737906494.8148234, \"EndTime\": 1737906494.8148289, \"Dimensions\": {\"Algorithm\": \"Linear Learner\", \"Host\": \"algo-1\", \"Operation\": \"training\", \"epoch\": 1, \"model\": 21}, \"Metrics\": {\"train_absolute_loss_objective\": {\"sum\": 0.5372097778320313, \"count\": 1, \"min\": 0.5372097778320313, \"max\": 0.5372097778320313}}}\u001b[0m\n",
            "\u001b[34m#metrics {\"StartTime\": 1737906494.814851, \"EndTime\": 1737906494.8148565, \"Dimensions\": {\"Algorithm\": \"Linear Learner\", \"Host\": \"algo-1\", \"Operation\": \"training\", \"epoch\": 1, \"model\": 22}, \"Metrics\": {\"train_absolute_loss_objective\": {\"sum\": 0.508098440170288, \"count\": 1, \"min\": 0.508098440170288, \"max\": 0.508098440170288}}}\u001b[0m\n",
            "\u001b[34m#metrics {\"StartTime\": 1737906494.8148746, \"EndTime\": 1737906494.8148804, \"Dimensions\": {\"Algorithm\": \"Linear Learner\", \"Host\": \"algo-1\", \"Operation\": \"training\", \"epoch\": 1, \"model\": 23}, \"Metrics\": {\"train_absolute_loss_objective\": {\"sum\": 0.5502958059310913, \"count\": 1, \"min\": 0.5502958059310913, \"max\": 0.5502958059310913}}}\u001b[0m\n",
            "\u001b[34m#metrics {\"StartTime\": 1737906494.8149025, \"EndTime\": 1737906494.8149076, \"Dimensions\": {\"Algorithm\": \"Linear Learner\", \"Host\": \"algo-1\", \"Operation\": \"training\", \"epoch\": 1, \"model\": 24}, \"Metrics\": {\"train_absolute_loss_objective\": {\"sum\": 0.8420778560638428, \"count\": 1, \"min\": 0.8420778560638428, \"max\": 0.8420778560638428}}}\u001b[0m\n",
            "\u001b[34m#metrics {\"StartTime\": 1737906494.814931, \"EndTime\": 1737906494.8149364, \"Dimensions\": {\"Algorithm\": \"Linear Learner\", \"Host\": \"algo-1\", \"Operation\": \"training\", \"epoch\": 1, \"model\": 25}, \"Metrics\": {\"train_absolute_loss_objective\": {\"sum\": 0.8671501731872558, \"count\": 1, \"min\": 0.8671501731872558, \"max\": 0.8671501731872558}}}\u001b[0m\n",
            "\u001b[34m#metrics {\"StartTime\": 1737906494.8149583, \"EndTime\": 1737906494.814964, \"Dimensions\": {\"Algorithm\": \"Linear Learner\", \"Host\": \"algo-1\", \"Operation\": \"training\", \"epoch\": 1, \"model\": 26}, \"Metrics\": {\"train_absolute_loss_objective\": {\"sum\": 0.857325611114502, \"count\": 1, \"min\": 0.857325611114502, \"max\": 0.857325611114502}}}\u001b[0m\n",
            "\u001b[34m#metrics {\"StartTime\": 1737906494.814982, \"EndTime\": 1737906494.814987, \"Dimensions\": {\"Algorithm\": \"Linear Learner\", \"Host\": \"algo-1\", \"Operation\": \"training\", \"epoch\": 1, \"model\": 27}, \"Metrics\": {\"train_absolute_loss_objective\": {\"sum\": 0.8569964122772217, \"count\": 1, \"min\": 0.8569964122772217, \"max\": 0.8569964122772217}}}\u001b[0m\n",
            "\u001b[34m#metrics {\"StartTime\": 1737906494.8150043, \"EndTime\": 1737906494.8150096, \"Dimensions\": {\"Algorithm\": \"Linear Learner\", \"Host\": \"algo-1\", \"Operation\": \"training\", \"epoch\": 1, \"model\": 28}, \"Metrics\": {\"train_absolute_loss_objective\": {\"sum\": 0.8891691207885742, \"count\": 1, \"min\": 0.8891691207885742, \"max\": 0.8891691207885742}}}\u001b[0m\n",
            "\u001b[34m#metrics {\"StartTime\": 1737906494.8150275, \"EndTime\": 1737906494.8150325, \"Dimensions\": {\"Algorithm\": \"Linear Learner\", \"Host\": \"algo-1\", \"Operation\": \"training\", \"epoch\": 1, \"model\": 29}, \"Metrics\": {\"train_absolute_loss_objective\": {\"sum\": 0.8885476398468017, \"count\": 1, \"min\": 0.8885476398468017, \"max\": 0.8885476398468017}}}\u001b[0m\n",
            "\u001b[34m#metrics {\"StartTime\": 1737906494.8150547, \"EndTime\": 1737906494.81506, \"Dimensions\": {\"Algorithm\": \"Linear Learner\", \"Host\": \"algo-1\", \"Operation\": \"training\", \"epoch\": 1, \"model\": 30}, \"Metrics\": {\"train_absolute_loss_objective\": {\"sum\": 0.8816099739074708, \"count\": 1, \"min\": 0.8816099739074708, \"max\": 0.8816099739074708}}}\u001b[0m\n",
            "\u001b[34m#metrics {\"StartTime\": 1737906494.8150823, \"EndTime\": 1737906494.8150876, \"Dimensions\": {\"Algorithm\": \"Linear Learner\", \"Host\": \"algo-1\", \"Operation\": \"training\", \"epoch\": 1, \"model\": 31}, \"Metrics\": {\"train_absolute_loss_objective\": {\"sum\": 0.8852362251281738, \"count\": 1, \"min\": 0.8852362251281738, \"max\": 0.8852362251281738}}}\u001b[0m\n",
            "\u001b[34m[01/26/2025 15:48:14 INFO 140623052531520] #quality_metric: host=algo-1, epoch=1, train absolute_loss_objective <loss>=0.8346194648742675\u001b[0m\n",
            "\u001b[34m[01/26/2025 15:48:14 INFO 140623052531520] #early_stopping_criteria_metric: host=algo-1, epoch=1, criteria=absolute_loss_objective, value=0.42539639472961427\u001b[0m\n",
            "\u001b[34m[01/26/2025 15:48:14 INFO 140623052531520] Epoch 1: Loss improved. Updating best model\u001b[0m\n",
            "\u001b[34m[01/26/2025 15:48:14 INFO 140623052531520] Saving model for epoch: 1\u001b[0m\n",
            "\u001b[34m[01/26/2025 15:48:14 INFO 140623052531520] Saved checkpoint to \"/tmp/tmpxc4s0_m7/mx-mod-0000.params\"\u001b[0m\n",
            "\u001b[34m[01/26/2025 15:48:14 INFO 140623052531520] #progress_metric: host=algo-1, completed 40.0 % of epochs\u001b[0m\n",
            "\u001b[34m#metrics {\"StartTime\": 1737906494.7544687, \"EndTime\": 1737906494.8219204, \"Dimensions\": {\"Algorithm\": \"Linear Learner\", \"Host\": \"algo-1\", \"Operation\": \"training\", \"epoch\": 1, \"Meta\": \"training_data_iter\"}, \"Metrics\": {\"Total Records Seen\": {\"sum\": 89.0, \"count\": 1, \"min\": 89, \"max\": 89}, \"Total Batches Seen\": {\"sum\": 19.0, \"count\": 1, \"min\": 19, \"max\": 19}, \"Max Records Seen Between Resets\": {\"sum\": 28.0, \"count\": 1, \"min\": 28, \"max\": 28}, \"Max Batches Seen Between Resets\": {\"sum\": 6.0, \"count\": 1, \"min\": 6, \"max\": 6}, \"Reset Count\": {\"sum\": 4.0, \"count\": 1, \"min\": 4, \"max\": 4}, \"Number of Records Since Last Reset\": {\"sum\": 28.0, \"count\": 1, \"min\": 28, \"max\": 28}, \"Number of Batches Since Last Reset\": {\"sum\": 6.0, \"count\": 1, \"min\": 6, \"max\": 6}}}\u001b[0m\n",
            "\u001b[34m[01/26/2025 15:48:14 INFO 140623052531520] #throughput_metric: host=algo-1, train throughput=414.5446946699612 records/second\u001b[0m\n",
            "\u001b[34m[2025-01-26 15:48:14.884] [tensorio] [info] epoch_stats={\"data_pipeline\": \"/opt/ml/input/data/train\", \"epoch\": 8, \"duration\": 62, \"num_examples\": 6, \"num_bytes\": 1344}\u001b[0m\n",
            "\u001b[34m#metrics {\"StartTime\": 1737906494.884714, \"EndTime\": 1737906494.8847685, \"Dimensions\": {\"Algorithm\": \"Linear Learner\", \"Host\": \"algo-1\", \"Operation\": \"training\", \"epoch\": 2, \"model\": 0}, \"Metrics\": {\"train_absolute_loss_objective\": {\"sum\": 0.7943604373931885, \"count\": 1, \"min\": 0.7943604373931885, \"max\": 0.7943604373931885}}}\u001b[0m\n",
            "\u001b[34m#metrics {\"StartTime\": 1737906494.8848321, \"EndTime\": 1737906494.8848424, \"Dimensions\": {\"Algorithm\": \"Linear Learner\", \"Host\": \"algo-1\", \"Operation\": \"training\", \"epoch\": 2, \"model\": 1}, \"Metrics\": {\"train_absolute_loss_objective\": {\"sum\": 0.8132446002960205, \"count\": 1, \"min\": 0.8132446002960205, \"max\": 0.8132446002960205}}}\u001b[0m\n",
            "\u001b[34m#metrics {\"StartTime\": 1737906494.8848867, \"EndTime\": 1737906494.8848937, \"Dimensions\": {\"Algorithm\": \"Linear Learner\", \"Host\": \"algo-1\", \"Operation\": \"training\", \"epoch\": 2, \"model\": 2}, \"Metrics\": {\"train_absolute_loss_objective\": {\"sum\": 0.7966673660278321, \"count\": 1, \"min\": 0.7966673660278321, \"max\": 0.7966673660278321}}}\u001b[0m\n",
            "\u001b[34m#metrics {\"StartTime\": 1737906494.8849185, \"EndTime\": 1737906494.8849244, \"Dimensions\": {\"Algorithm\": \"Linear Learner\", \"Host\": \"algo-1\", \"Operation\": \"training\", \"epoch\": 2, \"model\": 3}, \"Metrics\": {\"train_absolute_loss_objective\": {\"sum\": 0.8122713565826416, \"count\": 1, \"min\": 0.8122713565826416, \"max\": 0.8122713565826416}}}\u001b[0m\n",
            "\u001b[34m#metrics {\"StartTime\": 1737906494.8849437, \"EndTime\": 1737906494.884949, \"Dimensions\": {\"Algorithm\": \"Linear Learner\", \"Host\": \"algo-1\", \"Operation\": \"training\", \"epoch\": 2, \"model\": 4}, \"Metrics\": {\"train_absolute_loss_objective\": {\"sum\": 0.2715931534767151, \"count\": 1, \"min\": 0.2715931534767151, \"max\": 0.2715931534767151}}}\u001b[0m\n",
            "\u001b[34m#metrics {\"StartTime\": 1737906494.8849669, \"EndTime\": 1737906494.8849723, \"Dimensions\": {\"Algorithm\": \"Linear Learner\", \"Host\": \"algo-1\", \"Operation\": \"training\", \"epoch\": 2, \"model\": 5}, \"Metrics\": {\"train_absolute_loss_objective\": {\"sum\": 0.27114272356033325, \"count\": 1, \"min\": 0.27114272356033325, \"max\": 0.27114272356033325}}}\u001b[0m\n",
            "\u001b[34m#metrics {\"StartTime\": 1737906494.884991, \"EndTime\": 1737906494.8849964, \"Dimensions\": {\"Algorithm\": \"Linear Learner\", \"Host\": \"algo-1\", \"Operation\": \"training\", \"epoch\": 2, \"model\": 6}, \"Metrics\": {\"train_absolute_loss_objective\": {\"sum\": 0.38854801177978515, \"count\": 1, \"min\": 0.38854801177978515, \"max\": 0.38854801177978515}}}\u001b[0m\n",
            "\u001b[34m#metrics {\"StartTime\": 1737906494.8850145, \"EndTime\": 1737906494.88502, \"Dimensions\": {\"Algorithm\": \"Linear Learner\", \"Host\": \"algo-1\", \"Operation\": \"training\", \"epoch\": 2, \"model\": 7}, \"Metrics\": {\"train_absolute_loss_objective\": {\"sum\": 0.37274746417999266, \"count\": 1, \"min\": 0.37274746417999266, \"max\": 0.37274746417999266}}}\u001b[0m\n",
            "\u001b[34m#metrics {\"StartTime\": 1737906494.8850386, \"EndTime\": 1737906494.8850439, \"Dimensions\": {\"Algorithm\": \"Linear Learner\", \"Host\": \"algo-1\", \"Operation\": \"training\", \"epoch\": 2, \"model\": 8}, \"Metrics\": {\"train_absolute_loss_objective\": {\"sum\": 0.8478309822082519, \"count\": 1, \"min\": 0.8478309822082519, \"max\": 0.8478309822082519}}}\u001b[0m\n",
            "\u001b[34m#metrics {\"StartTime\": 1737906494.885065, \"EndTime\": 1737906494.8850703, \"Dimensions\": {\"Algorithm\": \"Linear Learner\", \"Host\": \"algo-1\", \"Operation\": \"training\", \"epoch\": 2, \"model\": 9}, \"Metrics\": {\"train_absolute_loss_objective\": {\"sum\": 0.7826960849761962, \"count\": 1, \"min\": 0.7826960849761962, \"max\": 0.7826960849761962}}}\u001b[0m\n",
            "\u001b[34m#metrics {\"StartTime\": 1737906494.8850882, \"EndTime\": 1737906494.8850937, \"Dimensions\": {\"Algorithm\": \"Linear Learner\", \"Host\": \"algo-1\", \"Operation\": \"training\", \"epoch\": 2, \"model\": 10}, \"Metrics\": {\"train_absolute_loss_objective\": {\"sum\": 0.7892634963989258, \"count\": 1, \"min\": 0.7892634963989258, \"max\": 0.7892634963989258}}}\u001b[0m\n",
            "\u001b[34m#metrics {\"StartTime\": 1737906494.8851113, \"EndTime\": 1737906494.8851166, \"Dimensions\": {\"Algorithm\": \"Linear Learner\", \"Host\": \"algo-1\", \"Operation\": \"training\", \"epoch\": 2, \"model\": 11}, \"Metrics\": {\"train_absolute_loss_objective\": {\"sum\": 0.7749347114562988, \"count\": 1, \"min\": 0.7749347114562988, \"max\": 0.7749347114562988}}}\u001b[0m\n",
            "\u001b[34m#metrics {\"StartTime\": 1737906494.8851347, \"EndTime\": 1737906494.8851397, \"Dimensions\": {\"Algorithm\": \"Linear Learner\", \"Host\": \"algo-1\", \"Operation\": \"training\", \"epoch\": 2, \"model\": 12}, \"Metrics\": {\"train_absolute_loss_objective\": {\"sum\": 0.2687020444869995, \"count\": 1, \"min\": 0.2687020444869995, \"max\": 0.2687020444869995}}}\u001b[0m\n",
            "\u001b[34m#metrics {\"StartTime\": 1737906494.88516, \"EndTime\": 1737906494.8851655, \"Dimensions\": {\"Algorithm\": \"Linear Learner\", \"Host\": \"algo-1\", \"Operation\": \"training\", \"epoch\": 2, \"model\": 13}, \"Metrics\": {\"train_absolute_loss_objective\": {\"sum\": 0.3739682483673096, \"count\": 1, \"min\": 0.3739682483673096, \"max\": 0.3739682483673096}}}\u001b[0m\n",
            "\u001b[34m#metrics {\"StartTime\": 1737906494.8851836, \"EndTime\": 1737906494.8851886, \"Dimensions\": {\"Algorithm\": \"Linear Learner\", \"Host\": \"algo-1\", \"Operation\": \"training\", \"epoch\": 2, \"model\": 14}, \"Metrics\": {\"train_absolute_loss_objective\": {\"sum\": 0.2691115951538086, \"count\": 1, \"min\": 0.2691115951538086, \"max\": 0.2691115951538086}}}\u001b[0m\n",
            "\u001b[34m#metrics {\"StartTime\": 1737906494.8852065, \"EndTime\": 1737906494.8852117, \"Dimensions\": {\"Algorithm\": \"Linear Learner\", \"Host\": \"algo-1\", \"Operation\": \"training\", \"epoch\": 2, \"model\": 15}, \"Metrics\": {\"train_absolute_loss_objective\": {\"sum\": 0.3737248229980469, \"count\": 1, \"min\": 0.3737248229980469, \"max\": 0.3737248229980469}}}\u001b[0m\n",
            "\u001b[34m#metrics {\"StartTime\": 1737906494.8852293, \"EndTime\": 1737906494.8852346, \"Dimensions\": {\"Algorithm\": \"Linear Learner\", \"Host\": \"algo-1\", \"Operation\": \"training\", \"epoch\": 2, \"model\": 16}, \"Metrics\": {\"train_absolute_loss_objective\": {\"sum\": 0.7602744293212891, \"count\": 1, \"min\": 0.7602744293212891, \"max\": 0.7602744293212891}}}\u001b[0m\n",
            "\u001b[34m#metrics {\"StartTime\": 1737906494.8852522, \"EndTime\": 1737906494.8852575, \"Dimensions\": {\"Algorithm\": \"Linear Learner\", \"Host\": \"algo-1\", \"Operation\": \"training\", \"epoch\": 2, \"model\": 17}, \"Metrics\": {\"train_absolute_loss_objective\": {\"sum\": 0.8088592624664307, \"count\": 1, \"min\": 0.8088592624664307, \"max\": 0.8088592624664307}}}\u001b[0m\n",
            "\u001b[34m#metrics {\"StartTime\": 1737906494.8852775, \"EndTime\": 1737906494.8852828, \"Dimensions\": {\"Algorithm\": \"Linear Learner\", \"Host\": \"algo-1\", \"Operation\": \"training\", \"epoch\": 2, \"model\": 18}, \"Metrics\": {\"train_absolute_loss_objective\": {\"sum\": 0.7860068702697753, \"count\": 1, \"min\": 0.7860068702697753, \"max\": 0.7860068702697753}}}\u001b[0m\n",
            "\u001b[34m#metrics {\"StartTime\": 1737906494.8853006, \"EndTime\": 1737906494.8853061, \"Dimensions\": {\"Algorithm\": \"Linear Learner\", \"Host\": \"algo-1\", \"Operation\": \"training\", \"epoch\": 2, \"model\": 19}, \"Metrics\": {\"train_absolute_loss_objective\": {\"sum\": 0.7832782936096191, \"count\": 1, \"min\": 0.7832782936096191, \"max\": 0.7832782936096191}}}\u001b[0m\n",
            "\u001b[34m#metrics {\"StartTime\": 1737906494.885324, \"EndTime\": 1737906494.8853292, \"Dimensions\": {\"Algorithm\": \"Linear Learner\", \"Host\": \"algo-1\", \"Operation\": \"training\", \"epoch\": 2, \"model\": 20}, \"Metrics\": {\"train_absolute_loss_objective\": {\"sum\": 0.34655332565307617, \"count\": 1, \"min\": 0.34655332565307617, \"max\": 0.34655332565307617}}}\u001b[0m\n",
            "\u001b[34m#metrics {\"StartTime\": 1737906494.8853476, \"EndTime\": 1737906494.8853528, \"Dimensions\": {\"Algorithm\": \"Linear Learner\", \"Host\": \"algo-1\", \"Operation\": \"training\", \"epoch\": 2, \"model\": 21}, \"Metrics\": {\"train_absolute_loss_objective\": {\"sum\": 0.34953476428985597, \"count\": 1, \"min\": 0.34953476428985597, \"max\": 0.34953476428985597}}}\u001b[0m\n",
            "\u001b[34m#metrics {\"StartTime\": 1737906494.885373, \"EndTime\": 1737906494.8853786, \"Dimensions\": {\"Algorithm\": \"Linear Learner\", \"Host\": \"algo-1\", \"Operation\": \"training\", \"epoch\": 2, \"model\": 22}, \"Metrics\": {\"train_absolute_loss_objective\": {\"sum\": 0.3412278652191162, \"count\": 1, \"min\": 0.3412278652191162, \"max\": 0.3412278652191162}}}\u001b[0m\n",
            "\u001b[34m#metrics {\"StartTime\": 1737906494.885396, \"EndTime\": 1737906494.8854012, \"Dimensions\": {\"Algorithm\": \"Linear Learner\", \"Host\": \"algo-1\", \"Operation\": \"training\", \"epoch\": 2, \"model\": 23}, \"Metrics\": {\"train_absolute_loss_objective\": {\"sum\": 0.35466785430908204, \"count\": 1, \"min\": 0.35466785430908204, \"max\": 0.35466785430908204}}}\u001b[0m\n",
            "\u001b[34m#metrics {\"StartTime\": 1737906494.885419, \"EndTime\": 1737906494.8854241, \"Dimensions\": {\"Algorithm\": \"Linear Learner\", \"Host\": \"algo-1\", \"Operation\": \"training\", \"epoch\": 2, \"model\": 24}, \"Metrics\": {\"train_absolute_loss_objective\": {\"sum\": 0.8382344436645508, \"count\": 1, \"min\": 0.8382344436645508, \"max\": 0.8382344436645508}}}\u001b[0m\n",
            "\u001b[34m#metrics {\"StartTime\": 1737906494.8854418, \"EndTime\": 1737906494.885447, \"Dimensions\": {\"Algorithm\": \"Linear Learner\", \"Host\": \"algo-1\", \"Operation\": \"training\", \"epoch\": 2, \"model\": 25}, \"Metrics\": {\"train_absolute_loss_objective\": {\"sum\": 0.8336285972595214, \"count\": 1, \"min\": 0.8336285972595214, \"max\": 0.8336285972595214}}}\u001b[0m\n",
            "\u001b[34m#metrics {\"StartTime\": 1737906494.8854651, \"EndTime\": 1737906494.8854704, \"Dimensions\": {\"Algorithm\": \"Linear Learner\", \"Host\": \"algo-1\", \"Operation\": \"training\", \"epoch\": 2, \"model\": 26}, \"Metrics\": {\"train_absolute_loss_objective\": {\"sum\": 0.8330512714385986, \"count\": 1, \"min\": 0.8330512714385986, \"max\": 0.8330512714385986}}}\u001b[0m\n",
            "\u001b[34m#metrics {\"StartTime\": 1737906494.8854902, \"EndTime\": 1737906494.8854957, \"Dimensions\": {\"Algorithm\": \"Linear Learner\", \"Host\": \"algo-1\", \"Operation\": \"training\", \"epoch\": 2, \"model\": 27}, \"Metrics\": {\"train_absolute_loss_objective\": {\"sum\": 0.841556978225708, \"count\": 1, \"min\": 0.841556978225708, \"max\": 0.841556978225708}}}\u001b[0m\n",
            "\u001b[34m#metrics {\"StartTime\": 1737906494.8855133, \"EndTime\": 1737906494.8855183, \"Dimensions\": {\"Algorithm\": \"Linear Learner\", \"Host\": \"algo-1\", \"Operation\": \"training\", \"epoch\": 2, \"model\": 28}, \"Metrics\": {\"train_absolute_loss_objective\": {\"sum\": 0.8204268264770508, \"count\": 1, \"min\": 0.8204268264770508, \"max\": 0.8204268264770508}}}\u001b[0m\n",
            "\u001b[34m#metrics {\"StartTime\": 1737906494.885536, \"EndTime\": 1737906494.8855412, \"Dimensions\": {\"Algorithm\": \"Linear Learner\", \"Host\": \"algo-1\", \"Operation\": \"training\", \"epoch\": 2, \"model\": 29}, \"Metrics\": {\"train_absolute_loss_objective\": {\"sum\": 0.8208190727233887, \"count\": 1, \"min\": 0.8208190727233887, \"max\": 0.8208190727233887}}}\u001b[0m\n",
            "\u001b[34m#metrics {\"StartTime\": 1737906494.8855593, \"EndTime\": 1737906494.8855646, \"Dimensions\": {\"Algorithm\": \"Linear Learner\", \"Host\": \"algo-1\", \"Operation\": \"training\", \"epoch\": 2, \"model\": 30}, \"Metrics\": {\"train_absolute_loss_objective\": {\"sum\": 0.9198378181457519, \"count\": 1, \"min\": 0.9198378181457519, \"max\": 0.9198378181457519}}}\u001b[0m\n",
            "\u001b[34m#metrics {\"StartTime\": 1737906494.8855844, \"EndTime\": 1737906494.8855896, \"Dimensions\": {\"Algorithm\": \"Linear Learner\", \"Host\": \"algo-1\", \"Operation\": \"training\", \"epoch\": 2, \"model\": 31}, \"Metrics\": {\"train_absolute_loss_objective\": {\"sum\": 0.9097132301330566, \"count\": 1, \"min\": 0.9097132301330566, \"max\": 0.9097132301330566}}}\u001b[0m\n",
            "\u001b[34m[01/26/2025 15:48:14 INFO 140623052531520] #quality_metric: host=algo-1, epoch=2, train absolute_loss_objective <loss>=0.7943604373931885\u001b[0m\n",
            "\u001b[34m[01/26/2025 15:48:14 INFO 140623052531520] #early_stopping_criteria_metric: host=algo-1, epoch=2, criteria=absolute_loss_objective, value=0.2687020444869995\u001b[0m\n",
            "\u001b[34m[01/26/2025 15:48:14 INFO 140623052531520] Epoch 2: Loss improved. Updating best model\u001b[0m\n",
            "\u001b[34m[01/26/2025 15:48:14 INFO 140623052531520] Saving model for epoch: 2\u001b[0m\n",
            "\u001b[34m[01/26/2025 15:48:14 INFO 140623052531520] Saved checkpoint to \"/tmp/tmpdn8deb7x/mx-mod-0000.params\"\u001b[0m\n",
            "\u001b[34m[01/26/2025 15:48:14 INFO 140623052531520] #progress_metric: host=algo-1, completed 60.0 % of epochs\u001b[0m\n",
            "\u001b[34m#metrics {\"StartTime\": 1737906494.822095, \"EndTime\": 1737906494.8920612, \"Dimensions\": {\"Algorithm\": \"Linear Learner\", \"Host\": \"algo-1\", \"Operation\": \"training\", \"epoch\": 2, \"Meta\": \"training_data_iter\"}, \"Metrics\": {\"Total Records Seen\": {\"sum\": 117.0, \"count\": 1, \"min\": 117, \"max\": 117}, \"Total Batches Seen\": {\"sum\": 25.0, \"count\": 1, \"min\": 25, \"max\": 25}, \"Max Records Seen Between Resets\": {\"sum\": 28.0, \"count\": 1, \"min\": 28, \"max\": 28}, \"Max Batches Seen Between Resets\": {\"sum\": 6.0, \"count\": 1, \"min\": 6, \"max\": 6}, \"Reset Count\": {\"sum\": 5.0, \"count\": 1, \"min\": 5, \"max\": 5}, \"Number of Records Since Last Reset\": {\"sum\": 28.0, \"count\": 1, \"min\": 28, \"max\": 28}, \"Number of Batches Since Last Reset\": {\"sum\": 6.0, \"count\": 1, \"min\": 6, \"max\": 6}}}\u001b[0m\n",
            "\u001b[34m[01/26/2025 15:48:14 INFO 140623052531520] #throughput_metric: host=algo-1, train throughput=399.6872760192083 records/second\u001b[0m\n",
            "\u001b[34m[2025-01-26 15:48:14.951] [tensorio] [info] epoch_stats={\"data_pipeline\": \"/opt/ml/input/data/train\", \"epoch\": 10, \"duration\": 58, \"num_examples\": 6, \"num_bytes\": 1344}\u001b[0m\n",
            "\u001b[34m#metrics {\"StartTime\": 1737906494.95118, \"EndTime\": 1737906494.9512346, \"Dimensions\": {\"Algorithm\": \"Linear Learner\", \"Host\": \"algo-1\", \"Operation\": \"training\", \"epoch\": 3, \"model\": 0}, \"Metrics\": {\"train_absolute_loss_objective\": {\"sum\": 0.7542684316635132, \"count\": 1, \"min\": 0.7542684316635132, \"max\": 0.7542684316635132}}}\u001b[0m\n",
            "\u001b[34m#metrics {\"StartTime\": 1737906494.9512968, \"EndTime\": 1737906494.9513068, \"Dimensions\": {\"Algorithm\": \"Linear Learner\", \"Host\": \"algo-1\", \"Operation\": \"training\", \"epoch\": 3, \"model\": 1}, \"Metrics\": {\"train_absolute_loss_objective\": {\"sum\": 0.7727476119995117, \"count\": 1, \"min\": 0.7727476119995117, \"max\": 0.7727476119995117}}}\u001b[0m\n",
            "\u001b[34m#metrics {\"StartTime\": 1737906494.9513323, \"EndTime\": 1737906494.9513388, \"Dimensions\": {\"Algorithm\": \"Linear Learner\", \"Host\": \"algo-1\", \"Operation\": \"training\", \"epoch\": 3, \"model\": 2}, \"Metrics\": {\"train_absolute_loss_objective\": {\"sum\": 0.7565753555297852, \"count\": 1, \"min\": 0.7565753555297852, \"max\": 0.7565753555297852}}}\u001b[0m\n",
            "\u001b[34m#metrics {\"StartTime\": 1737906494.951359, \"EndTime\": 1737906494.9513648, \"Dimensions\": {\"Algorithm\": \"Linear Learner\", \"Host\": \"algo-1\", \"Operation\": \"training\", \"epoch\": 3, \"model\": 3}, \"Metrics\": {\"train_absolute_loss_objective\": {\"sum\": 0.7717744159698486, \"count\": 1, \"min\": 0.7717744159698486, \"max\": 0.7717744159698486}}}\u001b[0m\n",
            "\u001b[34m#metrics {\"StartTime\": 1737906494.9513881, \"EndTime\": 1737906494.951394, \"Dimensions\": {\"Algorithm\": \"Linear Learner\", \"Host\": \"algo-1\", \"Operation\": \"training\", \"epoch\": 3, \"model\": 4}, \"Metrics\": {\"train_absolute_loss_objective\": {\"sum\": 0.22566471576690675, \"count\": 1, \"min\": 0.22566471576690675, \"max\": 0.22566471576690675}}}\u001b[0m\n",
            "\u001b[34m#metrics {\"StartTime\": 1737906494.951418, \"EndTime\": 1737906494.9514234, \"Dimensions\": {\"Algorithm\": \"Linear Learner\", \"Host\": \"algo-1\", \"Operation\": \"training\", \"epoch\": 3, \"model\": 5}, \"Metrics\": {\"train_absolute_loss_objective\": {\"sum\": 0.22292733430862427, \"count\": 1, \"min\": 0.22292733430862427, \"max\": 0.22292733430862427}}}\u001b[0m\n",
            "\u001b[34m#metrics {\"StartTime\": 1737906494.9514453, \"EndTime\": 1737906494.9514508, \"Dimensions\": {\"Algorithm\": \"Linear Learner\", \"Host\": \"algo-1\", \"Operation\": \"training\", \"epoch\": 3, \"model\": 6}, \"Metrics\": {\"train_absolute_loss_objective\": {\"sum\": 0.2850440216064453, \"count\": 1, \"min\": 0.2850440216064453, \"max\": 0.2850440216064453}}}\u001b[0m\n",
            "\u001b[34m#metrics {\"StartTime\": 1737906494.9514694, \"EndTime\": 1737906494.9514747, \"Dimensions\": {\"Algorithm\": \"Linear Learner\", \"Host\": \"algo-1\", \"Operation\": \"training\", \"epoch\": 3, \"model\": 7}, \"Metrics\": {\"train_absolute_loss_objective\": {\"sum\": 0.2953633785247803, \"count\": 1, \"min\": 0.2953633785247803, \"max\": 0.2953633785247803}}}\u001b[0m\n",
            "\u001b[34m#metrics {\"StartTime\": 1737906494.951493, \"EndTime\": 1737906494.9514985, \"Dimensions\": {\"Algorithm\": \"Linear Learner\", \"Host\": \"algo-1\", \"Operation\": \"training\", \"epoch\": 3, \"model\": 8}, \"Metrics\": {\"train_absolute_loss_objective\": {\"sum\": 0.8077407264709473, \"count\": 1, \"min\": 0.8077407264709473, \"max\": 0.8077407264709473}}}\u001b[0m\n",
            "\u001b[34m#metrics {\"StartTime\": 1737906494.9515188, \"EndTime\": 1737906494.951524, \"Dimensions\": {\"Algorithm\": \"Linear Learner\", \"Host\": \"algo-1\", \"Operation\": \"training\", \"epoch\": 3, \"model\": 9}, \"Metrics\": {\"train_absolute_loss_objective\": {\"sum\": 0.7422022008895874, \"count\": 1, \"min\": 0.7422022008895874, \"max\": 0.7422022008895874}}}\u001b[0m\n",
            "\u001b[34m#metrics {\"StartTime\": 1737906494.9515424, \"EndTime\": 1737906494.9515476, \"Dimensions\": {\"Algorithm\": \"Linear Learner\", \"Host\": \"algo-1\", \"Operation\": \"training\", \"epoch\": 3, \"model\": 10}, \"Metrics\": {\"train_absolute_loss_objective\": {\"sum\": 0.7491744661331177, \"count\": 1, \"min\": 0.7491744661331177, \"max\": 0.7491744661331177}}}\u001b[0m\n",
            "\u001b[34m#metrics {\"StartTime\": 1737906494.9515684, \"EndTime\": 1737906494.9515738, \"Dimensions\": {\"Algorithm\": \"Linear Learner\", \"Host\": \"algo-1\", \"Operation\": \"training\", \"epoch\": 3, \"model\": 11}, \"Metrics\": {\"train_absolute_loss_objective\": {\"sum\": 0.734441032409668, \"count\": 1, \"min\": 0.734441032409668, \"max\": 0.734441032409668}}}\u001b[0m\n",
            "\u001b[34m#metrics {\"StartTime\": 1737906494.9515939, \"EndTime\": 1737906494.9515996, \"Dimensions\": {\"Algorithm\": \"Linear Learner\", \"Host\": \"algo-1\", \"Operation\": \"training\", \"epoch\": 3, \"model\": 12}, \"Metrics\": {\"train_absolute_loss_objective\": {\"sum\": 0.19101548671722413, \"count\": 1, \"min\": 0.19101548671722413, \"max\": 0.19101548671722413}}}\u001b[0m\n",
            "\u001b[34m#metrics {\"StartTime\": 1737906494.9516177, \"EndTime\": 1737906494.9516232, \"Dimensions\": {\"Algorithm\": \"Linear Learner\", \"Host\": \"algo-1\", \"Operation\": \"training\", \"epoch\": 3, \"model\": 13}, \"Metrics\": {\"train_absolute_loss_objective\": {\"sum\": 0.29298408031463624, \"count\": 1, \"min\": 0.29298408031463624, \"max\": 0.29298408031463624}}}\u001b[0m\n",
            "\u001b[34m#metrics {\"StartTime\": 1737906494.9516437, \"EndTime\": 1737906494.951649, \"Dimensions\": {\"Algorithm\": \"Linear Learner\", \"Host\": \"algo-1\", \"Operation\": \"training\", \"epoch\": 3, \"model\": 14}, \"Metrics\": {\"train_absolute_loss_objective\": {\"sum\": 0.19123492240905762, \"count\": 1, \"min\": 0.19123492240905762, \"max\": 0.19123492240905762}}}\u001b[0m\n",
            "\u001b[34m#metrics {\"StartTime\": 1737906494.9516714, \"EndTime\": 1737906494.9516768, \"Dimensions\": {\"Algorithm\": \"Linear Learner\", \"Host\": \"algo-1\", \"Operation\": \"training\", \"epoch\": 3, \"model\": 15}, \"Metrics\": {\"train_absolute_loss_objective\": {\"sum\": 0.29048311948776245, \"count\": 1, \"min\": 0.29048311948776245, \"max\": 0.29048311948776245}}}\u001b[0m\n",
            "\u001b[34m#metrics {\"StartTime\": 1737906494.9516995, \"EndTime\": 1737906494.951705, \"Dimensions\": {\"Algorithm\": \"Linear Learner\", \"Host\": \"algo-1\", \"Operation\": \"training\", \"epoch\": 3, \"model\": 16}, \"Metrics\": {\"train_absolute_loss_objective\": {\"sum\": 0.7205919551849366, \"count\": 1, \"min\": 0.7205919551849366, \"max\": 0.7205919551849366}}}\u001b[0m\n",
            "\u001b[34m#metrics {\"StartTime\": 1737906494.9517252, \"EndTime\": 1737906494.9517307, \"Dimensions\": {\"Algorithm\": \"Linear Learner\", \"Host\": \"algo-1\", \"Operation\": \"training\", \"epoch\": 3, \"model\": 17}, \"Metrics\": {\"train_absolute_loss_objective\": {\"sum\": 0.7686363124847412, \"count\": 1, \"min\": 0.7686363124847412, \"max\": 0.7686363124847412}}}\u001b[0m\n",
            "\u001b[34m#metrics {\"StartTime\": 1737906494.9517486, \"EndTime\": 1737906494.951754, \"Dimensions\": {\"Algorithm\": \"Linear Learner\", \"Host\": \"algo-1\", \"Operation\": \"training\", \"epoch\": 3, \"model\": 18}, \"Metrics\": {\"train_absolute_loss_objective\": {\"sum\": 0.74624755859375, \"count\": 1, \"min\": 0.74624755859375, \"max\": 0.74624755859375}}}\u001b[0m\n",
            "\u001b[34m#metrics {\"StartTime\": 1737906494.951772, \"EndTime\": 1737906494.951777, \"Dimensions\": {\"Algorithm\": \"Linear Learner\", \"Host\": \"algo-1\", \"Operation\": \"training\", \"epoch\": 3, \"model\": 19}, \"Metrics\": {\"train_absolute_loss_objective\": {\"sum\": 0.7431256198883056, \"count\": 1, \"min\": 0.7431256198883056, \"max\": 0.7431256198883056}}}\u001b[0m\n",
            "\u001b[34m#metrics {\"StartTime\": 1737906494.9517949, \"EndTime\": 1737906494.9518, \"Dimensions\": {\"Algorithm\": \"Linear Learner\", \"Host\": \"algo-1\", \"Operation\": \"training\", \"epoch\": 3, \"model\": 20}, \"Metrics\": {\"train_absolute_loss_objective\": {\"sum\": 0.26839271545410154, \"count\": 1, \"min\": 0.26839271545410154, \"max\": 0.26839271545410154}}}\u001b[0m\n",
            "\u001b[34m#metrics {\"StartTime\": 1737906494.9518209, \"EndTime\": 1737906494.951826, \"Dimensions\": {\"Algorithm\": \"Linear Learner\", \"Host\": \"algo-1\", \"Operation\": \"training\", \"epoch\": 3, \"model\": 21}, \"Metrics\": {\"train_absolute_loss_objective\": {\"sum\": 0.2655728197097778, \"count\": 1, \"min\": 0.2655728197097778, \"max\": 0.2655728197097778}}}\u001b[0m\n",
            "\u001b[34m#metrics {\"StartTime\": 1737906494.9518445, \"EndTime\": 1737906494.9518497, \"Dimensions\": {\"Algorithm\": \"Linear Learner\", \"Host\": \"algo-1\", \"Operation\": \"training\", \"epoch\": 3, \"model\": 22}, \"Metrics\": {\"train_absolute_loss_objective\": {\"sum\": 0.28051273345947264, \"count\": 1, \"min\": 0.28051273345947264, \"max\": 0.28051273345947264}}}\u001b[0m\n",
            "\u001b[34m#metrics {\"StartTime\": 1737906494.9518733, \"EndTime\": 1737906494.951879, \"Dimensions\": {\"Algorithm\": \"Linear Learner\", \"Host\": \"algo-1\", \"Operation\": \"training\", \"epoch\": 3, \"model\": 23}, \"Metrics\": {\"train_absolute_loss_objective\": {\"sum\": 0.26072987079620363, \"count\": 1, \"min\": 0.26072987079620363, \"max\": 0.26072987079620363}}}\u001b[0m\n",
            "\u001b[34m#metrics {\"StartTime\": 1737906494.9519005, \"EndTime\": 1737906494.9519057, \"Dimensions\": {\"Algorithm\": \"Linear Learner\", \"Host\": \"algo-1\", \"Operation\": \"training\", \"epoch\": 3, \"model\": 24}, \"Metrics\": {\"train_absolute_loss_objective\": {\"sum\": 0.8282875347137452, \"count\": 1, \"min\": 0.8282875347137452, \"max\": 0.8282875347137452}}}\u001b[0m\n",
            "\u001b[34m#metrics {\"StartTime\": 1737906494.951924, \"EndTime\": 1737906494.951929, \"Dimensions\": {\"Algorithm\": \"Linear Learner\", \"Host\": \"algo-1\", \"Operation\": \"training\", \"epoch\": 3, \"model\": 25}, \"Metrics\": {\"train_absolute_loss_objective\": {\"sum\": 0.8098235988616943, \"count\": 1, \"min\": 0.8098235988616943, \"max\": 0.8098235988616943}}}\u001b[0m\n",
            "\u001b[34m#metrics {\"StartTime\": 1737906494.9519472, \"EndTime\": 1737906494.9519525, \"Dimensions\": {\"Algorithm\": \"Linear Learner\", \"Host\": \"algo-1\", \"Operation\": \"training\", \"epoch\": 3, \"model\": 26}, \"Metrics\": {\"train_absolute_loss_objective\": {\"sum\": 0.8181356143951416, \"count\": 1, \"min\": 0.8181356143951416, \"max\": 0.8181356143951416}}}\u001b[0m\n",
            "\u001b[34m#metrics {\"StartTime\": 1737906494.9519722, \"EndTime\": 1737906494.9519777, \"Dimensions\": {\"Algorithm\": \"Linear Learner\", \"Host\": \"algo-1\", \"Operation\": \"training\", \"epoch\": 3, \"model\": 27}, \"Metrics\": {\"train_absolute_loss_objective\": {\"sum\": 0.8219280815124512, \"count\": 1, \"min\": 0.8219280815124512, \"max\": 0.8219280815124512}}}\u001b[0m\n",
            "\u001b[34m#metrics {\"StartTime\": 1737906494.9519978, \"EndTime\": 1737906494.952003, \"Dimensions\": {\"Algorithm\": \"Linear Learner\", \"Host\": \"algo-1\", \"Operation\": \"training\", \"epoch\": 3, \"model\": 28}, \"Metrics\": {\"train_absolute_loss_objective\": {\"sum\": 0.8549183893203736, \"count\": 1, \"min\": 0.8549183893203736, \"max\": 0.8549183893203736}}}\u001b[0m\n",
            "\u001b[34m#metrics {\"StartTime\": 1737906494.9520228, \"EndTime\": 1737906494.9520283, \"Dimensions\": {\"Algorithm\": \"Linear Learner\", \"Host\": \"algo-1\", \"Operation\": \"training\", \"epoch\": 3, \"model\": 29}, \"Metrics\": {\"train_absolute_loss_objective\": {\"sum\": 0.8563349151611328, \"count\": 1, \"min\": 0.8563349151611328, \"max\": 0.8563349151611328}}}\u001b[0m\n",
            "\u001b[34m#metrics {\"StartTime\": 1737906494.9520462, \"EndTime\": 1737906494.9520514, \"Dimensions\": {\"Algorithm\": \"Linear Learner\", \"Host\": \"algo-1\", \"Operation\": \"training\", \"epoch\": 3, \"model\": 30}, \"Metrics\": {\"train_absolute_loss_objective\": {\"sum\": 0.835682897567749, \"count\": 1, \"min\": 0.835682897567749, \"max\": 0.835682897567749}}}\u001b[0m\n",
            "\u001b[34m#metrics {\"StartTime\": 1737906494.9520688, \"EndTime\": 1737906494.9520743, \"Dimensions\": {\"Algorithm\": \"Linear Learner\", \"Host\": \"algo-1\", \"Operation\": \"training\", \"epoch\": 3, \"model\": 31}, \"Metrics\": {\"train_absolute_loss_objective\": {\"sum\": 0.8457456302642822, \"count\": 1, \"min\": 0.8457456302642822, \"max\": 0.8457456302642822}}}\u001b[0m\n",
            "\u001b[34m[01/26/2025 15:48:14 INFO 140623052531520] #quality_metric: host=algo-1, epoch=3, train absolute_loss_objective <loss>=0.7542684316635132\u001b[0m\n",
            "\u001b[34m[01/26/2025 15:48:14 INFO 140623052531520] #early_stopping_criteria_metric: host=algo-1, epoch=3, criteria=absolute_loss_objective, value=0.19101548671722413\u001b[0m\n",
            "\u001b[34m[01/26/2025 15:48:14 INFO 140623052531520] Epoch 3: Loss improved. Updating best model\u001b[0m\n",
            "\u001b[34m[01/26/2025 15:48:14 INFO 140623052531520] Saving model for epoch: 3\u001b[0m\n",
            "\u001b[34m[01/26/2025 15:48:14 INFO 140623052531520] Saved checkpoint to \"/tmp/tmpe5meugih/mx-mod-0000.params\"\u001b[0m\n",
            "\u001b[34m[01/26/2025 15:48:14 INFO 140623052531520] #progress_metric: host=algo-1, completed 80.0 % of epochs\u001b[0m\n",
            "\u001b[34m#metrics {\"StartTime\": 1737906494.8922353, \"EndTime\": 1737906494.9600801, \"Dimensions\": {\"Algorithm\": \"Linear Learner\", \"Host\": \"algo-1\", \"Operation\": \"training\", \"epoch\": 3, \"Meta\": \"training_data_iter\"}, \"Metrics\": {\"Total Records Seen\": {\"sum\": 145.0, \"count\": 1, \"min\": 145, \"max\": 145}, \"Total Batches Seen\": {\"sum\": 31.0, \"count\": 1, \"min\": 31, \"max\": 31}, \"Max Records Seen Between Resets\": {\"sum\": 28.0, \"count\": 1, \"min\": 28, \"max\": 28}, \"Max Batches Seen Between Resets\": {\"sum\": 6.0, \"count\": 1, \"min\": 6, \"max\": 6}, \"Reset Count\": {\"sum\": 6.0, \"count\": 1, \"min\": 6, \"max\": 6}, \"Number of Records Since Last Reset\": {\"sum\": 28.0, \"count\": 1, \"min\": 28, \"max\": 28}, \"Number of Batches Since Last Reset\": {\"sum\": 6.0, \"count\": 1, \"min\": 6, \"max\": 6}}}\u001b[0m\n",
            "\u001b[34m[01/26/2025 15:48:14 INFO 140623052531520] #throughput_metric: host=algo-1, train throughput=412.0777554772699 records/second\u001b[0m\n",
            "\u001b[34m[2025-01-26 15:48:15.018] [tensorio] [info] epoch_stats={\"data_pipeline\": \"/opt/ml/input/data/train\", \"epoch\": 12, \"duration\": 58, \"num_examples\": 6, \"num_bytes\": 1344}\u001b[0m\n",
            "\u001b[34m#metrics {\"StartTime\": 1737906495.018912, \"EndTime\": 1737906495.0189764, \"Dimensions\": {\"Algorithm\": \"Linear Learner\", \"Host\": \"algo-1\", \"Operation\": \"training\", \"epoch\": 4, \"model\": 0}, \"Metrics\": {\"train_absolute_loss_objective\": {\"sum\": 0.7233859729766846, \"count\": 1, \"min\": 0.7233859729766846, \"max\": 0.7233859729766846}}}\u001b[0m\n",
            "\u001b[34m#metrics {\"StartTime\": 1737906495.019086, \"EndTime\": 1737906495.019102, \"Dimensions\": {\"Algorithm\": \"Linear Learner\", \"Host\": \"algo-1\", \"Operation\": \"training\", \"epoch\": 4, \"model\": 1}, \"Metrics\": {\"train_absolute_loss_objective\": {\"sum\": 0.7401646804809571, \"count\": 1, \"min\": 0.7401646804809571, \"max\": 0.7401646804809571}}}\u001b[0m\n",
            "\u001b[34m#metrics {\"StartTime\": 1737906495.0191617, \"EndTime\": 1737906495.0191715, \"Dimensions\": {\"Algorithm\": \"Linear Learner\", \"Host\": \"algo-1\", \"Operation\": \"training\", \"epoch\": 4, \"model\": 2}, \"Metrics\": {\"train_absolute_loss_objective\": {\"sum\": 0.7254982948303222, \"count\": 1, \"min\": 0.7254982948303222, \"max\": 0.7254982948303222}}}\u001b[0m\n",
            "\u001b[34m#metrics {\"StartTime\": 1737906495.019233, \"EndTime\": 1737906495.019244, \"Dimensions\": {\"Algorithm\": \"Linear Learner\", \"Host\": \"algo-1\", \"Operation\": \"training\", \"epoch\": 4, \"model\": 3}, \"Metrics\": {\"train_absolute_loss_objective\": {\"sum\": 0.7392735481262207, \"count\": 1, \"min\": 0.7392735481262207, \"max\": 0.7392735481262207}}}\u001b[0m\n",
            "\u001b[34m#metrics {\"StartTime\": 1737906495.019297, \"EndTime\": 1737906495.019306, \"Dimensions\": {\"Algorithm\": \"Linear Learner\", \"Host\": \"algo-1\", \"Operation\": \"training\", \"epoch\": 4, \"model\": 4}, \"Metrics\": {\"train_absolute_loss_objective\": {\"sum\": 0.21698399066925048, \"count\": 1, \"min\": 0.21698399066925048, \"max\": 0.21698399066925048}}}\u001b[0m\n",
            "\u001b[34m#metrics {\"StartTime\": 1737906495.019365, \"EndTime\": 1737906495.0193748, \"Dimensions\": {\"Algorithm\": \"Linear Learner\", \"Host\": \"algo-1\", \"Operation\": \"training\", \"epoch\": 4, \"model\": 5}, \"Metrics\": {\"train_absolute_loss_objective\": {\"sum\": 0.21659517288208008, \"count\": 1, \"min\": 0.21659517288208008, \"max\": 0.21659517288208008}}}\u001b[0m\n",
            "\u001b[34m#metrics {\"StartTime\": 1737906495.0194225, \"EndTime\": 1737906495.019431, \"Dimensions\": {\"Algorithm\": \"Linear Learner\", \"Host\": \"algo-1\", \"Operation\": \"training\", \"epoch\": 4, \"model\": 6}, \"Metrics\": {\"train_absolute_loss_objective\": {\"sum\": 0.36653660774230956, \"count\": 1, \"min\": 0.36653660774230956, \"max\": 0.36653660774230956}}}\u001b[0m\n",
            "\u001b[34m#metrics {\"StartTime\": 1737906495.01949, \"EndTime\": 1737906495.0195003, \"Dimensions\": {\"Algorithm\": \"Linear Learner\", \"Host\": \"algo-1\", \"Operation\": \"training\", \"epoch\": 4, \"model\": 7}, \"Metrics\": {\"train_absolute_loss_objective\": {\"sum\": 0.41368221044540404, \"count\": 1, \"min\": 0.41368221044540404, \"max\": 0.41368221044540404}}}\u001b[0m\n",
            "\u001b[34m#metrics {\"StartTime\": 1737906495.019552, \"EndTime\": 1737906495.0195613, \"Dimensions\": {\"Algorithm\": \"Linear Learner\", \"Host\": \"algo-1\", \"Operation\": \"training\", \"epoch\": 4, \"model\": 8}, \"Metrics\": {\"train_absolute_loss_objective\": {\"sum\": 0.7737150382995606, \"count\": 1, \"min\": 0.7737150382995606, \"max\": 0.7737150382995606}}}\u001b[0m\n",
            "\u001b[34m#metrics {\"StartTime\": 1737906495.0196207, \"EndTime\": 1737906495.0196307, \"Dimensions\": {\"Algorithm\": \"Linear Learner\", \"Host\": \"algo-1\", \"Operation\": \"training\", \"epoch\": 4, \"model\": 9}, \"Metrics\": {\"train_absolute_loss_objective\": {\"sum\": 0.7122005558013916, \"count\": 1, \"min\": 0.7122005558013916, \"max\": 0.7122005558013916}}}\u001b[0m\n",
            "\u001b[34m#metrics {\"StartTime\": 1737906495.0196817, \"EndTime\": 1737906495.0196908, \"Dimensions\": {\"Algorithm\": \"Linear Learner\", \"Host\": \"algo-1\", \"Operation\": \"training\", \"epoch\": 4, \"model\": 10}, \"Metrics\": {\"train_absolute_loss_objective\": {\"sum\": 0.7187261486053467, \"count\": 1, \"min\": 0.7187261486053467, \"max\": 0.7187261486053467}}}\u001b[0m\n",
            "\u001b[34m#metrics {\"StartTime\": 1737906495.0197494, \"EndTime\": 1737906495.0197597, \"Dimensions\": {\"Algorithm\": \"Linear Learner\", \"Host\": \"algo-1\", \"Operation\": \"training\", \"epoch\": 4, \"model\": 11}, \"Metrics\": {\"train_absolute_loss_objective\": {\"sum\": 0.7050942325592041, \"count\": 1, \"min\": 0.7050942325592041, \"max\": 0.7050942325592041}}}\u001b[0m\n",
            "\u001b[34m#metrics {\"StartTime\": 1737906495.019815, \"EndTime\": 1737906495.019824, \"Dimensions\": {\"Algorithm\": \"Linear Learner\", \"Host\": \"algo-1\", \"Operation\": \"training\", \"epoch\": 4, \"model\": 12}, \"Metrics\": {\"train_absolute_loss_objective\": {\"sum\": 0.20770720958709718, \"count\": 1, \"min\": 0.20770720958709718, \"max\": 0.20770720958709718}}}\u001b[0m\n",
            "\u001b[34m#metrics {\"StartTime\": 1737906495.0198796, \"EndTime\": 1737906495.0198889, \"Dimensions\": {\"Algorithm\": \"Linear Learner\", \"Host\": \"algo-1\", \"Operation\": \"training\", \"epoch\": 4, \"model\": 13}, \"Metrics\": {\"train_absolute_loss_objective\": {\"sum\": 0.40226519107818604, \"count\": 1, \"min\": 0.40226519107818604, \"max\": 0.40226519107818604}}}\u001b[0m\n",
            "\u001b[34m#metrics {\"StartTime\": 1737906495.0199397, \"EndTime\": 1737906495.0199485, \"Dimensions\": {\"Algorithm\": \"Linear Learner\", \"Host\": \"algo-1\", \"Operation\": \"training\", \"epoch\": 4, \"model\": 14}, \"Metrics\": {\"train_absolute_loss_objective\": {\"sum\": 0.20827930688858032, \"count\": 1, \"min\": 0.20827930688858032, \"max\": 0.20827930688858032}}}\u001b[0m\n",
            "\u001b[34m#metrics {\"StartTime\": 1737906495.0200057, \"EndTime\": 1737906495.0200164, \"Dimensions\": {\"Algorithm\": \"Linear Learner\", \"Host\": \"algo-1\", \"Operation\": \"training\", \"epoch\": 4, \"model\": 15}, \"Metrics\": {\"train_absolute_loss_objective\": {\"sum\": 0.40164230823516844, \"count\": 1, \"min\": 0.40164230823516844, \"max\": 0.40164230823516844}}}\u001b[0m\n",
            "\u001b[34m#metrics {\"StartTime\": 1737906495.0200694, \"EndTime\": 1737906495.0200787, \"Dimensions\": {\"Algorithm\": \"Linear Learner\", \"Host\": \"algo-1\", \"Operation\": \"training\", \"epoch\": 4, \"model\": 16}, \"Metrics\": {\"train_absolute_loss_objective\": {\"sum\": 0.6931328296661377, \"count\": 1, \"min\": 0.6931328296661377, \"max\": 0.6931328296661377}}}\u001b[0m\n",
            "\u001b[34m#metrics {\"StartTime\": 1737906495.0201378, \"EndTime\": 1737906495.020148, \"Dimensions\": {\"Algorithm\": \"Linear Learner\", \"Host\": \"algo-1\", \"Operation\": \"training\", \"epoch\": 4, \"model\": 17}, \"Metrics\": {\"train_absolute_loss_objective\": {\"sum\": 0.7368400621414185, \"count\": 1, \"min\": 0.7368400621414185, \"max\": 0.7368400621414185}}}\u001b[0m\n",
            "\u001b[34m#metrics {\"StartTime\": 1737906495.0201998, \"EndTime\": 1737906495.020209, \"Dimensions\": {\"Algorithm\": \"Linear Learner\", \"Host\": \"algo-1\", \"Operation\": \"training\", \"epoch\": 4, \"model\": 18}, \"Metrics\": {\"train_absolute_loss_objective\": {\"sum\": 0.7165406227111817, \"count\": 1, \"min\": 0.7165406227111817, \"max\": 0.7165406227111817}}}\u001b[0m\n",
            "\u001b[34m#metrics {\"StartTime\": 1737906495.0202708, \"EndTime\": 1737906495.0202816, \"Dimensions\": {\"Algorithm\": \"Linear Learner\", \"Host\": \"algo-1\", \"Operation\": \"training\", \"epoch\": 4, \"model\": 19}, \"Metrics\": {\"train_absolute_loss_objective\": {\"sum\": 0.7135583400726319, \"count\": 1, \"min\": 0.7135583400726319, \"max\": 0.7135583400726319}}}\u001b[0m\n",
            "\u001b[34m#metrics {\"StartTime\": 1737906495.020334, \"EndTime\": 1737906495.0203428, \"Dimensions\": {\"Algorithm\": \"Linear Learner\", \"Host\": \"algo-1\", \"Operation\": \"training\", \"epoch\": 4, \"model\": 20}, \"Metrics\": {\"train_absolute_loss_objective\": {\"sum\": 0.3247321891784668, \"count\": 1, \"min\": 0.3247321891784668, \"max\": 0.3247321891784668}}}\u001b[0m\n",
            "\u001b[34m#metrics {\"StartTime\": 1737906495.0203989, \"EndTime\": 1737906495.0204089, \"Dimensions\": {\"Algorithm\": \"Linear Learner\", \"Host\": \"algo-1\", \"Operation\": \"training\", \"epoch\": 4, \"model\": 21}, \"Metrics\": {\"train_absolute_loss_objective\": {\"sum\": 0.31946849822998047, \"count\": 1, \"min\": 0.31946849822998047, \"max\": 0.31946849822998047}}}\u001b[0m\n",
            "\u001b[34m#metrics {\"StartTime\": 1737906495.0204582, \"EndTime\": 1737906495.0204654, \"Dimensions\": {\"Algorithm\": \"Linear Learner\", \"Host\": \"algo-1\", \"Operation\": \"training\", \"epoch\": 4, \"model\": 22}, \"Metrics\": {\"train_absolute_loss_objective\": {\"sum\": 0.3453512763977051, \"count\": 1, \"min\": 0.3453512763977051, \"max\": 0.3453512763977051}}}\u001b[0m\n",
            "\u001b[34m#metrics {\"StartTime\": 1737906495.02051, \"EndTime\": 1737906495.0205176, \"Dimensions\": {\"Algorithm\": \"Linear Learner\", \"Host\": \"algo-1\", \"Operation\": \"training\", \"epoch\": 4, \"model\": 23}, \"Metrics\": {\"train_absolute_loss_objective\": {\"sum\": 0.3096085214614868, \"count\": 1, \"min\": 0.3096085214614868, \"max\": 0.3096085214614868}}}\u001b[0m\n",
            "\u001b[34m#metrics {\"StartTime\": 1737906495.0205662, \"EndTime\": 1737906495.0205753, \"Dimensions\": {\"Algorithm\": \"Linear Learner\", \"Host\": \"algo-1\", \"Operation\": \"training\", \"epoch\": 4, \"model\": 24}, \"Metrics\": {\"train_absolute_loss_objective\": {\"sum\": 0.8161485481262207, \"count\": 1, \"min\": 0.8161485481262207, \"max\": 0.8161485481262207}}}\u001b[0m\n",
            "\u001b[34m#metrics {\"StartTime\": 1737906495.0206358, \"EndTime\": 1737906495.0206463, \"Dimensions\": {\"Algorithm\": \"Linear Learner\", \"Host\": \"algo-1\", \"Operation\": \"training\", \"epoch\": 4, \"model\": 25}, \"Metrics\": {\"train_absolute_loss_objective\": {\"sum\": 0.7992207956314087, \"count\": 1, \"min\": 0.7992207956314087, \"max\": 0.7992207956314087}}}\u001b[0m\n",
            "\u001b[34m#metrics {\"StartTime\": 1737906495.0206985, \"EndTime\": 1737906495.0207078, \"Dimensions\": {\"Algorithm\": \"Linear Learner\", \"Host\": \"algo-1\", \"Operation\": \"training\", \"epoch\": 4, \"model\": 26}, \"Metrics\": {\"train_absolute_loss_objective\": {\"sum\": 0.8084315967559814, \"count\": 1, \"min\": 0.8084315967559814, \"max\": 0.8084315967559814}}}\u001b[0m\n",
            "\u001b[34m#metrics {\"StartTime\": 1737906495.0207636, \"EndTime\": 1737906495.0207727, \"Dimensions\": {\"Algorithm\": \"Linear Learner\", \"Host\": \"algo-1\", \"Operation\": \"training\", \"epoch\": 4, \"model\": 27}, \"Metrics\": {\"train_absolute_loss_objective\": {\"sum\": 0.8037868356704712, \"count\": 1, \"min\": 0.8037868356704712, \"max\": 0.8037868356704712}}}\u001b[0m\n",
            "\u001b[34m#metrics {\"StartTime\": 1737906495.0208194, \"EndTime\": 1737906495.020828, \"Dimensions\": {\"Algorithm\": \"Linear Learner\", \"Host\": \"algo-1\", \"Operation\": \"training\", \"epoch\": 4, \"model\": 28}, \"Metrics\": {\"train_absolute_loss_objective\": {\"sum\": 0.9318252849578857, \"count\": 1, \"min\": 0.9318252849578857, \"max\": 0.9318252849578857}}}\u001b[0m\n",
            "\u001b[34m#metrics {\"StartTime\": 1737906495.0209079, \"EndTime\": 1737906495.02092, \"Dimensions\": {\"Algorithm\": \"Linear Learner\", \"Host\": \"algo-1\", \"Operation\": \"training\", \"epoch\": 4, \"model\": 29}, \"Metrics\": {\"train_absolute_loss_objective\": {\"sum\": 0.9332620620727539, \"count\": 1, \"min\": 0.9332620620727539, \"max\": 0.9332620620727539}}}\u001b[0m\n",
            "\u001b[34m#metrics {\"StartTime\": 1737906495.0209777, \"EndTime\": 1737906495.0209875, \"Dimensions\": {\"Algorithm\": \"Linear Learner\", \"Host\": \"algo-1\", \"Operation\": \"training\", \"epoch\": 4, \"model\": 30}, \"Metrics\": {\"train_absolute_loss_objective\": {\"sum\": 0.9172212696075439, \"count\": 1, \"min\": 0.9172212696075439, \"max\": 0.9172212696075439}}}\u001b[0m\n",
            "\u001b[34m#metrics {\"StartTime\": 1737906495.0210419, \"EndTime\": 1737906495.0210521, \"Dimensions\": {\"Algorithm\": \"Linear Learner\", \"Host\": \"algo-1\", \"Operation\": \"training\", \"epoch\": 4, \"model\": 31}, \"Metrics\": {\"train_absolute_loss_objective\": {\"sum\": 0.91470383644104, \"count\": 1, \"min\": 0.91470383644104, \"max\": 0.91470383644104}}}\u001b[0m\n",
            "\u001b[34m[01/26/2025 15:48:15 INFO 140623052531520] #quality_metric: host=algo-1, epoch=4, train absolute_loss_objective <loss>=0.7233859729766846\u001b[0m\n",
            "\u001b[34m[01/26/2025 15:48:15 INFO 140623052531520] #early_stopping_criteria_metric: host=algo-1, epoch=4, criteria=absolute_loss_objective, value=0.20770720958709718\u001b[0m\n",
            "\u001b[34m[01/26/2025 15:48:15 INFO 140623052531520] Saving model for epoch: 4\u001b[0m\n",
            "\u001b[34m[01/26/2025 15:48:15 INFO 140623052531520] Saved checkpoint to \"/tmp/tmp7u6yosob/mx-mod-0000.params\"\u001b[0m\n",
            "\u001b[34m[01/26/2025 15:48:15 INFO 140623052531520] #progress_metric: host=algo-1, completed 100.0 % of epochs\u001b[0m\n",
            "\u001b[34m#metrics {\"StartTime\": 1737906494.9603064, \"EndTime\": 1737906495.0276356, \"Dimensions\": {\"Algorithm\": \"Linear Learner\", \"Host\": \"algo-1\", \"Operation\": \"training\", \"epoch\": 4, \"Meta\": \"training_data_iter\"}, \"Metrics\": {\"Total Records Seen\": {\"sum\": 173.0, \"count\": 1, \"min\": 173, \"max\": 173}, \"Total Batches Seen\": {\"sum\": 37.0, \"count\": 1, \"min\": 37, \"max\": 37}, \"Max Records Seen Between Resets\": {\"sum\": 28.0, \"count\": 1, \"min\": 28, \"max\": 28}, \"Max Batches Seen Between Resets\": {\"sum\": 6.0, \"count\": 1, \"min\": 6, \"max\": 6}, \"Reset Count\": {\"sum\": 7.0, \"count\": 1, \"min\": 7, \"max\": 7}, \"Number of Records Since Last Reset\": {\"sum\": 28.0, \"count\": 1, \"min\": 28, \"max\": 28}, \"Number of Batches Since Last Reset\": {\"sum\": 6.0, \"count\": 1, \"min\": 6, \"max\": 6}}}\u001b[0m\n",
            "\u001b[34m[01/26/2025 15:48:15 INFO 140623052531520] #throughput_metric: host=algo-1, train throughput=415.1308306822199 records/second\u001b[0m\n",
            "\u001b[34m[01/26/2025 15:48:15 WARNING 140623052531520] wait_for_all_workers will not sync workers since the kv store is not running distributed\u001b[0m\n",
            "\u001b[34m[01/26/2025 15:48:15 WARNING 140623052531520] wait_for_all_workers will not sync workers since the kv store is not running distributed\u001b[0m\n",
            "\u001b[34m[2025-01-26 15:48:15.028] [tensorio] [info] epoch_stats={\"data_pipeline\": \"/opt/ml/input/data/train\", \"epoch\": 14, \"duration\": 0, \"num_examples\": 1, \"num_bytes\": 240}\u001b[0m\n",
            "\u001b[34m[2025-01-26 15:48:15.035] [tensorio] [info] epoch_stats={\"data_pipeline\": \"/opt/ml/input/data/train\", \"epoch\": 16, \"duration\": 5, \"num_examples\": 6, \"num_bytes\": 1344}\u001b[0m\n",
            "\u001b[34m[01/26/2025 15:48:15 INFO 140623052531520] #train_score (algo-1) : ('absolute_loss_objective', 5672.139090401785)\u001b[0m\n",
            "\u001b[34m[01/26/2025 15:48:15 INFO 140623052531520] #train_score (algo-1) : ('mse', 51818501.14285714)\u001b[0m\n",
            "\u001b[34m[01/26/2025 15:48:15 INFO 140623052531520] #train_score (algo-1) : ('absolute_loss', 5672.139090401785)\u001b[0m\n",
            "\u001b[34m[01/26/2025 15:48:15 INFO 140623052531520] #train_score (algo-1) : ('rmse', 7198.506868987286)\u001b[0m\n",
            "\u001b[34m[01/26/2025 15:48:15 INFO 140623052531520] #train_score (algo-1) : ('r2', 0.9473411138936358)\u001b[0m\n",
            "\u001b[34m[01/26/2025 15:48:15 INFO 140623052531520] #train_score (algo-1) : ('mae', 5672.139090401785)\u001b[0m\n",
            "\u001b[34m[01/26/2025 15:48:15 INFO 140623052531520] #quality_metric: host=algo-1, train absolute_loss_objective <loss>=5672.139090401785\u001b[0m\n",
            "\u001b[34m[01/26/2025 15:48:15 INFO 140623052531520] #quality_metric: host=algo-1, train mse <loss>=51818501.14285714\u001b[0m\n",
            "\u001b[34m[01/26/2025 15:48:15 INFO 140623052531520] #quality_metric: host=algo-1, train absolute_loss <loss>=5672.139090401785\u001b[0m\n",
            "\u001b[34m[01/26/2025 15:48:15 INFO 140623052531520] #quality_metric: host=algo-1, train rmse <loss>=7198.506868987286\u001b[0m\n",
            "\u001b[34m[01/26/2025 15:48:15 INFO 140623052531520] #quality_metric: host=algo-1, train r2 <loss>=0.9473411138936358\u001b[0m\n",
            "\u001b[34m[01/26/2025 15:48:15 INFO 140623052531520] #quality_metric: host=algo-1, train mae <loss>=5672.139090401785\u001b[0m\n",
            "\u001b[34m[01/26/2025 15:48:15 INFO 140623052531520] Best model found for hyperparameters: {\"optimizer\": \"adam\", \"learning_rate\": 0.1, \"wd\": 0.01, \"l1\": 0.0, \"lr_scheduler_step\": 10, \"lr_scheduler_factor\": 0.99, \"lr_scheduler_minimum_lr\": 1e-05}\u001b[0m\n",
            "\u001b[34m[01/26/2025 15:48:15 INFO 140623052531520] Saved checkpoint to \"/tmp/tmpepi3jeva/mx-mod-0000.params\"\u001b[0m\n",
            "\u001b[34m[01/26/2025 15:48:15 INFO 140623052531520] Test data is not provided.\u001b[0m\n",
            "\u001b[34m#metrics {\"StartTime\": 1737906494.5535798, \"EndTime\": 1737906495.0409987, \"Dimensions\": {\"Algorithm\": \"Linear Learner\", \"Host\": \"algo-1\", \"Operation\": \"training\"}, \"Metrics\": {\"initialize.time\": {\"sum\": 120.15485763549805, \"count\": 1, \"min\": 120.15485763549805, \"max\": 120.15485763549805}, \"epochs\": {\"sum\": 5.0, \"count\": 1, \"min\": 5, \"max\": 5}, \"check_early_stopping.time\": {\"sum\": 3.2858848571777344, \"count\": 5, \"min\": 0.2541542053222656, \"max\": 0.7846355438232422}, \"update.time\": {\"sum\": 340.87085723876953, \"count\": 5, \"min\": 65.33265113830566, \"max\": 76.66659355163574}, \"finalize.time\": {\"sum\": 9.130239486694336, \"count\": 1, \"min\": 9.130239486694336, \"max\": 9.130239486694336}, \"setuptime\": {\"sum\": 2.3360252380371094, \"count\": 1, \"min\": 2.3360252380371094, \"max\": 2.3360252380371094}, \"totaltime\": {\"sum\": 581.0501575469971, \"count\": 1, \"min\": 581.0501575469971, \"max\": 581.0501575469971}}}\u001b[0m\n",
            "\n",
            "2025-01-26 15:48:32 Completed - Training job completed\n",
            "Training seconds: 150\n",
            "Billable seconds: 150\n"
          ]
        }
      ],
      "source": [
        "# We have pass in the container, the type of instance that we would like to use for training\n",
        "# output path and sagemaker session into the Estimator.\n",
        "# We can also specify how many instances we would like to use for training\n",
        "# sagemaker_session = sagemaker.Session()\n",
        "\n",
        "linear = sagemaker.estimator.Estimator(container,\n",
        "                                       role,\n",
        "                                       train_instance_count = 1,\n",
        "                                       train_instance_type = 'ml.c4.xlarge',\n",
        "                                       output_path = output_location,\n",
        "                                       sagemaker_session = sagemaker_session)\n",
        "\n",
        "\n",
        "# We can tune parameters like the number of features that we are passing in, type of predictor like 'regressor' or 'classifier', mini batch size, epochs\n",
        "# Train 32 different versions of the model and will get the best out of them (built-in parameters optimization!)\n",
        "\n",
        "linear.set_hyperparameters(feature_dim = 1,\n",
        "                           predictor_type = 'regressor',\n",
        "                           mini_batch_size = 5,\n",
        "                           epochs = 5,\n",
        "                           num_models = 32,\n",
        "                           loss = 'absolute_loss')\n",
        "\n",
        "# Now we are ready to pass in the training data from S3 to train the linear learner model\n",
        "\n",
        "linear.fit({'train': s3_train_data})\n",
        "\n",
        "# Let's see the progress using cloudwatch logs"
      ]
    },
    {
      "cell_type": "markdown",
      "metadata": {
        "id": "bDLlMgPRAku5"
      },
      "source": [
        "MINI CHALLENGE\n",
        "- Try to train the model with more epochs and additional number of models\n",
        "- Can you try to reduce the cost of billable seconds?"
      ]
    },
    {
      "cell_type": "code",
      "execution_count": null,
      "metadata": {
        "id": "tT_EBFhiAku5"
      },
      "outputs": [],
      "source": []
    },
    {
      "cell_type": "markdown",
      "metadata": {
        "id": "oRb10yJPAku5"
      },
      "source": [
        "# TASK #8: DEPLOY AND TEST THE TRAINED LINEAR LEARNER MODEL"
      ]
    },
    {
      "cell_type": "code",
      "execution_count": 28,
      "metadata": {
        "colab": {
          "base_uri": "https://localhost:8080/"
        },
        "id": "fYpRbQdOAku5",
        "outputId": "81eaad86-983a-4333-c731-e572466d1fc0"
      },
      "outputs": [
        {
          "output_type": "stream",
          "name": "stdout",
          "text": [
            "-------!"
          ]
        }
      ],
      "source": [
        "# Deploying the model to perform inference\n",
        "\n",
        "linear_regressor = linear.deploy(initial_instance_count = 1,\n",
        "                                          instance_type = 'ml.m4.xlarge')"
      ]
    },
    {
      "cell_type": "code",
      "source": [
        "!pip install --upgrade sagemaker -q"
      ],
      "metadata": {
        "id": "LZ1zUkf1OXv0"
      },
      "execution_count": 29,
      "outputs": []
    },
    {
      "cell_type": "code",
      "execution_count": 30,
      "metadata": {
        "id": "ZPrNfEv7Aku5"
      },
      "outputs": [],
      "source": [
        "#from sagemaker.predictor import  json_deserializer\n",
        "from sagemaker.serializers import CSVSerializer\n",
        "from sagemaker.deserializers import JSONDeserializer\n",
        "# Content type overrides the data that will be passed to the deployed model, since the deployed model expects data in text/csv format.\n",
        "\n",
        "# Serializer accepts a single argument, the input data, and returns a sequence of bytes in the specified content type\n",
        "\n",
        "# Deserializer accepts two arguments, the result data and the response content type, and return a sequence of bytes in the specified content type.\n",
        "\n",
        "# Reference: https://sagemaker.readthedocs.io/en/stable/predictors.html\n",
        "\n",
        "# linear_regressor.content_type = 'text/csv'\n",
        "linear_regressor.serializer = CSVSerializer()\n",
        "#linear_regressor.serializer = csv_serializer\n",
        "#linear_regressor.deserializer = json_deserializer\n",
        "linear_regressor.deserializer = JSONDeserializer()"
      ]
    },
    {
      "cell_type": "code",
      "execution_count": 31,
      "metadata": {
        "id": "nltTDfoCAku5"
      },
      "outputs": [],
      "source": [
        "# making prediction on the test data\n",
        "\n",
        "result = linear_regressor.predict(X_test)"
      ]
    },
    {
      "cell_type": "code",
      "execution_count": 32,
      "metadata": {
        "colab": {
          "base_uri": "https://localhost:8080/"
        },
        "id": "HdRdE9ZVAku6",
        "outputId": "a68bd48b-0946-462c-96b8-1d325be3eb2d"
      },
      "outputs": [
        {
          "output_type": "execute_result",
          "data": {
            "text/plain": [
              "{'predictions': [{'score': 120807.109375},\n",
              "  {'score': 151942.6875},\n",
              "  {'score': 97455.421875},\n",
              "  {'score': 86752.5625},\n",
              "  {'score': 89671.5234375},\n",
              "  {'score': 70211.78125},\n",
              "  {'score': 31292.302734375}]}"
            ]
          },
          "metadata": {},
          "execution_count": 32
        }
      ],
      "source": [
        "result # results are in Json format"
      ]
    },
    {
      "cell_type": "code",
      "execution_count": 33,
      "metadata": {
        "id": "zypcReBOAku6"
      },
      "outputs": [],
      "source": [
        "# Since the result is in json format, we access the scores by iterating through the scores in the predictions\n",
        "\n",
        "predictions = np.array([r['score'] for r in result['predictions']])"
      ]
    },
    {
      "cell_type": "code",
      "execution_count": 34,
      "metadata": {
        "colab": {
          "base_uri": "https://localhost:8080/"
        },
        "id": "95MqvQuPAku6",
        "outputId": "891d370e-9119-41d7-a7e9-c693d1f41c32"
      },
      "outputs": [
        {
          "output_type": "execute_result",
          "data": {
            "text/plain": [
              "array([120807.109375  , 151942.6875    ,  97455.421875  ,  86752.5625    ,\n",
              "        89671.5234375 ,  70211.78125   ,  31292.30273438])"
            ]
          },
          "metadata": {},
          "execution_count": 34
        }
      ],
      "source": [
        "predictions"
      ]
    },
    {
      "cell_type": "code",
      "execution_count": 35,
      "metadata": {
        "scrolled": true,
        "colab": {
          "base_uri": "https://localhost:8080/"
        },
        "id": "1_wxVPsrAku6",
        "outputId": "66d949fd-f1b9-4430-e695-c8ec030938a5"
      },
      "outputs": [
        {
          "output_type": "execute_result",
          "data": {
            "text/plain": [
              "(7,)"
            ]
          },
          "metadata": {},
          "execution_count": 35
        }
      ],
      "source": [
        "predictions.shape"
      ]
    },
    {
      "cell_type": "code",
      "execution_count": 36,
      "metadata": {
        "colab": {
          "base_uri": "https://localhost:8080/",
          "height": 489
        },
        "id": "P_6O_dtTAku6",
        "outputId": "47102854-ed5e-4c17-bc25-66c5d79a6416"
      },
      "outputs": [
        {
          "output_type": "execute_result",
          "data": {
            "text/plain": [
              "Text(0.5, 1.0, 'Salary vs. Years of Experience')"
            ]
          },
          "metadata": {},
          "execution_count": 36
        },
        {
          "output_type": "display_data",
          "data": {
            "text/plain": [
              "<Figure size 640x480 with 1 Axes>"
            ],
            "image/png": "[encoded data removed]"
          },
          "metadata": {}
        }
      ],
      "source": [
        "# VISUALIZE TEST SET RESULTS\n",
        "plt.scatter(X_test, y_test, color = 'gray')\n",
        "plt.plot(X_test, predictions, color = 'red')\n",
        "plt.xlabel('Years of Experience (Testing Dataset)')\n",
        "plt.ylabel('salary')\n",
        "plt.title('Salary vs. Years of Experience')"
      ]
    },
    {
      "cell_type": "code",
      "execution_count": 41,
      "metadata": {
        "id": "_kGsw68dAku7"
      },
      "outputs": [],
      "source": [
        "# Delete the end-point\n",
        "\n",
        "linear_regressor.delete_endpoint()"
      ]
    },
    {
      "cell_type": "markdown",
      "metadata": {
        "id": "P-C6mkZZAku7"
      },
      "source": [
        "# EXCELLENT JOB! NOW YOU'RE FAMILIAR WITH SAGEMAKER LINEAR LEARNER, YOU SHOULD BE PROUD OF YOUR NEWLY ACQUIRED SKILLS"
      ]
    },
    {
      "cell_type": "code",
      "source": [
        "import requests\n",
        "import json\n",
        "\n",
        "# API Gateway URL\n",
        "api_url = \"https://hq2mcqxrwi.execute-api.us-east-1.amazonaws.com/prod/predict\"\n",
        "\n",
        "# Input Data\n",
        "input_data = {\"YearsExperience\": 5.0}\n",
        "\n",
        "# Headers\n",
        "headers = {\"Content-Type\": \"application/json\"}\n",
        "\n",
        "# Make POST Request\n",
        "response = requests.post(api_url, data=json.dumps(input_data), headers=headers)\n",
        "\n",
        "# Handle Response\n",
        "if response.status_code == 200:\n",
        "    print(\"Prediction:\", response.json())\n",
        "else:\n",
        "    print(f\"Error: {response.status_code}, {response.text}\")\n"
      ],
      "metadata": {
        "colab": {
          "base_uri": "https://localhost:8080/"
        },
        "id": "5yzCy6dp5GL9",
        "outputId": "7fae14ab-3bd2-4252-c2f0-ab2f660f7629"
      },
      "execution_count": 40,
      "outputs": [
        {
          "output_type": "stream",
          "name": "stdout",
          "text": [
            "Prediction: {'statusCode': 200, 'body': '{\"YearsExperience\": 5.0, \"PredictedSalary\": 69238.796875}'}\n"
          ]
        }
      ]
    },
    {
      "cell_type": "code",
      "source": [],
      "metadata": {
        "id": "2jQbTUcAYgVL"
      },
      "execution_count": 39,
      "outputs": []
    }
  ],
  "metadata": {
    "colab": {
      "provenance": []
    },
    "instance_type": "ml.t3.medium",
    "kernelspec": {
      "display_name": "conda_python3",
      "language": "python",
      "name": "conda_python3"
    },
    "language_info": {
      "codemirror_mode": {
        "name": "ipython",
        "version": 3
      },
      "file_extension": ".py",
      "mimetype": "text/x-python",
      "name": "python",
      "nbconvert_exporter": "python",
      "pygments_lexer": "ipython3",
      "version": "3.6.13"
    }
  },
  "nbformat": 4,
  "nbformat_minor": 0
}