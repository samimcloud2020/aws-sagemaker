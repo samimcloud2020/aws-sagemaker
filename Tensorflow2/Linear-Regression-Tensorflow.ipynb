{
  "nbformat": 4,
  "nbformat_minor": 0,
  "metadata": {
    "colab": {
      "provenance": []
    },
    "kernelspec": {
      "name": "python3",
      "display_name": "Python 3"
    },
    "language_info": {
      "name": "python"
    }
  },
  "cells": [
    {
      "cell_type": "code",
      "execution_count": 70,
      "metadata": {
        "id": "3-hzua70SSYp"
      },
      "outputs": [],
      "source": [
        "#from google.colab import files\n",
        "#uploaded = files.upload()"
      ]
    },
    {
      "cell_type": "code",
      "source": [
        "!ls\n"
      ],
      "metadata": {
        "colab": {
          "base_uri": "https://localhost:8080/"
        },
        "id": "9Oegg_ePV_GM",
        "outputId": "23db9f08-e74f-4b68-b2ed-aa92ee646696"
      },
      "execution_count": 71,
      "outputs": [
        {
          "output_type": "stream",
          "name": "stdout",
          "text": [
            "insurance.csv  sample_data\n"
          ]
        }
      ]
    },
    {
      "cell_type": "code",
      "source": [
        "import pandas as pd\n",
        "import numpy as np\n",
        "import seaborn as sns\n",
        "import matplotlib.pyplot as plt\n",
        "from tensorflow import keras\n",
        "from tensorflow.keras import layers\n",
        "import warnings\n",
        "warnings.filterwarnings('ignore')\n",
        "# read the csv file\n",
        "data = pd.read_csv('insurance.csv').to_numpy()\n",
        "data"
      ],
      "metadata": {
        "colab": {
          "base_uri": "https://localhost:8080/"
        },
        "id": "J2XGJ6f-WSES",
        "outputId": "adf201e6-c535-4cd3-ff25-b7bd5e1fade7"
      },
      "execution_count": 72,
      "outputs": [
        {
          "output_type": "execute_result",
          "data": {
            "text/plain": [
              "array([[   18, 10000],\n",
              "       [   22, 15000],\n",
              "       [   23, 18000],\n",
              "       [   26, 21000],\n",
              "       [   28, 24000],\n",
              "       [   31, 26500],\n",
              "       [   33, 27000],\n",
              "       [   35, 30000],\n",
              "       [   37, 33000],\n",
              "       [   40, 37000]])"
            ]
          },
          "metadata": {},
          "execution_count": 72
        }
      ]
    },
    {
      "cell_type": "code",
      "source": [
        "import numpy as np\n",
        "import pandas as pd\n",
        "import tensorflow as tf\n",
        "from sklearn.model_selection import train_test_split\n",
        "from sklearn.preprocessing import StandardScaler\n"
      ],
      "metadata": {
        "id": "CFQgWK9ThueU"
      },
      "execution_count": 73,
      "outputs": []
    },
    {
      "cell_type": "code",
      "source": [
        "X = data[:,0].reshape(-1,1)   #reshape to making N * D\n",
        "Y = data[:,1]"
      ],
      "metadata": {
        "id": "FaFRiQShjUvs"
      },
      "execution_count": 74,
      "outputs": []
    },
    {
      "cell_type": "code",
      "source": [
        "X"
      ],
      "metadata": {
        "colab": {
          "base_uri": "https://localhost:8080/"
        },
        "id": "J83h19WYjaob",
        "outputId": "94feae69-1069-4bc8-dda1-e9826c72d947"
      },
      "execution_count": 75,
      "outputs": [
        {
          "output_type": "execute_result",
          "data": {
            "text/plain": [
              "array([[18],\n",
              "       [22],\n",
              "       [23],\n",
              "       [26],\n",
              "       [28],\n",
              "       [31],\n",
              "       [33],\n",
              "       [35],\n",
              "       [37],\n",
              "       [40]])"
            ]
          },
          "metadata": {},
          "execution_count": 75
        }
      ]
    },
    {
      "cell_type": "code",
      "source": [
        "Y"
      ],
      "metadata": {
        "colab": {
          "base_uri": "https://localhost:8080/"
        },
        "id": "S5sDZUgZjau4",
        "outputId": "0d6172d6-ac0e-4c3a-a193-34911ddf7d9b"
      },
      "execution_count": 76,
      "outputs": [
        {
          "output_type": "execute_result",
          "data": {
            "text/plain": [
              "array([10000, 15000, 18000, 21000, 24000, 26500, 27000, 30000, 33000,\n",
              "       37000])"
            ]
          },
          "metadata": {},
          "execution_count": 76
        }
      ]
    },
    {
      "cell_type": "code",
      "source": [
        "X.shape"
      ],
      "metadata": {
        "colab": {
          "base_uri": "https://localhost:8080/"
        },
        "id": "caXK-C5ejezU",
        "outputId": "a6ac374b-6610-448f-fe22-eaf15b4d0172"
      },
      "execution_count": 77,
      "outputs": [
        {
          "output_type": "execute_result",
          "data": {
            "text/plain": [
              "(10, 1)"
            ]
          },
          "metadata": {},
          "execution_count": 77
        }
      ]
    },
    {
      "cell_type": "code",
      "source": [
        "Y.shape"
      ],
      "metadata": {
        "colab": {
          "base_uri": "https://localhost:8080/"
        },
        "id": "p3Db-Pf_je7o",
        "outputId": "73b389a3-0f7a-464a-a6a6-771f713c70ef"
      },
      "execution_count": 78,
      "outputs": [
        {
          "output_type": "execute_result",
          "data": {
            "text/plain": [
              "(10,)"
            ]
          },
          "metadata": {},
          "execution_count": 78
        }
      ]
    },
    {
      "cell_type": "code",
      "source": [
        "plt.scatter(X,Y);"
      ],
      "metadata": {
        "colab": {
          "base_uri": "https://localhost:8080/",
          "height": 430
        },
        "id": "EF0T-cnIjXAO",
        "outputId": "f98cc110-4fb1-4758-c8fd-2607a339be95"
      },
      "execution_count": 79,
      "outputs": [
        {
          "output_type": "display_data",
          "data": {
            "text/plain": [
              "<Figure size 640x480 with 1 Axes>"
            ],
            "image/png": "[encoded data removed]"
          },
          "metadata": {}
        }
      ]
    },
    {
      "cell_type": "code",
      "source": [
        "#Standardize your features (optional but recommended):\n",
        "df = pd.read_csv('insurance.csv')\n",
        "scaler = StandardScaler()\n",
        "df['Age'] = scaler.fit_transform(df[['Age']])\n"
      ],
      "metadata": {
        "id": "1HUho1DWhujf"
      },
      "execution_count": 80,
      "outputs": []
    },
    {
      "cell_type": "code",
      "source": [
        "#Split your data into training and testing sets:\n",
        "X_train, X_test, y_train, y_test = train_test_split(df[['Age']], df['Premium'], test_size=0.2, random_state=42)\n"
      ],
      "metadata": {
        "id": "7l-E2qCnhumY"
      },
      "execution_count": 81,
      "outputs": []
    },
    {
      "cell_type": "code",
      "source": [
        "#Create a linear regression model using TensorFlow:\n",
        "model = tf.keras.Sequential([\n",
        "    tf.keras.layers.Input(shape=(1,)),  # Input layer with one feature\n",
        "    tf.keras.layers.Dense(1)  # Output layer with one neuron for linear regression\n",
        "])\n",
        "\n",
        "# Compile the model\n",
        "model.compile(optimizer='sgd', loss='mean_squared_error')  # You can choose a different optimizer and loss function if needed\n"
      ],
      "metadata": {
        "id": "YcRiICYehupA"
      },
      "execution_count": 82,
      "outputs": []
    },
    {
      "cell_type": "code",
      "source": [
        "#Train the linear regression model:\n",
        "history = model.fit(X_train, y_train, epochs=100, batch_size=32, validation_data=(X_test, y_test))\n"
      ],
      "metadata": {
        "colab": {
          "base_uri": "https://localhost:8080/"
        },
        "id": "zoCQOn-yhus5",
        "outputId": "22c182cd-9b30-430c-f0e1-a9532777331d"
      },
      "execution_count": 83,
      "outputs": [
        {
          "output_type": "stream",
          "name": "stdout",
          "text": [
            "Epoch 1/100\n",
            "1/1 [==============================] - 0s 405ms/step - loss: 642632832.0000 - val_loss: 630958208.0000\n",
            "Epoch 2/100\n",
            "1/1 [==============================] - 0s 36ms/step - loss: 617453824.0000 - val_loss: 605976384.0000\n",
            "Epoch 3/100\n",
            "1/1 [==============================] - 0s 34ms/step - loss: 593263232.0000 - val_loss: 581979136.0000\n",
            "Epoch 4/100\n",
            "1/1 [==============================] - 0s 34ms/step - loss: 570022336.0000 - val_loss: 558927744.0000\n",
            "Epoch 5/100\n",
            "1/1 [==============================] - 0s 36ms/step - loss: 547693824.0000 - val_loss: 536784960.0000\n",
            "Epoch 6/100\n",
            "1/1 [==============================] - 0s 46ms/step - loss: 526241920.0000 - val_loss: 515515168.0000\n",
            "Epoch 7/100\n",
            "1/1 [==============================] - 0s 36ms/step - loss: 505632064.0000 - val_loss: 495084000.0000\n",
            "Epoch 8/100\n",
            "1/1 [==============================] - 0s 40ms/step - loss: 485831296.0000 - val_loss: 475458400.0000\n",
            "Epoch 9/100\n",
            "1/1 [==============================] - 0s 32ms/step - loss: 466807744.0000 - val_loss: 456606848.0000\n",
            "Epoch 10/100\n",
            "1/1 [==============================] - 0s 33ms/step - loss: 448530976.0000 - val_loss: 438498752.0000\n",
            "Epoch 11/100\n",
            "1/1 [==============================] - 0s 33ms/step - loss: 430971584.0000 - val_loss: 421104960.0000\n",
            "Epoch 12/100\n",
            "1/1 [==============================] - 0s 32ms/step - loss: 414101472.0000 - val_loss: 404397344.0000\n",
            "Epoch 13/100\n",
            "1/1 [==============================] - 0s 39ms/step - loss: 397893504.0000 - val_loss: 388348896.0000\n",
            "Epoch 14/100\n",
            "1/1 [==============================] - 0s 32ms/step - loss: 382321760.0000 - val_loss: 372933760.0000\n",
            "Epoch 15/100\n",
            "1/1 [==============================] - 0s 51ms/step - loss: 367361152.0000 - val_loss: 358127008.0000\n",
            "Epoch 16/100\n",
            "1/1 [==============================] - 0s 36ms/step - loss: 352987744.0000 - val_loss: 343904640.0000\n",
            "Epoch 17/100\n",
            "1/1 [==============================] - 0s 65ms/step - loss: 339178464.0000 - val_loss: 330243712.0000\n",
            "Epoch 18/100\n",
            "1/1 [==============================] - 0s 37ms/step - loss: 325911168.0000 - val_loss: 317122176.0000\n",
            "Epoch 19/100\n",
            "1/1 [==============================] - 0s 40ms/step - loss: 313164544.0000 - val_loss: 304518720.0000\n",
            "Epoch 20/100\n",
            "1/1 [==============================] - 0s 35ms/step - loss: 300918208.0000 - val_loss: 292413024.0000\n",
            "Epoch 21/100\n",
            "1/1 [==============================] - 0s 39ms/step - loss: 289152448.0000 - val_loss: 280785472.0000\n",
            "Epoch 22/100\n",
            "1/1 [==============================] - 0s 34ms/step - loss: 277848448.0000 - val_loss: 269617280.0000\n",
            "Epoch 23/100\n",
            "1/1 [==============================] - 0s 36ms/step - loss: 266988032.0000 - val_loss: 258890368.0000\n",
            "Epoch 24/100\n",
            "1/1 [==============================] - 0s 40ms/step - loss: 256553824.0000 - val_loss: 248587296.0000\n",
            "Epoch 25/100\n",
            "1/1 [==============================] - 0s 36ms/step - loss: 246529056.0000 - val_loss: 238691488.0000\n",
            "Epoch 26/100\n",
            "1/1 [==============================] - 0s 40ms/step - loss: 236897696.0000 - val_loss: 229186784.0000\n",
            "Epoch 27/100\n",
            "1/1 [==============================] - 0s 36ms/step - loss: 227644224.0000 - val_loss: 220057952.0000\n",
            "Epoch 28/100\n",
            "1/1 [==============================] - 0s 40ms/step - loss: 218753872.0000 - val_loss: 211290080.0000\n",
            "Epoch 29/100\n",
            "1/1 [==============================] - 0s 38ms/step - loss: 210212384.0000 - val_loss: 202868944.0000\n",
            "Epoch 30/100\n",
            "1/1 [==============================] - 0s 36ms/step - loss: 202006016.0000 - val_loss: 194780944.0000\n",
            "Epoch 31/100\n",
            "1/1 [==============================] - 0s 36ms/step - loss: 194121648.0000 - val_loss: 187012944.0000\n",
            "Epoch 32/100\n",
            "1/1 [==============================] - 0s 38ms/step - loss: 186546624.0000 - val_loss: 179552336.0000\n",
            "Epoch 33/100\n",
            "1/1 [==============================] - 0s 35ms/step - loss: 179268816.0000 - val_loss: 172387072.0000\n",
            "Epoch 34/100\n",
            "1/1 [==============================] - 0s 36ms/step - loss: 172276544.0000 - val_loss: 165505424.0000\n",
            "Epoch 35/100\n",
            "1/1 [==============================] - 0s 35ms/step - loss: 165558608.0000 - val_loss: 158896272.0000\n",
            "Epoch 36/100\n",
            "1/1 [==============================] - 0s 33ms/step - loss: 159104240.0000 - val_loss: 152548864.0000\n",
            "Epoch 37/100\n",
            "1/1 [==============================] - 0s 35ms/step - loss: 152903072.0000 - val_loss: 146452880.0000\n",
            "Epoch 38/100\n",
            "1/1 [==============================] - 0s 31ms/step - loss: 146945184.0000 - val_loss: 140598432.0000\n",
            "Epoch 39/100\n",
            "1/1 [==============================] - 0s 34ms/step - loss: 141221008.0000 - val_loss: 134976000.0000\n",
            "Epoch 40/100\n",
            "1/1 [==============================] - 0s 35ms/step - loss: 135721424.0000 - val_loss: 129576432.0000\n",
            "Epoch 41/100\n",
            "1/1 [==============================] - 0s 37ms/step - loss: 130437568.0000 - val_loss: 124390928.0000\n",
            "Epoch 42/100\n",
            "1/1 [==============================] - 0s 34ms/step - loss: 125360968.0000 - val_loss: 119411104.0000\n",
            "Epoch 43/100\n",
            "1/1 [==============================] - 0s 44ms/step - loss: 120483520.0000 - val_loss: 114628808.0000\n",
            "Epoch 44/100\n",
            "1/1 [==============================] - 0s 33ms/step - loss: 115797392.0000 - val_loss: 110036248.0000\n",
            "Epoch 45/100\n",
            "1/1 [==============================] - 0s 35ms/step - loss: 111295080.0000 - val_loss: 105625952.0000\n",
            "Epoch 46/100\n",
            "1/1 [==============================] - 0s 34ms/step - loss: 106969360.0000 - val_loss: 101390736.0000\n",
            "Epoch 47/100\n",
            "1/1 [==============================] - 0s 36ms/step - loss: 102813320.0000 - val_loss: 97323680.0000\n",
            "Epoch 48/100\n",
            "1/1 [==============================] - 0s 36ms/step - loss: 98820288.0000 - val_loss: 93418168.0000\n",
            "Epoch 49/100\n",
            "1/1 [==============================] - 0s 37ms/step - loss: 94983872.0000 - val_loss: 89667816.0000\n",
            "Epoch 50/100\n",
            "1/1 [==============================] - 0s 55ms/step - loss: 91297920.0000 - val_loss: 86066504.0000\n",
            "Epoch 51/100\n",
            "1/1 [==============================] - 0s 35ms/step - loss: 87756536.0000 - val_loss: 82608352.0000\n",
            "Epoch 52/100\n",
            "1/1 [==============================] - 0s 37ms/step - loss: 84354032.0000 - val_loss: 79287704.0000\n",
            "Epoch 53/100\n",
            "1/1 [==============================] - 0s 38ms/step - loss: 81084984.0000 - val_loss: 76099128.0000\n",
            "Epoch 54/100\n",
            "1/1 [==============================] - 0s 39ms/step - loss: 77944144.0000 - val_loss: 73037432.0000\n",
            "Epoch 55/100\n",
            "1/1 [==============================] - 0s 33ms/step - loss: 74926464.0000 - val_loss: 70097600.0000\n",
            "Epoch 56/100\n",
            "1/1 [==============================] - 0s 34ms/step - loss: 72027136.0000 - val_loss: 67274816.0000\n",
            "Epoch 57/100\n",
            "1/1 [==============================] - 0s 33ms/step - loss: 69241504.0000 - val_loss: 64564404.0000\n",
            "Epoch 58/100\n",
            "1/1 [==============================] - 0s 35ms/step - loss: 66565100.0000 - val_loss: 61962016.0000\n",
            "Epoch 59/100\n",
            "1/1 [==============================] - 0s 35ms/step - loss: 63993648.0000 - val_loss: 59463320.0000\n",
            "Epoch 60/100\n",
            "1/1 [==============================] - 0s 35ms/step - loss: 61523024.0000 - val_loss: 57064260.0000\n",
            "Epoch 61/100\n",
            "1/1 [==============================] - 0s 38ms/step - loss: 59149300.0000 - val_loss: 54760848.0000\n",
            "Epoch 62/100\n",
            "1/1 [==============================] - 0s 41ms/step - loss: 56868632.0000 - val_loss: 52549348.0000\n",
            "Epoch 63/100\n",
            "1/1 [==============================] - 0s 34ms/step - loss: 54677400.0000 - val_loss: 50426108.0000\n",
            "Epoch 64/100\n",
            "1/1 [==============================] - 0s 38ms/step - loss: 52572084.0000 - val_loss: 48387636.0000\n",
            "Epoch 65/100\n",
            "1/1 [==============================] - 0s 36ms/step - loss: 50549312.0000 - val_loss: 46430568.0000\n",
            "Epoch 66/100\n",
            "1/1 [==============================] - 0s 35ms/step - loss: 48605840.0000 - val_loss: 44551708.0000\n",
            "Epoch 67/100\n",
            "1/1 [==============================] - 0s 34ms/step - loss: 46738560.0000 - val_loss: 42747960.0000\n",
            "Epoch 68/100\n",
            "1/1 [==============================] - 0s 32ms/step - loss: 44944512.0000 - val_loss: 41016328.0000\n",
            "Epoch 69/100\n",
            "1/1 [==============================] - 0s 54ms/step - loss: 43220776.0000 - val_loss: 39354000.0000\n",
            "Epoch 70/100\n",
            "1/1 [==============================] - 0s 40ms/step - loss: 41564628.0000 - val_loss: 37758176.0000\n",
            "Epoch 71/100\n",
            "1/1 [==============================] - 0s 32ms/step - loss: 39973416.0000 - val_loss: 36226252.0000\n",
            "Epoch 72/100\n",
            "1/1 [==============================] - 0s 36ms/step - loss: 38444560.0000 - val_loss: 34755708.0000\n",
            "Epoch 73/100\n",
            "1/1 [==============================] - 0s 36ms/step - loss: 36975648.0000 - val_loss: 33344074.0000\n",
            "Epoch 74/100\n",
            "1/1 [==============================] - 0s 36ms/step - loss: 35564312.0000 - val_loss: 31989066.0000\n",
            "Epoch 75/100\n",
            "1/1 [==============================] - 0s 39ms/step - loss: 34208304.0000 - val_loss: 30688396.0000\n",
            "Epoch 76/100\n",
            "1/1 [==============================] - 0s 36ms/step - loss: 32905440.0000 - val_loss: 29439928.0000\n",
            "Epoch 77/100\n",
            "1/1 [==============================] - 0s 35ms/step - loss: 31653642.0000 - val_loss: 28241596.0000\n",
            "Epoch 78/100\n",
            "1/1 [==============================] - 0s 36ms/step - loss: 30450920.0000 - val_loss: 27091420.0000\n",
            "Epoch 79/100\n",
            "1/1 [==============================] - 0s 37ms/step - loss: 29295334.0000 - val_loss: 25987466.0000\n",
            "Epoch 80/100\n",
            "1/1 [==============================] - 0s 39ms/step - loss: 28185050.0000 - val_loss: 24927920.0000\n",
            "Epoch 81/100\n",
            "1/1 [==============================] - 0s 37ms/step - loss: 27118278.0000 - val_loss: 23911008.0000\n",
            "Epoch 82/100\n",
            "1/1 [==============================] - 0s 34ms/step - loss: 26093312.0000 - val_loss: 22935048.0000\n",
            "Epoch 83/100\n",
            "1/1 [==============================] - 0s 35ms/step - loss: 25108532.0000 - val_loss: 21998394.0000\n",
            "Epoch 84/100\n",
            "1/1 [==============================] - 0s 32ms/step - loss: 24162332.0000 - val_loss: 21099502.0000\n",
            "Epoch 85/100\n",
            "1/1 [==============================] - 0s 33ms/step - loss: 23253232.0000 - val_loss: 20236870.0000\n",
            "Epoch 86/100\n",
            "1/1 [==============================] - 0s 37ms/step - loss: 22379748.0000 - val_loss: 19409044.0000\n",
            "Epoch 87/100\n",
            "1/1 [==============================] - 0s 36ms/step - loss: 21540488.0000 - val_loss: 18614650.0000\n",
            "Epoch 88/100\n",
            "1/1 [==============================] - 0s 36ms/step - loss: 20734128.0000 - val_loss: 17852354.0000\n",
            "Epoch 89/100\n",
            "1/1 [==============================] - 0s 40ms/step - loss: 19959360.0000 - val_loss: 17120900.0000\n",
            "Epoch 90/100\n",
            "1/1 [==============================] - 0s 41ms/step - loss: 19214960.0000 - val_loss: 16419025.0000\n",
            "Epoch 91/100\n",
            "1/1 [==============================] - 0s 41ms/step - loss: 18499718.0000 - val_loss: 15745562.0000\n",
            "Epoch 92/100\n",
            "1/1 [==============================] - 0s 35ms/step - loss: 17812506.0000 - val_loss: 15099410.0000\n",
            "Epoch 93/100\n",
            "1/1 [==============================] - 0s 35ms/step - loss: 17152228.0000 - val_loss: 14479435.0000\n",
            "Epoch 94/100\n",
            "1/1 [==============================] - 0s 40ms/step - loss: 16517820.0000 - val_loss: 13884633.0000\n",
            "Epoch 95/100\n",
            "1/1 [==============================] - 0s 42ms/step - loss: 15908269.0000 - val_loss: 13313981.0000\n",
            "Epoch 96/100\n",
            "1/1 [==============================] - 0s 34ms/step - loss: 15322602.0000 - val_loss: 12766518.0000\n",
            "Epoch 97/100\n",
            "1/1 [==============================] - 0s 36ms/step - loss: 14759877.0000 - val_loss: 12241305.0000\n",
            "Epoch 98/100\n",
            "1/1 [==============================] - 0s 33ms/step - loss: 14219200.0000 - val_loss: 11737491.0000\n",
            "Epoch 99/100\n",
            "1/1 [==============================] - 0s 32ms/step - loss: 13699704.0000 - val_loss: 11254179.0000\n",
            "Epoch 100/100\n",
            "1/1 [==============================] - 0s 35ms/step - loss: 13200556.0000 - val_loss: 10790578.0000\n"
          ]
        }
      ]
    },
    {
      "cell_type": "code",
      "source": [
        "#Evaluate the model:\n",
        "loss = model.evaluate(X_test, y_test)\n",
        "print(\"Test Loss:\", loss)\n"
      ],
      "metadata": {
        "colab": {
          "base_uri": "https://localhost:8080/"
        },
        "id": "CUtRRky_huyJ",
        "outputId": "cb82dd31-2203-4649-ed88-316ad45ef6e6"
      },
      "execution_count": 84,
      "outputs": [
        {
          "output_type": "stream",
          "name": "stdout",
          "text": [
            "1/1 [==============================] - 0s 25ms/step - loss: 10790578.0000\n",
            "Test Loss: 10790578.0\n"
          ]
        }
      ]
    },
    {
      "cell_type": "code",
      "source": [
        "X_test"
      ],
      "metadata": {
        "id": "CxBxXpXnK6kr",
        "outputId": "035d6a38-0c91-4371-977e-cb3fb2e6cae2",
        "colab": {
          "base_uri": "https://localhost:8080/",
          "height": 112
        }
      },
      "execution_count": 96,
      "outputs": [
        {
          "output_type": "execute_result",
          "data": {
            "text/plain": [
              "        Age\n",
              "8  1.140147\n",
              "1 -1.080918"
            ],
            "text/html": [
              "\n",
              "  <div id=\"df-c2cc6145-b5a8-4ce9-b4e7-cd7f15ca2dc4\" class=\"colab-df-container\">\n",
              "    <div>\n",
              "<style scoped>\n",
              "    .dataframe tbody tr th:only-of-type {\n",
              "        vertical-align: middle;\n",
              "    }\n",
              "\n",
              "    .dataframe tbody tr th {\n",
              "        vertical-align: top;\n",
              "    }\n",
              "\n",
              "    .dataframe thead th {\n",
              "        text-align: right;\n",
              "    }\n",
              "</style>\n",
              "<table border=\"1\" class=\"dataframe\">\n",
              "  <thead>\n",
              "    <tr style=\"text-align: right;\">\n",
              "      <th></th>\n",
              "      <th>Age</th>\n",
              "    </tr>\n",
              "  </thead>\n",
              "  <tbody>\n",
              "    <tr>\n",
              "      <th>8</th>\n",
              "      <td>1.140147</td>\n",
              "    </tr>\n",
              "    <tr>\n",
              "      <th>1</th>\n",
              "      <td>-1.080918</td>\n",
              "    </tr>\n",
              "  </tbody>\n",
              "</table>\n",
              "</div>\n",
              "    <div class=\"colab-df-buttons\">\n",
              "\n",
              "  <div class=\"colab-df-container\">\n",
              "    <button class=\"colab-df-convert\" onclick=\"convertToInteractive('df-c2cc6145-b5a8-4ce9-b4e7-cd7f15ca2dc4')\"\n",
              "            title=\"Convert this dataframe to an interactive table.\"\n",
              "            style=\"display:none;\">\n",
              "\n",
              "  <svg xmlns=\"http://www.w3.org/2000/svg\" height=\"24px\" viewBox=\"0 -960 960 960\">\n",
              "    <path d=\"M120-120v-720h720v720H120Zm60-500h600v-160H180v160Zm220 220h160v-160H400v160Zm0 220h160v-160H400v160ZM180-400h160v-160H180v160Zm440 0h160v-160H620v160ZM180-180h160v-160H180v160Zm440 0h160v-160H620v160Z\"/>\n",
              "  </svg>\n",
              "    </button>\n",
              "\n",
              "  <style>\n",
              "    .colab-df-container {\n",
              "      display:flex;\n",
              "      gap: 12px;\n",
              "    }\n",
              "\n",
              "    .colab-df-convert {\n",
              "      background-color: #E8F0FE;\n",
              "      border: none;\n",
              "      border-radius: 50%;\n",
              "      cursor: pointer;\n",
              "      display: none;\n",
              "      fill: #1967D2;\n",
              "      height: 32px;\n",
              "      padding: 0 0 0 0;\n",
              "      width: 32px;\n",
              "    }\n",
              "\n",
              "    .colab-df-convert:hover {\n",
              "      background-color: #E2EBFA;\n",
              "      box-shadow: 0px 1px 2px rgba(60, 64, 67, 0.3), 0px 1px 3px 1px rgba(60, 64, 67, 0.15);\n",
              "      fill: #174EA6;\n",
              "    }\n",
              "\n",
              "    .colab-df-buttons div {\n",
              "      margin-bottom: 4px;\n",
              "    }\n",
              "\n",
              "    [theme=dark] .colab-df-convert {\n",
              "      background-color: #3B4455;\n",
              "      fill: #D2E3FC;\n",
              "    }\n",
              "\n",
              "    [theme=dark] .colab-df-convert:hover {\n",
              "      background-color: #434B5C;\n",
              "      box-shadow: 0px 1px 3px 1px rgba(0, 0, 0, 0.15);\n",
              "      filter: drop-shadow(0px 1px 2px rgba(0, 0, 0, 0.3));\n",
              "      fill: #FFFFFF;\n",
              "    }\n",
              "  </style>\n",
              "\n",
              "    <script>\n",
              "      const buttonEl =\n",
              "        document.querySelector('#df-c2cc6145-b5a8-4ce9-b4e7-cd7f15ca2dc4 button.colab-df-convert');\n",
              "      buttonEl.style.display =\n",
              "        google.colab.kernel.accessAllowed ? 'block' : 'none';\n",
              "\n",
              "      async function convertToInteractive(key) {\n",
              "        const element = document.querySelector('#df-c2cc6145-b5a8-4ce9-b4e7-cd7f15ca2dc4');\n",
              "        const dataTable =\n",
              "          await google.colab.kernel.invokeFunction('convertToInteractive',\n",
              "                                                    [key], {});\n",
              "        if (!dataTable) return;\n",
              "\n",
              "        const docLinkHtml = 'Like what you see? Visit the ' +\n",
              "          '<a target=\"_blank\" href=https://colab.research.google.com/notebooks/data_table.ipynb>data table notebook</a>'\n",
              "          + ' to learn more about interactive tables.';\n",
              "        element.innerHTML = '';\n",
              "        dataTable['output_type'] = 'display_data';\n",
              "        await google.colab.output.renderOutput(dataTable, element);\n",
              "        const docLink = document.createElement('div');\n",
              "        docLink.innerHTML = docLinkHtml;\n",
              "        element.appendChild(docLink);\n",
              "      }\n",
              "    </script>\n",
              "  </div>\n",
              "\n",
              "\n",
              "<div id=\"df-55ae040a-b8b8-487e-ae8b-3e716d0c4e9b\">\n",
              "  <button class=\"colab-df-quickchart\" onclick=\"quickchart('df-55ae040a-b8b8-487e-ae8b-3e716d0c4e9b')\"\n",
              "            title=\"Suggest charts.\"\n",
              "            style=\"display:none;\">\n",
              "\n",
              "<svg xmlns=\"http://www.w3.org/2000/svg\" height=\"24px\"viewBox=\"0 0 24 24\"\n",
              "     width=\"24px\">\n",
              "    <g>\n",
              "        <path d=\"M19 3H5c-1.1 0-2 .9-2 2v14c0 1.1.9 2 2 2h14c1.1 0 2-.9 2-2V5c0-1.1-.9-2-2-2zM9 17H7v-7h2v7zm4 0h-2V7h2v10zm4 0h-2v-4h2v4z\"/>\n",
              "    </g>\n",
              "</svg>\n",
              "  </button>\n",
              "\n",
              "<style>\n",
              "  .colab-df-quickchart {\n",
              "      --bg-color: #E8F0FE;\n",
              "      --fill-color: #1967D2;\n",
              "      --hover-bg-color: #E2EBFA;\n",
              "      --hover-fill-color: #174EA6;\n",
              "      --disabled-fill-color: #AAA;\n",
              "      --disabled-bg-color: #DDD;\n",
              "  }\n",
              "\n",
              "  [theme=dark] .colab-df-quickchart {\n",
              "      --bg-color: #3B4455;\n",
              "      --fill-color: #D2E3FC;\n",
              "      --hover-bg-color: #434B5C;\n",
              "      --hover-fill-color: #FFFFFF;\n",
              "      --disabled-bg-color: #3B4455;\n",
              "      --disabled-fill-color: #666;\n",
              "  }\n",
              "\n",
              "  .colab-df-quickchart {\n",
              "    background-color: var(--bg-color);\n",
              "    border: none;\n",
              "    border-radius: 50%;\n",
              "    cursor: pointer;\n",
              "    display: none;\n",
              "    fill: var(--fill-color);\n",
              "    height: 32px;\n",
              "    padding: 0;\n",
              "    width: 32px;\n",
              "  }\n",
              "\n",
              "  .colab-df-quickchart:hover {\n",
              "    background-color: var(--hover-bg-color);\n",
              "    box-shadow: 0 1px 2px rgba(60, 64, 67, 0.3), 0 1px 3px 1px rgba(60, 64, 67, 0.15);\n",
              "    fill: var(--button-hover-fill-color);\n",
              "  }\n",
              "\n",
              "  .colab-df-quickchart-complete:disabled,\n",
              "  .colab-df-quickchart-complete:disabled:hover {\n",
              "    background-color: var(--disabled-bg-color);\n",
              "    fill: var(--disabled-fill-color);\n",
              "    box-shadow: none;\n",
              "  }\n",
              "\n",
              "  .colab-df-spinner {\n",
              "    border: 2px solid var(--fill-color);\n",
              "    border-color: transparent;\n",
              "    border-bottom-color: var(--fill-color);\n",
              "    animation:\n",
              "      spin 1s steps(1) infinite;\n",
              "  }\n",
              "\n",
              "  @keyframes spin {\n",
              "    0% {\n",
              "      border-color: transparent;\n",
              "      border-bottom-color: var(--fill-color);\n",
              "      border-left-color: var(--fill-color);\n",
              "    }\n",
              "    20% {\n",
              "      border-color: transparent;\n",
              "      border-left-color: var(--fill-color);\n",
              "      border-top-color: var(--fill-color);\n",
              "    }\n",
              "    30% {\n",
              "      border-color: transparent;\n",
              "      border-left-color: var(--fill-color);\n",
              "      border-top-color: var(--fill-color);\n",
              "      border-right-color: var(--fill-color);\n",
              "    }\n",
              "    40% {\n",
              "      border-color: transparent;\n",
              "      border-right-color: var(--fill-color);\n",
              "      border-top-color: var(--fill-color);\n",
              "    }\n",
              "    60% {\n",
              "      border-color: transparent;\n",
              "      border-right-color: var(--fill-color);\n",
              "    }\n",
              "    80% {\n",
              "      border-color: transparent;\n",
              "      border-right-color: var(--fill-color);\n",
              "      border-bottom-color: var(--fill-color);\n",
              "    }\n",
              "    90% {\n",
              "      border-color: transparent;\n",
              "      border-bottom-color: var(--fill-color);\n",
              "    }\n",
              "  }\n",
              "</style>\n",
              "\n",
              "  <script>\n",
              "    async function quickchart(key) {\n",
              "      const quickchartButtonEl =\n",
              "        document.querySelector('#' + key + ' button');\n",
              "      quickchartButtonEl.disabled = true;  // To prevent multiple clicks.\n",
              "      quickchartButtonEl.classList.add('colab-df-spinner');\n",
              "      try {\n",
              "        const charts = await google.colab.kernel.invokeFunction(\n",
              "            'suggestCharts', [key], {});\n",
              "      } catch (error) {\n",
              "        console.error('Error during call to suggestCharts:', error);\n",
              "      }\n",
              "      quickchartButtonEl.classList.remove('colab-df-spinner');\n",
              "      quickchartButtonEl.classList.add('colab-df-quickchart-complete');\n",
              "    }\n",
              "    (() => {\n",
              "      let quickchartButtonEl =\n",
              "        document.querySelector('#df-55ae040a-b8b8-487e-ae8b-3e716d0c4e9b button');\n",
              "      quickchartButtonEl.style.display =\n",
              "        google.colab.kernel.accessAllowed ? 'block' : 'none';\n",
              "    })();\n",
              "  </script>\n",
              "</div>\n",
              "    </div>\n",
              "  </div>\n"
            ]
          },
          "metadata": {},
          "execution_count": 96
        }
      ]
    },
    {
      "cell_type": "code",
      "source": [
        "#Make predictions using the trained model:\n",
        "predictions = model.predict(X_test)\n",
        "predictions\n",
        "\n"
      ],
      "metadata": {
        "colab": {
          "base_uri": "https://localhost:8080/"
        },
        "id": "uI0V5Im3hu91",
        "outputId": "acbf2966-ac98-476c-8258-a178c345ff4e"
      },
      "execution_count": 105,
      "outputs": [
        {
          "output_type": "stream",
          "name": "stdout",
          "text": [
            "1/1 [==============================] - 0s 40ms/step\n"
          ]
        },
        {
          "output_type": "execute_result",
          "data": {
            "text/plain": [
              "array([[28478.15 ],\n",
              "       [13935.091]], dtype=float32)"
            ]
          },
          "metadata": {},
          "execution_count": 105
        }
      ]
    },
    {
      "cell_type": "code",
      "source": [
        "# Visualize the training process\n",
        "plt.figure(figsize=(10, 6))\n",
        "plt.plot(history.history['loss'], label='Training Loss')\n",
        "plt.plot(history.history['val_loss'], label='Validation Loss')\n",
        "plt.xlabel('Epochs')\n",
        "plt.ylabel('Loss')\n",
        "plt.legend()\n",
        "plt.show()"
      ],
      "metadata": {
        "colab": {
          "base_uri": "https://localhost:8080/",
          "height": 557
        },
        "id": "Unf3zmWxk07C",
        "outputId": "61b3e3a9-14a3-4177-e483-da42aba44d01"
      },
      "execution_count": 86,
      "outputs": [
        {
          "output_type": "display_data",
          "data": {
            "text/plain": [
              "<Figure size 1000x600 with 1 Axes>"
            ],
            "image/png": "[encoded data removed]"
          },
          "metadata": {}
        }
      ]
    },
    {
      "cell_type": "code",
      "source": [
        "# Visualize the predictions vs. actual values\n",
        "plt.figure(figsize=(10, 6))\n",
        "plt.scatter(X_test, y_test, label='Actual')\n",
        "plt.scatter(X_test, predictions, label='Predicted')\n",
        "plt.xlabel('X')\n",
        "plt.ylabel('y')\n",
        "plt.legend()\n",
        "plt.show()"
      ],
      "metadata": {
        "colab": {
          "base_uri": "https://localhost:8080/",
          "height": 542
        },
        "id": "N0EfaitQk094",
        "outputId": "95d1d86d-6067-41c6-b18a-de94f6c38d0a"
      },
      "execution_count": 87,
      "outputs": [
        {
          "output_type": "display_data",
          "data": {
            "text/plain": [
              "<Figure size 1000x600 with 1 Axes>"
            ],
            "image/png": "[encoded data removed]"
          },
          "metadata": {}
        }
      ]
    },
    {
      "cell_type": "code",
      "source": [
        "# Visualize the predictions vs. actual values\n",
        "plt.figure(figsize=(10, 6))\n",
        "plt.scatter(X_test, y_test, label='Actual')\n",
        "plt.plot(X_test, predictions, color='red',label='Predicted')\n",
        "plt.xlabel('X')\n",
        "plt.ylabel('y')\n",
        "plt.legend()\n",
        "plt.show()"
      ],
      "metadata": {
        "colab": {
          "base_uri": "https://localhost:8080/",
          "height": 542
        },
        "id": "6QMVDPZ0Aiv9",
        "outputId": "5696f17f-041a-4388-fdbc-0f92905c77c1"
      },
      "execution_count": 88,
      "outputs": [
        {
          "output_type": "display_data",
          "data": {
            "text/plain": [
              "<Figure size 1000x600 with 1 Axes>"
            ],
            "image/png": "[encoded data removed]"
          },
          "metadata": {}
        }
      ]
    },
    {
      "cell_type": "code",
      "source": [
        "#Extract the model's weights (slope) and bias (intercept) from the trained model:\n",
        "slope = model.layers[0].get_weights()[0][0]  # Extract the slope\n",
        "intercept = model.layers[0].get_weights()[1][0]  # Extract the intercept\n"
      ],
      "metadata": {
        "id": "rJXeYdRk-zPS"
      },
      "execution_count": 89,
      "outputs": []
    },
    {
      "cell_type": "code",
      "source": [
        "slope"
      ],
      "metadata": {
        "colab": {
          "base_uri": "https://localhost:8080/"
        },
        "id": "Fao5A103_jgV",
        "outputId": "95193179-2adf-4014-8d24-ef967cc89c72"
      },
      "execution_count": 90,
      "outputs": [
        {
          "output_type": "execute_result",
          "data": {
            "text/plain": [
              "array([6547.787], dtype=float32)"
            ]
          },
          "metadata": {},
          "execution_count": 90
        }
      ]
    },
    {
      "cell_type": "code",
      "source": [
        "intercept"
      ],
      "metadata": {
        "colab": {
          "base_uri": "https://localhost:8080/"
        },
        "id": "VkQatDE5-z1e",
        "outputId": "bff594de-36a0-4939-ba79-ee7d61b4cb1f"
      },
      "execution_count": 91,
      "outputs": [
        {
          "output_type": "execute_result",
          "data": {
            "text/plain": [
              "21012.713"
            ]
          },
          "metadata": {},
          "execution_count": 91
        }
      ]
    },
    {
      "cell_type": "code",
      "source": [
        "#Plot the data points along with the regression line:\n",
        "import matplotlib.pyplot as plt\n",
        "\n",
        "# Plot the data points\n",
        "plt.scatter(X_test, y_test, label='Actual', alpha=0.7)\n",
        "\n",
        "# Generate x values for the regression line\n",
        "x_values = np.linspace(X_test.min(), X_test.max(), 100)\n",
        "\n",
        "# Calculate y values using the regression line equation (y = mx + b)\n",
        "y_values = slope * x_values + intercept\n",
        "\n",
        "# Plot the regression line\n",
        "plt.plot(x_values, y_values, color='red', label='Regression Line')\n",
        "\n",
        "plt.xlabel('X')\n",
        "plt.ylabel('y')\n",
        "plt.legend()\n",
        "plt.show()\n"
      ],
      "metadata": {
        "colab": {
          "base_uri": "https://localhost:8080/",
          "height": 449
        },
        "id": "0xumyP0w_wkg",
        "outputId": "5c7c0757-9370-4c34-8c3c-97f3d421e828"
      },
      "execution_count": 92,
      "outputs": [
        {
          "output_type": "display_data",
          "data": {
            "text/plain": [
              "<Figure size 640x480 with 1 Axes>"
            ],
            "image/png": "[encoded data removed]"
          },
          "metadata": {}
        }
      ]
    }
  ]
}