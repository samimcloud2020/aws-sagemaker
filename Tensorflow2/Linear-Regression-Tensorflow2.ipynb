{
  "nbformat": 4,
  "nbformat_minor": 0,
  "metadata": {
    "colab": {
      "provenance": []
    },
    "kernelspec": {
      "name": "python3",
      "display_name": "Python 3"
    },
    "language_info": {
      "name": "python"
    }
  },
  "cells": [
    {
      "cell_type": "code",
      "execution_count": 251,
      "metadata": {
        "id": "3-hzua70SSYp"
      },
      "outputs": [],
      "source": [
        "#from google.colab import files\n",
        "#uploaded = files.upload()"
      ]
    },
    {
      "cell_type": "code",
      "source": [
        "!ls\n"
      ],
      "metadata": {
        "colab": {
          "base_uri": "https://localhost:8080/"
        },
        "id": "9Oegg_ePV_GM",
        "outputId": "8212a2c9-37c8-4490-e1ad-60a5e446a28c"
      },
      "execution_count": 252,
      "outputs": [
        {
          "output_type": "stream",
          "name": "stdout",
          "text": [
            "insurance.csv  sample_data\n"
          ]
        }
      ]
    },
    {
      "cell_type": "code",
      "source": [
        "import pandas as pd\n",
        "import numpy as np\n",
        "import seaborn as sns\n",
        "import matplotlib.pyplot as plt\n",
        "import tensorflow as tf\n",
        "from tensorflow import keras\n",
        "from tensorflow.keras import layers\n",
        "from sklearn.model_selection import train_test_split\n",
        "from sklearn.preprocessing import StandardScaler\n",
        "\n",
        "import warnings\n",
        "warnings.filterwarnings('ignore')\n",
        "# read the csv file\n",
        "data = pd.read_csv('insurance.csv').to_numpy()\n",
        "data"
      ],
      "metadata": {
        "colab": {
          "base_uri": "https://localhost:8080/"
        },
        "id": "J2XGJ6f-WSES",
        "outputId": "d854f848-57ac-4067-c454-022d75d706e0"
      },
      "execution_count": 253,
      "outputs": [
        {
          "output_type": "execute_result",
          "data": {
            "text/plain": [
              "array([[   18, 10000],\n",
              "       [   22, 15000],\n",
              "       [   23, 18000],\n",
              "       [   26, 21000],\n",
              "       [   28, 24000],\n",
              "       [   31, 26500],\n",
              "       [   33, 27000],\n",
              "       [   35, 30000],\n",
              "       [   37, 33000],\n",
              "       [   40, 37000]])"
            ]
          },
          "metadata": {},
          "execution_count": 253
        }
      ]
    },
    {
      "cell_type": "code",
      "source": [
        "X = data[:,0].reshape(-1,1)   #reshape to making N * D\n",
        "Y = data[:,1]"
      ],
      "metadata": {
        "id": "LwForzbVzHOI"
      },
      "execution_count": 254,
      "outputs": []
    },
    {
      "cell_type": "code",
      "source": [
        "X"
      ],
      "metadata": {
        "id": "9cazJtkZzh9_",
        "outputId": "60554443-f28e-450f-81d1-bfe2f29a1c1c",
        "colab": {
          "base_uri": "https://localhost:8080/"
        }
      },
      "execution_count": 255,
      "outputs": [
        {
          "output_type": "execute_result",
          "data": {
            "text/plain": [
              "array([[18],\n",
              "       [22],\n",
              "       [23],\n",
              "       [26],\n",
              "       [28],\n",
              "       [31],\n",
              "       [33],\n",
              "       [35],\n",
              "       [37],\n",
              "       [40]])"
            ]
          },
          "metadata": {},
          "execution_count": 255
        }
      ]
    },
    {
      "cell_type": "code",
      "source": [
        "plt.scatter(X, Y)\n",
        "plt.show()"
      ],
      "metadata": {
        "colab": {
          "base_uri": "https://localhost:8080/",
          "height": 430
        },
        "id": "CFQgWK9ThueU",
        "outputId": "425d88a3-7c57-44cf-dca5-317e802a4c9c"
      },
      "execution_count": 256,
      "outputs": [
        {
          "output_type": "display_data",
          "data": {
            "text/plain": [
              "<Figure size 640x480 with 1 Axes>"
            ],
            "image/png": "[encoded data removed]"
          },
          "metadata": {}
        }
      ]
    },
    {
      "cell_type": "code",
      "source": [
        "#Standardize your features (optional but recommended):\n",
        "scaler = StandardScaler()\n",
        "X = scaler.fit_transform(X)\n",
        "X"
      ],
      "metadata": {
        "id": "9Z3iAxeizWDD",
        "outputId": "cb6adbdb-3c11-426a-b6af-b4c77b7e22bf",
        "colab": {
          "base_uri": "https://localhost:8080/"
        }
      },
      "execution_count": 257,
      "outputs": [
        {
          "output_type": "execute_result",
          "data": {
            "text/plain": [
              "array([[-1.67320212],\n",
              "       [-1.08091819],\n",
              "       [-0.9328472 ],\n",
              "       [-0.48863425],\n",
              "       [-0.19249228],\n",
              "       [ 0.25172067],\n",
              "       [ 0.54786264],\n",
              "       [ 0.84400461],\n",
              "       [ 1.14014658],\n",
              "       [ 1.58435953]])"
            ]
          },
          "metadata": {},
          "execution_count": 257
        }
      ]
    },
    {
      "cell_type": "code",
      "source": [
        "#Split your data into training and testing sets:\n",
        "X_train, X_test, y_train, y_test = train_test_split(X, Y, test_size=0.2, random_state=42)\n"
      ],
      "metadata": {
        "id": "WS-1syGEzWFz"
      },
      "execution_count": 258,
      "outputs": []
    },
    {
      "cell_type": "code",
      "source": [
        "#Create a linear regression model using TensorFlow:\n",
        "model = tf.keras.Sequential([\n",
        "    tf.keras.layers.Input(shape=(1,)),  # Input layer with one feature\n",
        "    tf.keras.layers.Dense(1)  # Output layer with one neuron for linear regression\n",
        "])\n",
        "\n",
        "# Compile the model\n",
        "model.compile(optimizer='SGD', loss='mean_squared_error')  # You can choose a different optimizer and loss function if needed\n",
        "\n",
        "\n",
        "\n",
        "#model.compile(loss='mean_squared_error', optimizer=tf.keras.optimizers.Adam(0.0001))\n",
        "\n",
        "\n",
        "#optimizer\n",
        "#'Adagrad', 'Adam', 'Ftrl', 'RMSProp', 'SGD'"
      ],
      "metadata": {
        "id": "5xQ-jcCrz1wh"
      },
      "execution_count": 259,
      "outputs": []
    },
    {
      "cell_type": "code",
      "source": [
        "model.summary()\n"
      ],
      "metadata": {
        "id": "O3pXUKUB0Ozf",
        "outputId": "ce991648-13f9-4ce1-dbe0-102c71076543",
        "colab": {
          "base_uri": "https://localhost:8080/"
        }
      },
      "execution_count": 260,
      "outputs": [
        {
          "output_type": "stream",
          "name": "stdout",
          "text": [
            "Model: \"sequential_17\"\n",
            "_________________________________________________________________\n",
            " Layer (type)                Output Shape              Param #   \n",
            "=================================================================\n",
            " dense_17 (Dense)            (None, 1)                 2         \n",
            "                                                                 \n",
            "=================================================================\n",
            "Total params: 2 (8.00 Byte)\n",
            "Trainable params: 2 (8.00 Byte)\n",
            "Non-trainable params: 0 (0.00 Byte)\n",
            "_________________________________________________________________\n"
          ]
        }
      ]
    },
    {
      "cell_type": "code",
      "source": [
        "#Train the linear regression model:\n",
        "history = model.fit(X_train, y_train, epochs=100, batch_size=32, validation_data=(X_test, y_test))"
      ],
      "metadata": {
        "id": "s6efIY35z1zd",
        "outputId": "ddcc41de-1f94-4055-c0b0-41db754c2417",
        "colab": {
          "base_uri": "https://localhost:8080/"
        }
      },
      "execution_count": 261,
      "outputs": [
        {
          "output_type": "stream",
          "name": "stdout",
          "text": [
            "Epoch 1/100\n",
            "1/1 [==============================] - 0s 484ms/step - loss: 642633984.0000 - val_loss: 630959872.0000\n",
            "Epoch 2/100\n",
            "1/1 [==============================] - 0s 44ms/step - loss: 617454848.0000 - val_loss: 605977984.0000\n",
            "Epoch 3/100\n",
            "1/1 [==============================] - 0s 55ms/step - loss: 593264320.0000 - val_loss: 581980672.0000\n",
            "Epoch 4/100\n",
            "1/1 [==============================] - 0s 41ms/step - loss: 570023424.0000 - val_loss: 558929216.0000\n",
            "Epoch 5/100\n",
            "1/1 [==============================] - 0s 39ms/step - loss: 547694912.0000 - val_loss: 536786432.0000\n",
            "Epoch 6/100\n",
            "1/1 [==============================] - 0s 37ms/step - loss: 526242880.0000 - val_loss: 515516576.0000\n",
            "Epoch 7/100\n",
            "1/1 [==============================] - 0s 41ms/step - loss: 505632960.0000 - val_loss: 495085344.0000\n",
            "Epoch 8/100\n",
            "1/1 [==============================] - 0s 38ms/step - loss: 485832192.0000 - val_loss: 475459776.0000\n",
            "Epoch 9/100\n",
            "1/1 [==============================] - 0s 41ms/step - loss: 466808640.0000 - val_loss: 456608064.0000\n",
            "Epoch 10/100\n",
            "1/1 [==============================] - 0s 36ms/step - loss: 448531776.0000 - val_loss: 438500000.0000\n",
            "Epoch 11/100\n",
            "1/1 [==============================] - 0s 39ms/step - loss: 430972416.0000 - val_loss: 421106112.0000\n",
            "Epoch 12/100\n",
            "1/1 [==============================] - 0s 56ms/step - loss: 414102272.0000 - val_loss: 404398528.0000\n",
            "Epoch 13/100\n",
            "1/1 [==============================] - 0s 39ms/step - loss: 397894272.0000 - val_loss: 388350016.0000\n",
            "Epoch 14/100\n",
            "1/1 [==============================] - 0s 43ms/step - loss: 382322464.0000 - val_loss: 372934880.0000\n",
            "Epoch 15/100\n",
            "1/1 [==============================] - 0s 51ms/step - loss: 367361856.0000 - val_loss: 358128000.0000\n",
            "Epoch 16/100\n",
            "1/1 [==============================] - 0s 51ms/step - loss: 352988448.0000 - val_loss: 343905664.0000\n",
            "Epoch 17/100\n",
            "1/1 [==============================] - 0s 40ms/step - loss: 339179136.0000 - val_loss: 330244704.0000\n",
            "Epoch 18/100\n",
            "1/1 [==============================] - 0s 38ms/step - loss: 325911808.0000 - val_loss: 317123072.0000\n",
            "Epoch 19/100\n",
            "1/1 [==============================] - 0s 38ms/step - loss: 313165184.0000 - val_loss: 304519648.0000\n",
            "Epoch 20/100\n",
            "1/1 [==============================] - 0s 39ms/step - loss: 300918816.0000 - val_loss: 292413888.0000\n",
            "Epoch 21/100\n",
            "1/1 [==============================] - 0s 37ms/step - loss: 289153024.0000 - val_loss: 280786304.0000\n",
            "Epoch 22/100\n",
            "1/1 [==============================] - 0s 48ms/step - loss: 277848992.0000 - val_loss: 269618080.0000\n",
            "Epoch 23/100\n",
            "1/1 [==============================] - 0s 45ms/step - loss: 266988576.0000 - val_loss: 258891136.0000\n",
            "Epoch 24/100\n",
            "1/1 [==============================] - 0s 46ms/step - loss: 256554336.0000 - val_loss: 248588096.0000\n",
            "Epoch 25/100\n",
            "1/1 [==============================] - 0s 47ms/step - loss: 246529552.0000 - val_loss: 238692240.0000\n",
            "Epoch 26/100\n",
            "1/1 [==============================] - 0s 46ms/step - loss: 236898176.0000 - val_loss: 229187520.0000\n",
            "Epoch 27/100\n",
            "1/1 [==============================] - 0s 52ms/step - loss: 227644704.0000 - val_loss: 220058624.0000\n",
            "Epoch 28/100\n",
            "1/1 [==============================] - 0s 38ms/step - loss: 218754336.0000 - val_loss: 211290752.0000\n",
            "Epoch 29/100\n",
            "1/1 [==============================] - 0s 35ms/step - loss: 210212800.0000 - val_loss: 202869568.0000\n",
            "Epoch 30/100\n",
            "1/1 [==============================] - 0s 49ms/step - loss: 202006432.0000 - val_loss: 194781568.0000\n",
            "Epoch 31/100\n",
            "1/1 [==============================] - 0s 46ms/step - loss: 194122048.0000 - val_loss: 187013536.0000\n",
            "Epoch 32/100\n",
            "1/1 [==============================] - 0s 46ms/step - loss: 186547008.0000 - val_loss: 179552928.0000\n",
            "Epoch 33/100\n",
            "1/1 [==============================] - 0s 46ms/step - loss: 179269184.0000 - val_loss: 172387616.0000\n",
            "Epoch 34/100\n",
            "1/1 [==============================] - 0s 46ms/step - loss: 172276896.0000 - val_loss: 165505984.0000\n",
            "Epoch 35/100\n",
            "1/1 [==============================] - 0s 46ms/step - loss: 165558960.0000 - val_loss: 158896784.0000\n",
            "Epoch 36/100\n",
            "1/1 [==============================] - 0s 66ms/step - loss: 159104576.0000 - val_loss: 152549344.0000\n",
            "Epoch 37/100\n",
            "1/1 [==============================] - 0s 60ms/step - loss: 152903408.0000 - val_loss: 146453344.0000\n",
            "Epoch 38/100\n",
            "1/1 [==============================] - 0s 48ms/step - loss: 146945504.0000 - val_loss: 140598912.0000\n",
            "Epoch 39/100\n",
            "1/1 [==============================] - 0s 49ms/step - loss: 141221328.0000 - val_loss: 134976432.0000\n",
            "Epoch 40/100\n",
            "1/1 [==============================] - 0s 49ms/step - loss: 135721728.0000 - val_loss: 129576864.0000\n",
            "Epoch 41/100\n",
            "1/1 [==============================] - 0s 45ms/step - loss: 130437848.0000 - val_loss: 124391352.0000\n",
            "Epoch 42/100\n",
            "1/1 [==============================] - 0s 44ms/step - loss: 125361232.0000 - val_loss: 119411504.0000\n",
            "Epoch 43/100\n",
            "1/1 [==============================] - 0s 46ms/step - loss: 120483776.0000 - val_loss: 114629168.0000\n",
            "Epoch 44/100\n",
            "1/1 [==============================] - 0s 52ms/step - loss: 115797640.0000 - val_loss: 110036608.0000\n",
            "Epoch 45/100\n",
            "1/1 [==============================] - 0s 42ms/step - loss: 111295328.0000 - val_loss: 105626312.0000\n",
            "Epoch 46/100\n",
            "1/1 [==============================] - 0s 42ms/step - loss: 106969600.0000 - val_loss: 101391056.0000\n",
            "Epoch 47/100\n",
            "1/1 [==============================] - 0s 44ms/step - loss: 102813536.0000 - val_loss: 97324016.0000\n",
            "Epoch 48/100\n",
            "1/1 [==============================] - 0s 43ms/step - loss: 98820520.0000 - val_loss: 93418472.0000\n",
            "Epoch 49/100\n",
            "1/1 [==============================] - 0s 52ms/step - loss: 94984080.0000 - val_loss: 89668120.0000\n",
            "Epoch 50/100\n",
            "1/1 [==============================] - 0s 53ms/step - loss: 91298128.0000 - val_loss: 86066800.0000\n",
            "Epoch 51/100\n",
            "1/1 [==============================] - 0s 43ms/step - loss: 87756736.0000 - val_loss: 82608648.0000\n",
            "Epoch 52/100\n",
            "1/1 [==============================] - 0s 45ms/step - loss: 84354224.0000 - val_loss: 79287968.0000\n",
            "Epoch 53/100\n",
            "1/1 [==============================] - 0s 45ms/step - loss: 81085168.0000 - val_loss: 76099400.0000\n",
            "Epoch 54/100\n",
            "1/1 [==============================] - 0s 48ms/step - loss: 77944320.0000 - val_loss: 73037696.0000\n",
            "Epoch 55/100\n",
            "1/1 [==============================] - 0s 53ms/step - loss: 74926640.0000 - val_loss: 70097848.0000\n",
            "Epoch 56/100\n",
            "1/1 [==============================] - 0s 50ms/step - loss: 72027296.0000 - val_loss: 67275032.0000\n",
            "Epoch 57/100\n",
            "1/1 [==============================] - 0s 62ms/step - loss: 69241656.0000 - val_loss: 64564636.0000\n",
            "Epoch 58/100\n",
            "1/1 [==============================] - 0s 68ms/step - loss: 66565232.0000 - val_loss: 61962232.0000\n",
            "Epoch 59/100\n",
            "1/1 [==============================] - 0s 47ms/step - loss: 63993784.0000 - val_loss: 59463528.0000\n",
            "Epoch 60/100\n",
            "1/1 [==============================] - 0s 49ms/step - loss: 61523156.0000 - val_loss: 57064444.0000\n",
            "Epoch 61/100\n",
            "1/1 [==============================] - 0s 48ms/step - loss: 59149424.0000 - val_loss: 54761036.0000\n",
            "Epoch 62/100\n",
            "1/1 [==============================] - 0s 51ms/step - loss: 56868756.0000 - val_loss: 52549532.0000\n",
            "Epoch 63/100\n",
            "1/1 [==============================] - 0s 43ms/step - loss: 54677528.0000 - val_loss: 50426292.0000\n",
            "Epoch 64/100\n",
            "1/1 [==============================] - 0s 54ms/step - loss: 52572196.0000 - val_loss: 48387804.0000\n",
            "Epoch 65/100\n",
            "1/1 [==============================] - 0s 49ms/step - loss: 50549420.0000 - val_loss: 46430736.0000\n",
            "Epoch 66/100\n",
            "1/1 [==============================] - 0s 66ms/step - loss: 48605944.0000 - val_loss: 44551860.0000\n",
            "Epoch 67/100\n",
            "1/1 [==============================] - 0s 48ms/step - loss: 46738656.0000 - val_loss: 42748124.0000\n",
            "Epoch 68/100\n",
            "1/1 [==============================] - 0s 40ms/step - loss: 44944604.0000 - val_loss: 41016472.0000\n",
            "Epoch 69/100\n",
            "1/1 [==============================] - 0s 40ms/step - loss: 43220868.0000 - val_loss: 39354128.0000\n",
            "Epoch 70/100\n",
            "1/1 [==============================] - 0s 38ms/step - loss: 41564716.0000 - val_loss: 37758320.0000\n",
            "Epoch 71/100\n",
            "1/1 [==============================] - 0s 36ms/step - loss: 39973496.0000 - val_loss: 36226380.0000\n",
            "Epoch 72/100\n",
            "1/1 [==============================] - 0s 36ms/step - loss: 38444640.0000 - val_loss: 34755836.0000\n",
            "Epoch 73/100\n",
            "1/1 [==============================] - 0s 36ms/step - loss: 36975720.0000 - val_loss: 33344202.0000\n",
            "Epoch 74/100\n",
            "1/1 [==============================] - 0s 37ms/step - loss: 35564388.0000 - val_loss: 31989192.0000\n",
            "Epoch 75/100\n",
            "1/1 [==============================] - 0s 40ms/step - loss: 34208376.0000 - val_loss: 30688506.0000\n",
            "Epoch 76/100\n",
            "1/1 [==============================] - 0s 54ms/step - loss: 32905510.0000 - val_loss: 29440052.0000\n",
            "Epoch 77/100\n",
            "1/1 [==============================] - 0s 51ms/step - loss: 31653710.0000 - val_loss: 28241718.0000\n",
            "Epoch 78/100\n",
            "1/1 [==============================] - 0s 41ms/step - loss: 30450988.0000 - val_loss: 27091524.0000\n",
            "Epoch 79/100\n",
            "1/1 [==============================] - 0s 36ms/step - loss: 29295390.0000 - val_loss: 25987570.0000\n",
            "Epoch 80/100\n",
            "1/1 [==============================] - 0s 41ms/step - loss: 28185106.0000 - val_loss: 24928024.0000\n",
            "Epoch 81/100\n",
            "1/1 [==============================] - 0s 41ms/step - loss: 27118334.0000 - val_loss: 23911100.0000\n",
            "Epoch 82/100\n",
            "1/1 [==============================] - 0s 40ms/step - loss: 26093366.0000 - val_loss: 22935138.0000\n",
            "Epoch 83/100\n",
            "1/1 [==============================] - 0s 44ms/step - loss: 25108590.0000 - val_loss: 21998484.0000\n",
            "Epoch 84/100\n",
            "1/1 [==============================] - 0s 42ms/step - loss: 24162388.0000 - val_loss: 21099588.0000\n",
            "Epoch 85/100\n",
            "1/1 [==============================] - 0s 42ms/step - loss: 23253282.0000 - val_loss: 20236944.0000\n",
            "Epoch 86/100\n",
            "1/1 [==============================] - 0s 51ms/step - loss: 22379794.0000 - val_loss: 19409122.0000\n",
            "Epoch 87/100\n",
            "1/1 [==============================] - 0s 41ms/step - loss: 21540540.0000 - val_loss: 18614722.0000\n",
            "Epoch 88/100\n",
            "1/1 [==============================] - 0s 40ms/step - loss: 20734168.0000 - val_loss: 17852428.0000\n",
            "Epoch 89/100\n",
            "1/1 [==============================] - 0s 42ms/step - loss: 19959406.0000 - val_loss: 17120972.0000\n",
            "Epoch 90/100\n",
            "1/1 [==============================] - 0s 39ms/step - loss: 19215004.0000 - val_loss: 16419087.0000\n",
            "Epoch 91/100\n",
            "1/1 [==============================] - 0s 38ms/step - loss: 18499762.0000 - val_loss: 15745634.0000\n",
            "Epoch 92/100\n",
            "1/1 [==============================] - 0s 35ms/step - loss: 17812544.0000 - val_loss: 15099468.0000\n",
            "Epoch 93/100\n",
            "1/1 [==============================] - 0s 37ms/step - loss: 17152268.0000 - val_loss: 14479506.0000\n",
            "Epoch 94/100\n",
            "1/1 [==============================] - 0s 43ms/step - loss: 16517853.0000 - val_loss: 13884692.0000\n",
            "Epoch 95/100\n",
            "1/1 [==============================] - 0s 61ms/step - loss: 15908306.0000 - val_loss: 13314040.0000\n",
            "Epoch 96/100\n",
            "1/1 [==============================] - 0s 36ms/step - loss: 15322636.0000 - val_loss: 12766574.0000\n",
            "Epoch 97/100\n",
            "1/1 [==============================] - 0s 39ms/step - loss: 14759909.0000 - val_loss: 12241372.0000\n",
            "Epoch 98/100\n",
            "1/1 [==============================] - 0s 37ms/step - loss: 14219232.0000 - val_loss: 11737547.0000\n",
            "Epoch 99/100\n",
            "1/1 [==============================] - 0s 54ms/step - loss: 13699736.0000 - val_loss: 11254234.0000\n",
            "Epoch 100/100\n",
            "1/1 [==============================] - 0s 34ms/step - loss: 13200587.0000 - val_loss: 10790633.0000\n"
          ]
        }
      ]
    },
    {
      "cell_type": "code",
      "source": [
        "#Evaluate the model:\n",
        "loss = model.evaluate(X_test, y_test)\n",
        "print(\"Test Loss:\", loss)"
      ],
      "metadata": {
        "id": "nsfNNzDa0MYs",
        "outputId": "a972b0eb-6a17-441c-8111-7400691200c6",
        "colab": {
          "base_uri": "https://localhost:8080/"
        }
      },
      "execution_count": 262,
      "outputs": [
        {
          "output_type": "stream",
          "name": "stdout",
          "text": [
            "1/1 [==============================] - 0s 26ms/step - loss: 10790633.0000\n",
            "Test Loss: 10790633.0\n"
          ]
        }
      ]
    },
    {
      "cell_type": "code",
      "source": [
        "X_test"
      ],
      "metadata": {
        "id": "HYDnEXKSz19a",
        "outputId": "2cab672c-6d11-4b29-c0db-656cb0ee1f50",
        "colab": {
          "base_uri": "https://localhost:8080/"
        }
      },
      "execution_count": 263,
      "outputs": [
        {
          "output_type": "execute_result",
          "data": {
            "text/plain": [
              "array([[ 1.14014658],\n",
              "       [-1.08091819]])"
            ]
          },
          "metadata": {},
          "execution_count": 263
        }
      ]
    },
    {
      "cell_type": "code",
      "source": [
        "#Make predictions using the trained model:\n",
        "predictions = model.predict(X_test)\n",
        "predictions"
      ],
      "metadata": {
        "id": "r5qONr61zWJL",
        "outputId": "6ae4c4aa-e105-4f0d-ea55-f3ea8c865b71",
        "colab": {
          "base_uri": "https://localhost:8080/"
        }
      },
      "execution_count": 264,
      "outputs": [
        {
          "output_type": "stream",
          "name": "stdout",
          "text": [
            "1/1 [==============================] - 0s 48ms/step\n"
          ]
        },
        {
          "output_type": "execute_result",
          "data": {
            "text/plain": [
              "array([[28478.135],\n",
              "       [13935.105]], dtype=float32)"
            ]
          },
          "metadata": {},
          "execution_count": 264
        }
      ]
    },
    {
      "cell_type": "code",
      "source": [
        "# Visualize the training process\n",
        "plt.figure(figsize=(10, 6))\n",
        "plt.plot(history.history['loss'], label='Training Loss')\n",
        "plt.plot(history.history['val_loss'], label='Validation Loss')\n",
        "plt.xlabel('Epochs')\n",
        "plt.ylabel('Loss')\n",
        "plt.legend()\n",
        "plt.show()"
      ],
      "metadata": {
        "id": "1_zfmESI1OlH",
        "outputId": "b5e5943a-f0aa-450a-e62e-5e81b8ed6793",
        "colab": {
          "base_uri": "https://localhost:8080/",
          "height": 557
        }
      },
      "execution_count": 265,
      "outputs": [
        {
          "output_type": "display_data",
          "data": {
            "text/plain": [
              "<Figure size 1000x600 with 1 Axes>"
            ],
            "image/png": "[encoded data removed]"
          },
          "metadata": {}
        }
      ]
    },
    {
      "cell_type": "code",
      "source": [
        "# Visualize the predictions vs. actual values\n",
        "plt.figure(figsize=(10, 6))\n",
        "plt.scatter(X_test, y_test, label='Actual')\n",
        "plt.scatter(X_test, predictions, label='Predicted')\n",
        "plt.xlabel('X')\n",
        "plt.ylabel('y')\n",
        "plt.legend()\n",
        "plt.show()\n",
        ""
      ],
      "metadata": {
        "id": "1ervFtwt4it0",
        "outputId": "9a7c1a01-15ab-4f48-f852-07b7725cc4e7",
        "colab": {
          "base_uri": "https://localhost:8080/",
          "height": 542
        }
      },
      "execution_count": 266,
      "outputs": [
        {
          "output_type": "display_data",
          "data": {
            "text/plain": [
              "<Figure size 1000x600 with 1 Axes>"
            ],
            "image/png": "[encoded data removed]"
          },
          "metadata": {}
        }
      ]
    }
  ]
}